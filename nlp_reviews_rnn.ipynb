{
 "cells": [
  {
   "cell_type": "code",
   "execution_count": 1,
   "metadata": {},
   "outputs": [],
   "source": [
    "import pandas as pd\n",
    "import numpy as np\n",
    "import tensorflow as tf \n",
    "\n",
    "from tensorflow.keras.preprocessing.sequence import pad_sequences\n",
    "\n",
    "import tensorflow_datasets as tfds\n",
    "\n",
    "import matplotlib.pyplot as plt"
   ]
  },
  {
   "cell_type": "code",
   "execution_count": 2,
   "metadata": {},
   "outputs": [],
   "source": [
    "np.random.seed(0)"
   ]
  },
  {
   "cell_type": "code",
   "execution_count": 3,
   "metadata": {},
   "outputs": [
    {
     "data": {
      "text/html": [
       "<div>\n",
       "<style scoped>\n",
       "    .dataframe tbody tr th:only-of-type {\n",
       "        vertical-align: middle;\n",
       "    }\n",
       "\n",
       "    .dataframe tbody tr th {\n",
       "        vertical-align: top;\n",
       "    }\n",
       "\n",
       "    .dataframe thead th {\n",
       "        text-align: right;\n",
       "    }\n",
       "</style>\n",
       "<table border=\"1\" class=\"dataframe\">\n",
       "  <thead>\n",
       "    <tr style=\"text-align: right;\">\n",
       "      <th></th>\n",
       "      <th>text</th>\n",
       "      <th>sentiment</th>\n",
       "    </tr>\n",
       "  </thead>\n",
       "  <tbody>\n",
       "    <tr>\n",
       "      <th>1804</th>\n",
       "      <td>This place is overpriced not consistent with t...</td>\n",
       "      <td>0</td>\n",
       "    </tr>\n",
       "    <tr>\n",
       "      <th>1311</th>\n",
       "      <td>All the bread is made in-house!</td>\n",
       "      <td>1</td>\n",
       "    </tr>\n",
       "    <tr>\n",
       "      <th>960</th>\n",
       "      <td>I exchanged the sony ericson z500a for this an...</td>\n",
       "      <td>1</td>\n",
       "    </tr>\n",
       "  </tbody>\n",
       "</table>\n",
       "</div>"
      ],
      "text/plain": [
       "                                                   text  sentiment\n",
       "1804  This place is overpriced not consistent with t...          0\n",
       "1311                    All the bread is made in-house!          1\n",
       "960   I exchanged the sony ericson z500a for this an...          1"
      ]
     },
     "execution_count": 3,
     "metadata": {},
     "output_type": "execute_result"
    }
   ],
   "source": [
    "data = pd.read_csv('data/combined_data.csv', index_col=0)\n",
    "data.sample(3)"
   ]
  },
  {
   "cell_type": "code",
   "execution_count": 4,
   "metadata": {},
   "outputs": [],
   "source": [
    "sentences = data['text'].tolist()\n",
    "labels = data['sentiment'].tolist()"
   ]
  },
  {
   "cell_type": "code",
   "execution_count": 5,
   "metadata": {},
   "outputs": [],
   "source": [
    "vocab_size = 1000"
   ]
  },
  {
   "cell_type": "code",
   "execution_count": 6,
   "metadata": {},
   "outputs": [],
   "source": [
    "tokenizer = tfds.features.text.SubwordTextEncoder.build_from_corpus(sentences, vocab_size, max_subword_length = 5)"
   ]
  },
  {
   "cell_type": "code",
   "execution_count": 7,
   "metadata": {},
   "outputs": [
    {
     "data": {
      "text/plain": [
       "999"
      ]
     },
     "execution_count": 7,
     "metadata": {},
     "output_type": "execute_result"
    }
   ],
   "source": [
    "tokenizer.vocab_size"
   ]
  },
  {
   "cell_type": "code",
   "execution_count": 8,
   "metadata": {},
   "outputs": [
    {
     "name": "stdout",
     "output_type": "stream",
     "text": [
      "I have to jiggle the plug to get it to line up right to get decent volume.\n"
     ]
    }
   ],
   "source": [
    "print(sentences[5])"
   ]
  },
  {
   "cell_type": "code",
   "execution_count": 9,
   "metadata": {},
   "outputs": [
    {
     "name": "stdout",
     "output_type": "stream",
     "text": [
      "[4, 31, 6, 849, 162, 450, 12, 1, 600, 438, 775, 6, 175, 14, 6, 55, 213, 159, 474, 775, 6, 175, 614, 380, 295, 148, 72, 789]\n"
     ]
    }
   ],
   "source": [
    "encoded = tokenizer.encode(sentences[5])\n",
    "print(encoded)"
   ]
  },
  {
   "cell_type": "code",
   "execution_count": 10,
   "metadata": {},
   "outputs": [
    {
     "name": "stdout",
     "output_type": "stream",
     "text": [
      "I  4\n",
      "have  31\n",
      "to  6\n",
      "j 849\n",
      "ig 162\n",
      "gl 450\n",
      "e  12\n",
      "the  1\n",
      "pl 600\n",
      "ug 438\n",
      "  775\n",
      "to  6\n",
      "get  175\n",
      "it  14\n",
      "to  6\n",
      "li 55\n",
      "ne  213\n",
      "up  159\n",
      "right 474\n",
      "  775\n",
      "to  6\n",
      "get  175\n",
      "dec 614\n",
      "ent  380\n",
      "vo 295\n",
      "lu 148\n",
      "me 72\n",
      ". 789\n"
     ]
    }
   ],
   "source": [
    "for en in encoded:\n",
    "    print(tokenizer.decode([en]), en)"
   ]
  },
  {
   "cell_type": "markdown",
   "metadata": {},
   "source": [
    "## Replace sentence data with encoded subwords"
   ]
  },
  {
   "cell_type": "code",
   "execution_count": 11,
   "metadata": {},
   "outputs": [],
   "source": [
    "for i ,sentence in enumerate(sentences):\n",
    "    sentences[i] = tokenizer.encode(sentence)"
   ]
  },
  {
   "cell_type": "code",
   "execution_count": 12,
   "metadata": {},
   "outputs": [
    {
     "data": {
      "text/plain": [
       "[625, 677, 626, 274, 380, 633, 148, 844, 789]"
      ]
     },
     "execution_count": 12,
     "metadata": {},
     "output_type": "execute_result"
    }
   ],
   "source": [
    "sentences[1]"
   ]
  },
  {
   "cell_type": "markdown",
   "metadata": {},
   "source": [
    "## Pre-Processing"
   ]
  },
  {
   "cell_type": "code",
   "execution_count": 13,
   "metadata": {},
   "outputs": [],
   "source": [
    "max_length =50\n"
   ]
  },
  {
   "cell_type": "code",
   "execution_count": 14,
   "metadata": {},
   "outputs": [
    {
     "data": {
      "text/plain": [
       "array([625, 677, 626, 274, 380, 633, 148, 844, 789,   0,   0,   0,   0,\n",
       "         0,   0,   0,   0,   0,   0,   0,   0,   0,   0,   0,   0,   0,\n",
       "         0,   0,   0,   0,   0,   0,   0,   0,   0,   0,   0,   0,   0,\n",
       "         0,   0,   0,   0,   0,   0,   0,   0,   0,   0,   0], dtype=int32)"
      ]
     },
     "execution_count": 14,
     "metadata": {},
     "output_type": "execute_result"
    }
   ],
   "source": [
    "# pad sequnces\n",
    "padded_sequences = pad_sequences(sentences, maxlen=max_length, padding='post', truncating='post')\n",
    "\n",
    "padded_sequences[1]"
   ]
  },
  {
   "cell_type": "markdown",
   "metadata": {},
   "source": [
    "## Split into test and train data"
   ]
  },
  {
   "cell_type": "code",
   "execution_count": 15,
   "metadata": {},
   "outputs": [],
   "source": [
    "split_index = int(len(padded_sequences)*0.8)"
   ]
  },
  {
   "cell_type": "code",
   "execution_count": 16,
   "metadata": {},
   "outputs": [],
   "source": [
    "train_seq = padded_sequences[0: split_index]\n",
    "test_seq = padded_sequences[split_index: ]"
   ]
  },
  {
   "cell_type": "code",
   "execution_count": 17,
   "metadata": {},
   "outputs": [],
   "source": [
    "train_label = labels[0: split_index]\n",
    "test_label = labels[split_index: ]"
   ]
  },
  {
   "cell_type": "code",
   "execution_count": 18,
   "metadata": {},
   "outputs": [],
   "source": [
    "train_label = np.array(train_label)\n",
    "test_label = np.array(test_label)"
   ]
  },
  {
   "cell_type": "markdown",
   "metadata": {},
   "source": [
    "## Write Generic method to train model and output results"
   ]
  },
  {
   "cell_type": "code",
   "execution_count": 19,
   "metadata": {},
   "outputs": [],
   "source": [
    "EPOCHS = 30\n",
    "    \n",
    "def fit_model_show_results(model):\n",
    "    history = fit_model(model)\n",
    "    \n",
    "    plot_results(history)\n",
    "    \n",
    "\n",
    "def plot_results(history):\n",
    "    \n",
    "    loss = history.history['loss']\n",
    "    val_loss = history.history['val_loss']\n",
    "\n",
    "    acc = history.history['val_loss']\n",
    "    val_accuracy = history.history['val_accuracy']\n",
    "\n",
    "    x_rng = range(0, EPOCHS)\n",
    "    \n",
    "    plt.plot(x_rng, loss, label ='Training Loss')\n",
    "    plt.plot(x_rng, val_loss, label ='Validation Loss')\n",
    "\n",
    "    plt.legend()\n",
    "    plt.show()\n",
    "    \n",
    "    plt.plot(x_rng, acc, label ='Training Accuracy')\n",
    "    plt.plot(x_rng, val_accuracy, label ='Validation Accuracy')\n",
    "\n",
    "    plt.legend()\n",
    "    plt.show()\n",
    "    \n",
    "    \n",
    "def fit_model(model):\n",
    "    \n",
    "    model.compile(loss = tf.keras.losses.SparseCategoricalCrossentropy(), \n",
    "             metrics=['accuracy'], \n",
    "             optimizer='adam')\n",
    "    \n",
    "\n",
    "    history = model.fit(train_seq, \n",
    "         train_label, \n",
    "         epochs=EPOCHS, \n",
    "         validation_data=(test_seq, test_label)           \n",
    "         )\n",
    "    \n",
    "    return history\n",
    "    "
   ]
  },
  {
   "cell_type": "markdown",
   "metadata": {},
   "source": [
    "## Create Model Using Embedding"
   ]
  },
  {
   "cell_type": "code",
   "execution_count": 20,
   "metadata": {},
   "outputs": [],
   "source": [
    "embedding_dim = 16"
   ]
  },
  {
   "cell_type": "code",
   "execution_count": 21,
   "metadata": {},
   "outputs": [],
   "source": [
    "l0 = tf.keras.layers.Embedding(vocab_size, embedding_dim, input_length = max_length)\n",
    "l1 = tf.keras.layers.GlobalAveragePooling1D()\n",
    "l2 = tf.keras.layers.Dense(units=6, activation ='relu')\n",
    "l3 = tf.keras.layers.Dense(units =2, activation='softmax')"
   ]
  },
  {
   "cell_type": "code",
   "execution_count": 22,
   "metadata": {},
   "outputs": [
    {
     "name": "stdout",
     "output_type": "stream",
     "text": [
      "Model: \"sequential\"\n",
      "_________________________________________________________________\n",
      "Layer (type)                 Output Shape              Param #   \n",
      "=================================================================\n",
      "embedding (Embedding)        (None, 50, 16)            16000     \n",
      "_________________________________________________________________\n",
      "global_average_pooling1d (Gl (None, 16)                0         \n",
      "_________________________________________________________________\n",
      "dense (Dense)                (None, 6)                 102       \n",
      "_________________________________________________________________\n",
      "dense_1 (Dense)              (None, 2)                 14        \n",
      "=================================================================\n",
      "Total params: 16,116\n",
      "Trainable params: 16,116\n",
      "Non-trainable params: 0\n",
      "_________________________________________________________________\n"
     ]
    }
   ],
   "source": [
    "model = tf.keras.Sequential([l0, l1, l2, l3])\n",
    "model.summary()"
   ]
  },
  {
   "cell_type": "code",
   "execution_count": 23,
   "metadata": {},
   "outputs": [
    {
     "name": "stdout",
     "output_type": "stream",
     "text": [
      "Epoch 1/30\n",
      "50/50 [==============================] - 0s 3ms/step - loss: 0.6906 - accuracy: 0.5330 - val_loss: 0.7012 - val_accuracy: 0.4110\n",
      "Epoch 2/30\n",
      "50/50 [==============================] - 0s 951us/step - loss: 0.6858 - accuracy: 0.5336 - val_loss: 0.6988 - val_accuracy: 0.4511\n",
      "Epoch 3/30\n",
      "50/50 [==============================] - 0s 948us/step - loss: 0.6781 - accuracy: 0.5675 - val_loss: 0.6950 - val_accuracy: 0.4887\n",
      "Epoch 4/30\n",
      "50/50 [==============================] - 0s 959us/step - loss: 0.6656 - accuracy: 0.6033 - val_loss: 0.6878 - val_accuracy: 0.5063\n",
      "Epoch 5/30\n",
      "50/50 [==============================] - 0s 934us/step - loss: 0.6453 - accuracy: 0.6704 - val_loss: 0.6622 - val_accuracy: 0.6140\n",
      "Epoch 6/30\n",
      "50/50 [==============================] - 0s 928us/step - loss: 0.6145 - accuracy: 0.7257 - val_loss: 0.6521 - val_accuracy: 0.5789\n",
      "Epoch 7/30\n",
      "50/50 [==============================] - 0s 926us/step - loss: 0.5768 - accuracy: 0.7627 - val_loss: 0.6104 - val_accuracy: 0.7068\n",
      "Epoch 8/30\n",
      "50/50 [==============================] - 0s 921us/step - loss: 0.5324 - accuracy: 0.8123 - val_loss: 0.5947 - val_accuracy: 0.6867\n",
      "Epoch 9/30\n",
      "50/50 [==============================] - 0s 911us/step - loss: 0.4876 - accuracy: 0.8374 - val_loss: 0.5582 - val_accuracy: 0.7419\n",
      "Epoch 10/30\n",
      "50/50 [==============================] - 0s 910us/step - loss: 0.4473 - accuracy: 0.8449 - val_loss: 0.5341 - val_accuracy: 0.7519\n",
      "Epoch 11/30\n",
      "50/50 [==============================] - 0s 936us/step - loss: 0.4100 - accuracy: 0.8657 - val_loss: 0.5210 - val_accuracy: 0.7544\n",
      "Epoch 12/30\n",
      "50/50 [==============================] - 0s 920us/step - loss: 0.3784 - accuracy: 0.8688 - val_loss: 0.5068 - val_accuracy: 0.7619\n",
      "Epoch 13/30\n",
      "50/50 [==============================] - 0s 907us/step - loss: 0.3516 - accuracy: 0.8814 - val_loss: 0.5225 - val_accuracy: 0.7419\n",
      "Epoch 14/30\n",
      "50/50 [==============================] - 0s 925us/step - loss: 0.3290 - accuracy: 0.8839 - val_loss: 0.4990 - val_accuracy: 0.7569\n",
      "Epoch 15/30\n",
      "50/50 [==============================] - 0s 926us/step - loss: 0.3080 - accuracy: 0.8939 - val_loss: 0.4949 - val_accuracy: 0.7569\n",
      "Epoch 16/30\n",
      "50/50 [==============================] - 0s 930us/step - loss: 0.2896 - accuracy: 0.9033 - val_loss: 0.5040 - val_accuracy: 0.7494\n",
      "Epoch 17/30\n",
      "50/50 [==============================] - 0s 911us/step - loss: 0.2728 - accuracy: 0.9058 - val_loss: 0.5284 - val_accuracy: 0.7594\n",
      "Epoch 18/30\n",
      "50/50 [==============================] - 0s 919us/step - loss: 0.2591 - accuracy: 0.9115 - val_loss: 0.5212 - val_accuracy: 0.7519\n",
      "Epoch 19/30\n",
      "50/50 [==============================] - 0s 915us/step - loss: 0.2468 - accuracy: 0.9178 - val_loss: 0.5097 - val_accuracy: 0.7669\n",
      "Epoch 20/30\n",
      "50/50 [==============================] - 0s 916us/step - loss: 0.2340 - accuracy: 0.9240 - val_loss: 0.5027 - val_accuracy: 0.7594\n",
      "Epoch 21/30\n",
      "50/50 [==============================] - 0s 920us/step - loss: 0.2231 - accuracy: 0.9253 - val_loss: 0.5245 - val_accuracy: 0.7644\n",
      "Epoch 22/30\n",
      "50/50 [==============================] - 0s 920us/step - loss: 0.2111 - accuracy: 0.9322 - val_loss: 0.5418 - val_accuracy: 0.7644\n",
      "Epoch 23/30\n",
      "50/50 [==============================] - 0s 923us/step - loss: 0.2026 - accuracy: 0.9360 - val_loss: 0.5382 - val_accuracy: 0.7619\n",
      "Epoch 24/30\n",
      "50/50 [==============================] - 0s 931us/step - loss: 0.1921 - accuracy: 0.9404 - val_loss: 0.5623 - val_accuracy: 0.7594\n",
      "Epoch 25/30\n",
      "50/50 [==============================] - 0s 973us/step - loss: 0.1866 - accuracy: 0.9404 - val_loss: 0.5677 - val_accuracy: 0.7569\n",
      "Epoch 26/30\n",
      "50/50 [==============================] - 0s 1ms/step - loss: 0.1769 - accuracy: 0.9510 - val_loss: 0.5678 - val_accuracy: 0.7669\n",
      "Epoch 27/30\n",
      "50/50 [==============================] - 0s 984us/step - loss: 0.1714 - accuracy: 0.9510 - val_loss: 0.6139 - val_accuracy: 0.7594\n",
      "Epoch 28/30\n",
      "50/50 [==============================] - 0s 920us/step - loss: 0.1642 - accuracy: 0.9548 - val_loss: 0.6061 - val_accuracy: 0.7644\n",
      "Epoch 29/30\n",
      "50/50 [==============================] - 0s 919us/step - loss: 0.1587 - accuracy: 0.9542 - val_loss: 0.6150 - val_accuracy: 0.7594\n",
      "Epoch 30/30\n",
      "50/50 [==============================] - 0s 909us/step - loss: 0.1527 - accuracy: 0.9567 - val_loss: 0.6564 - val_accuracy: 0.7544\n"
     ]
    },
    {
     "data": {
      "image/png": "[encoded data removed]",
      "text/plain": [
       "<Figure size 432x288 with 1 Axes>"
      ]
     },
     "metadata": {
      "needs_background": "light"
     },
     "output_type": "display_data"
    },
    {
     "data": {
      "image/png": "[encoded data removed]",
      "text/plain": [
       "<Figure size 432x288 with 1 Axes>"
      ]
     },
     "metadata": {
      "needs_background": "light"
     },
     "output_type": "display_data"
    }
   ],
   "source": [
    "fit_model_show_results(model)"
   ]
  },
  {
   "cell_type": "markdown",
   "metadata": {},
   "source": [
    "## Add a LSTM Layer"
   ]
  },
  {
   "cell_type": "code",
   "execution_count": 24,
   "metadata": {},
   "outputs": [
    {
     "name": "stdout",
     "output_type": "stream",
     "text": [
      "Model: \"sequential_1\"\n",
      "_________________________________________________________________\n",
      "Layer (type)                 Output Shape              Param #   \n",
      "=================================================================\n",
      "embedding_1 (Embedding)      (None, 50, 16)            16000     \n",
      "_________________________________________________________________\n",
      "bidirectional (Bidirectional (None, 32)                4224      \n",
      "_________________________________________________________________\n",
      "dense_2 (Dense)              (None, 6)                 198       \n",
      "_________________________________________________________________\n",
      "dense_3 (Dense)              (None, 2)                 14        \n",
      "=================================================================\n",
      "Total params: 20,436\n",
      "Trainable params: 20,436\n",
      "Non-trainable params: 0\n",
      "_________________________________________________________________\n"
     ]
    }
   ],
   "source": [
    "l0 = tf.keras.layers.Embedding(vocab_size, embedding_dim, input_length = max_length)\n",
    "l1 = tf.keras.layers.Bidirectional(tf.keras.layers.LSTM(embedding_dim))\n",
    "l2 = tf.keras.layers.Dense(units=6, activation ='relu')\n",
    "l3 = tf.keras.layers.Dense(units =2, activation='softmax')\n",
    "\n",
    "model_bi_lstm = tf.keras.Sequential([l0, l1, l2, l3])\n",
    "model_bi_lstm.summary()"
   ]
  },
  {
   "cell_type": "code",
   "execution_count": 25,
   "metadata": {},
   "outputs": [
    {
     "name": "stdout",
     "output_type": "stream",
     "text": [
      "Epoch 1/30\n",
      "50/50 [==============================] - 1s 24ms/step - loss: 0.6931 - accuracy: 0.5122 - val_loss: 0.6949 - val_accuracy: 0.4110\n",
      "Epoch 2/30\n",
      "50/50 [==============================] - 1s 15ms/step - loss: 0.6909 - accuracy: 0.5788 - val_loss: 0.6853 - val_accuracy: 0.6466\n",
      "Epoch 3/30\n",
      "50/50 [==============================] - 1s 15ms/step - loss: 0.6489 - accuracy: 0.6993 - val_loss: 0.6017 - val_accuracy: 0.7093\n",
      "Epoch 4/30\n",
      "50/50 [==============================] - 1s 15ms/step - loss: 0.5431 - accuracy: 0.7991 - val_loss: 0.5956 - val_accuracy: 0.7118\n",
      "Epoch 5/30\n",
      "50/50 [==============================] - 1s 15ms/step - loss: 0.3716 - accuracy: 0.8694 - val_loss: 0.5704 - val_accuracy: 0.7393\n",
      "Epoch 6/30\n",
      "50/50 [==============================] - 1s 16ms/step - loss: 0.2571 - accuracy: 0.8958 - val_loss: 0.5901 - val_accuracy: 0.7644\n",
      "Epoch 7/30\n",
      "50/50 [==============================] - 1s 17ms/step - loss: 0.1794 - accuracy: 0.9404 - val_loss: 0.6697 - val_accuracy: 0.7644\n",
      "Epoch 8/30\n",
      "50/50 [==============================] - 1s 18ms/step - loss: 0.1318 - accuracy: 0.9598 - val_loss: 0.7999 - val_accuracy: 0.7494\n",
      "Epoch 9/30\n",
      "50/50 [==============================] - 1s 17ms/step - loss: 0.1008 - accuracy: 0.9680 - val_loss: 0.8046 - val_accuracy: 0.7268\n",
      "Epoch 10/30\n",
      "50/50 [==============================] - 1s 17ms/step - loss: 0.0688 - accuracy: 0.9837 - val_loss: 0.9594 - val_accuracy: 0.7343\n",
      "Epoch 11/30\n",
      "50/50 [==============================] - 1s 18ms/step - loss: 0.0526 - accuracy: 0.9893 - val_loss: 1.0539 - val_accuracy: 0.7368\n",
      "Epoch 12/30\n",
      "50/50 [==============================] - 1s 17ms/step - loss: 0.0296 - accuracy: 0.9937 - val_loss: 1.1010 - val_accuracy: 0.7243\n",
      "Epoch 13/30\n",
      "50/50 [==============================] - 1s 19ms/step - loss: 0.0198 - accuracy: 0.9969 - val_loss: 1.1840 - val_accuracy: 0.7569\n",
      "Epoch 14/30\n",
      "50/50 [==============================] - 1s 16ms/step - loss: 0.0131 - accuracy: 0.9981 - val_loss: 1.2834 - val_accuracy: 0.7469\n",
      "Epoch 15/30\n",
      "50/50 [==============================] - 1s 16ms/step - loss: 0.0072 - accuracy: 0.9994 - val_loss: 1.3326 - val_accuracy: 0.7469\n",
      "Epoch 16/30\n",
      "50/50 [==============================] - 1s 15ms/step - loss: 0.0049 - accuracy: 1.0000 - val_loss: 1.4092 - val_accuracy: 0.7419\n",
      "Epoch 17/30\n",
      "50/50 [==============================] - 1s 16ms/step - loss: 0.0032 - accuracy: 1.0000 - val_loss: 1.4735 - val_accuracy: 0.7393\n",
      "Epoch 18/30\n",
      "50/50 [==============================] - 1s 16ms/step - loss: 0.0023 - accuracy: 1.0000 - val_loss: 1.5586 - val_accuracy: 0.7419\n",
      "Epoch 19/30\n",
      "50/50 [==============================] - 1s 16ms/step - loss: 0.0020 - accuracy: 1.0000 - val_loss: 1.5710 - val_accuracy: 0.7444\n",
      "Epoch 20/30\n",
      "50/50 [==============================] - 1s 16ms/step - loss: 0.0016 - accuracy: 1.0000 - val_loss: 1.5893 - val_accuracy: 0.7469\n",
      "Epoch 21/30\n",
      "50/50 [==============================] - 1s 16ms/step - loss: 0.0013 - accuracy: 1.0000 - val_loss: 1.6652 - val_accuracy: 0.7419\n",
      "Epoch 22/30\n",
      "50/50 [==============================] - 1s 16ms/step - loss: 0.0011 - accuracy: 1.0000 - val_loss: 1.6565 - val_accuracy: 0.7444\n",
      "Epoch 23/30\n",
      "50/50 [==============================] - 1s 16ms/step - loss: 9.3621e-04 - accuracy: 1.0000 - val_loss: 1.7258 - val_accuracy: 0.7419\n",
      "Epoch 24/30\n",
      "50/50 [==============================] - 1s 16ms/step - loss: 8.9334e-04 - accuracy: 1.0000 - val_loss: 1.6953 - val_accuracy: 0.7444\n",
      "Epoch 25/30\n",
      "50/50 [==============================] - 1s 17ms/step - loss: 7.0516e-04 - accuracy: 1.0000 - val_loss: 1.7651 - val_accuracy: 0.7419\n",
      "Epoch 26/30\n",
      "50/50 [==============================] - 1s 16ms/step - loss: 6.3572e-04 - accuracy: 1.0000 - val_loss: 1.7900 - val_accuracy: 0.7494\n",
      "Epoch 27/30\n",
      "50/50 [==============================] - 1s 16ms/step - loss: 5.8776e-04 - accuracy: 1.0000 - val_loss: 1.7877 - val_accuracy: 0.7444\n",
      "Epoch 28/30\n",
      "50/50 [==============================] - 1s 16ms/step - loss: 5.1094e-04 - accuracy: 1.0000 - val_loss: 1.8204 - val_accuracy: 0.7469\n",
      "Epoch 29/30\n",
      "50/50 [==============================] - 1s 16ms/step - loss: 4.3669e-04 - accuracy: 1.0000 - val_loss: 1.8672 - val_accuracy: 0.7469\n",
      "Epoch 30/30\n",
      "50/50 [==============================] - 1s 16ms/step - loss: 4.0513e-04 - accuracy: 1.0000 - val_loss: 1.8600 - val_accuracy: 0.7544\n"
     ]
    },
    {
     "data": {
      "image/png": "[encoded data removed]",
      "text/plain": [
       "<Figure size 432x288 with 1 Axes>"
      ]
     },
     "metadata": {
      "needs_background": "light"
     },
     "output_type": "display_data"
    },
    {
     "data": {
      "image/png": "[encoded data removed]",
      "text/plain": [
       "<Figure size 432x288 with 1 Axes>"
      ]
     },
     "metadata": {
      "needs_background": "light"
     },
     "output_type": "display_data"
    }
   ],
   "source": [
    "fit_model_show_results(model_bi_lstm)"
   ]
  },
  {
   "cell_type": "markdown",
   "metadata": {},
   "source": [
    "## Adding 2 LSTM Layers"
   ]
  },
  {
   "cell_type": "code",
   "execution_count": 26,
   "metadata": {},
   "outputs": [
    {
     "name": "stdout",
     "output_type": "stream",
     "text": [
      "Model: \"sequential_2\"\n",
      "_________________________________________________________________\n",
      "Layer (type)                 Output Shape              Param #   \n",
      "=================================================================\n",
      "embedding_2 (Embedding)      (None, 50, 16)            16000     \n",
      "_________________________________________________________________\n",
      "bidirectional_1 (Bidirection (None, 50, 32)            4224      \n",
      "_________________________________________________________________\n",
      "bidirectional_2 (Bidirection (None, 32)                6272      \n",
      "_________________________________________________________________\n",
      "dense_4 (Dense)              (None, 6)                 198       \n",
      "_________________________________________________________________\n",
      "dense_5 (Dense)              (None, 2)                 14        \n",
      "=================================================================\n",
      "Total params: 26,708\n",
      "Trainable params: 26,708\n",
      "Non-trainable params: 0\n",
      "_________________________________________________________________\n"
     ]
    }
   ],
   "source": [
    "l0 = tf.keras.layers.Embedding(vocab_size, embedding_dim, input_length = max_length)\n",
    "l1 = tf.keras.layers.Bidirectional(tf.keras.layers.LSTM(embedding_dim, return_sequences=True))\n",
    "l2 = tf.keras.layers.Bidirectional(tf.keras.layers.LSTM(embedding_dim))\n",
    "l3 = tf.keras.layers.Dense(units=6, activation ='relu')\n",
    "l4 = tf.keras.layers.Dense(units =2, activation='softmax')\n",
    "\n",
    "model_2_bi_lstm = tf.keras.Sequential([l0, l1, l2, l3, l4])\n",
    "model_2_bi_lstm.summary()"
   ]
  },
  {
   "cell_type": "code",
   "execution_count": 27,
   "metadata": {},
   "outputs": [
    {
     "name": "stdout",
     "output_type": "stream",
     "text": [
      "Epoch 1/30\n",
      "50/50 [==============================] - 3s 52ms/step - loss: 0.6889 - accuracy: 0.5512 - val_loss: 0.6807 - val_accuracy: 0.6040\n",
      "Epoch 2/30\n",
      "50/50 [==============================] - 2s 33ms/step - loss: 0.5774 - accuracy: 0.7232 - val_loss: 0.5671 - val_accuracy: 0.7143\n",
      "Epoch 3/30\n",
      "50/50 [==============================] - 2s 33ms/step - loss: 0.3613 - accuracy: 0.8544 - val_loss: 0.4949 - val_accuracy: 0.7794\n",
      "Epoch 4/30\n",
      "50/50 [==============================] - 2s 33ms/step - loss: 0.2692 - accuracy: 0.9027 - val_loss: 0.5964 - val_accuracy: 0.7594\n",
      "Epoch 5/30\n",
      "50/50 [==============================] - 2s 33ms/step - loss: 0.2243 - accuracy: 0.9278 - val_loss: 0.5869 - val_accuracy: 0.7794\n",
      "Epoch 6/30\n",
      "50/50 [==============================] - 2s 33ms/step - loss: 0.1812 - accuracy: 0.9435 - val_loss: 0.8222 - val_accuracy: 0.7343\n",
      "Epoch 7/30\n",
      "50/50 [==============================] - 2s 33ms/step - loss: 0.1697 - accuracy: 0.9485 - val_loss: 0.6679 - val_accuracy: 0.7644\n",
      "Epoch 8/30\n",
      "50/50 [==============================] - 2s 33ms/step - loss: 0.1621 - accuracy: 0.9473 - val_loss: 0.7430 - val_accuracy: 0.7544\n",
      "Epoch 9/30\n",
      "50/50 [==============================] - 2s 33ms/step - loss: 0.1280 - accuracy: 0.9648 - val_loss: 0.8921 - val_accuracy: 0.7318\n",
      "Epoch 10/30\n",
      "50/50 [==============================] - 2s 36ms/step - loss: 0.1084 - accuracy: 0.9730 - val_loss: 1.0279 - val_accuracy: 0.7218\n",
      "Epoch 11/30\n",
      "50/50 [==============================] - 2s 33ms/step - loss: 0.1170 - accuracy: 0.9642 - val_loss: 0.8776 - val_accuracy: 0.7419\n",
      "Epoch 12/30\n",
      "50/50 [==============================] - 2s 37ms/step - loss: 0.1147 - accuracy: 0.9680 - val_loss: 1.0451 - val_accuracy: 0.7093\n",
      "Epoch 13/30\n",
      "50/50 [==============================] - 2s 36ms/step - loss: 0.1195 - accuracy: 0.9680 - val_loss: 0.8206 - val_accuracy: 0.7569\n",
      "Epoch 14/30\n",
      "50/50 [==============================] - 2s 35ms/step - loss: 0.0952 - accuracy: 0.9749 - val_loss: 0.9633 - val_accuracy: 0.7218\n",
      "Epoch 15/30\n",
      "50/50 [==============================] - 2s 35ms/step - loss: 0.0945 - accuracy: 0.9761 - val_loss: 0.8976 - val_accuracy: 0.7419\n",
      "Epoch 16/30\n",
      "50/50 [==============================] - 2s 34ms/step - loss: 0.0853 - accuracy: 0.9805 - val_loss: 0.9697 - val_accuracy: 0.7494\n",
      "Epoch 17/30\n",
      "50/50 [==============================] - 2s 34ms/step - loss: 0.0791 - accuracy: 0.9787 - val_loss: 0.9959 - val_accuracy: 0.7519\n",
      "Epoch 18/30\n",
      "50/50 [==============================] - 2s 36ms/step - loss: 0.0837 - accuracy: 0.9799 - val_loss: 1.1055 - val_accuracy: 0.7419\n",
      "Epoch 19/30\n",
      "50/50 [==============================] - 2s 34ms/step - loss: 0.0601 - accuracy: 0.9868 - val_loss: 1.1525 - val_accuracy: 0.7368\n",
      "Epoch 20/30\n",
      "50/50 [==============================] - 2s 34ms/step - loss: 0.0562 - accuracy: 0.9868 - val_loss: 1.1596 - val_accuracy: 0.7419\n",
      "Epoch 21/30\n",
      "50/50 [==============================] - 2s 34ms/step - loss: 0.0520 - accuracy: 0.9874 - val_loss: 1.1587 - val_accuracy: 0.7318\n",
      "Epoch 22/30\n",
      "50/50 [==============================] - 2s 34ms/step - loss: 0.0556 - accuracy: 0.9874 - val_loss: 1.1114 - val_accuracy: 0.7444\n",
      "Epoch 23/30\n",
      "50/50 [==============================] - 2s 34ms/step - loss: 0.0649 - accuracy: 0.9874 - val_loss: 1.0473 - val_accuracy: 0.7268\n",
      "Epoch 24/30\n",
      "50/50 [==============================] - 2s 34ms/step - loss: 0.0852 - accuracy: 0.9768 - val_loss: 1.0822 - val_accuracy: 0.7393\n",
      "Epoch 25/30\n",
      "50/50 [==============================] - 2s 35ms/step - loss: 0.0930 - accuracy: 0.9736 - val_loss: 1.0733 - val_accuracy: 0.7393\n",
      "Epoch 26/30\n",
      "50/50 [==============================] - 2s 37ms/step - loss: 0.0632 - accuracy: 0.9843 - val_loss: 1.0837 - val_accuracy: 0.7419\n",
      "Epoch 27/30\n",
      "50/50 [==============================] - 2s 34ms/step - loss: 0.0540 - accuracy: 0.9856 - val_loss: 1.0774 - val_accuracy: 0.7494\n",
      "Epoch 28/30\n",
      "50/50 [==============================] - 2s 35ms/step - loss: 0.0668 - accuracy: 0.9799 - val_loss: 1.2135 - val_accuracy: 0.7368\n",
      "Epoch 29/30\n",
      "50/50 [==============================] - 2s 37ms/step - loss: 0.0433 - accuracy: 0.9893 - val_loss: 1.2825 - val_accuracy: 0.7218\n",
      "Epoch 30/30\n",
      "50/50 [==============================] - 2s 39ms/step - loss: 0.0368 - accuracy: 0.9893 - val_loss: 1.3157 - val_accuracy: 0.7293\n"
     ]
    },
    {
     "data": {
      "image/png": "[encoded data removed]",
      "text/plain": [
       "<Figure size 432x288 with 1 Axes>"
      ]
     },
     "metadata": {
      "needs_background": "light"
     },
     "output_type": "display_data"
    },
    {
     "data": {
      "image/png": "[encoded data removed]",
      "text/plain": [
       "<Figure size 432x288 with 1 Axes>"
      ]
     },
     "metadata": {
      "needs_background": "light"
     },
     "output_type": "display_data"
    }
   ],
   "source": [
    "fit_model_show_results(model_2_bi_lstm)"
   ]
  },
  {
   "cell_type": "markdown",
   "metadata": {},
   "source": [
    "## Compare Prediction of all Models"
   ]
  },
  {
   "cell_type": "code",
   "execution_count": 28,
   "metadata": {},
   "outputs": [],
   "source": [
    "def predict_reviews(model, fake_reviews):\n",
    "    \n",
    "    fake_reviews_temp = fake_reviews.copy()\n",
    "    for i ,sentence in enumerate(fake_reviews):\n",
    "        fake_reviews_temp[i] = tokenizer.encode(sentence)\n",
    "\n",
    "    fake_pd_seq = pad_sequences(fake_reviews_temp, maxlen = max_length, padding='post', truncating='post')\n",
    "    \n",
    "    classes = model.predict(fake_pd_seq)\n",
    "\n",
    "    for c in np.arange(0, len(fake_pd_seq)):\n",
    "        cl = ('-ve' if np.argmax(classes[c]) == 0 else '+ve')\n",
    "\n",
    "        print(fake_reviews[c] , ' ==> ', cl )\n",
    "        "
   ]
  },
  {
   "cell_type": "code",
   "execution_count": 29,
   "metadata": {},
   "outputs": [],
   "source": [
    "fake_reviews=['OMG, what a horrible juice!', \n",
    "             'I thought i wasted money but this turns out to be a great deal!', \n",
    "             'Terrible place, terrible tacos!', \n",
    "             'Burger to die for!', \n",
    "             'Lovely flowers, thank you!',\n",
    "             'quick service, elegenat ambiance and delicious food']\n"
   ]
  },
  {
   "cell_type": "code",
   "execution_count": 30,
   "metadata": {},
   "outputs": [
    {
     "name": "stdout",
     "output_type": "stream",
     "text": [
      "Embedding Model==> \n",
      "\n",
      "OMG, what a horrible juice!  ==>  -ve\n",
      "I thought i wasted money but this turns out to be a great deal!  ==>  +ve\n",
      "Terrible place, terrible tacos!  ==>  -ve\n",
      "Burger to die for!  ==>  +ve\n",
      "Lovely flowers, thank you!  ==>  +ve\n",
      "quick service, elegenat ambiance and delicious food  ==>  +ve\n"
     ]
    }
   ],
   "source": [
    "print('Embedding Model==> \\n')\n",
    "predict_reviews(model, fake_reviews)"
   ]
  },
  {
   "cell_type": "code",
   "execution_count": 31,
   "metadata": {},
   "outputs": [
    {
     "name": "stdout",
     "output_type": "stream",
     "text": [
      "LSTM==> \n",
      "\n",
      "OMG, what a horrible juice!  ==>  -ve\n",
      "I thought i wasted money but this turns out to be a great deal!  ==>  -ve\n",
      "Terrible place, terrible tacos!  ==>  -ve\n",
      "Burger to die for!  ==>  -ve\n",
      "Lovely flowers, thank you!  ==>  +ve\n",
      "quick service, elegenat ambiance and delicious food  ==>  +ve\n"
     ]
    }
   ],
   "source": [
    "print('LSTM==> \\n')\n",
    "predict_reviews(model_bi_lstm, fake_reviews)"
   ]
  },
  {
   "cell_type": "code",
   "execution_count": 32,
   "metadata": {},
   "outputs": [
    {
     "name": "stdout",
     "output_type": "stream",
     "text": [
      "LSTM 2 layers==> \n",
      "\n",
      "OMG, what a horrible juice!  ==>  -ve\n",
      "I thought i wasted money but this turns out to be a great deal!  ==>  +ve\n",
      "Terrible place, terrible tacos!  ==>  -ve\n",
      "Burger to die for!  ==>  +ve\n",
      "Lovely flowers, thank you!  ==>  -ve\n",
      "quick service, elegenat ambiance and delicious food  ==>  +ve\n"
     ]
    }
   ],
   "source": [
    "print('LSTM 2 layers==> \\n')\n",
    "predict_reviews(model_2_bi_lstm, fake_reviews)"
   ]
  },
  {
   "cell_type": "markdown",
   "metadata": {},
   "source": [
    "## Visualize the Network"
   ]
  },
  {
   "cell_type": "code",
   "execution_count": 33,
   "metadata": {},
   "outputs": [
    {
     "name": "stdout",
     "output_type": "stream",
     "text": [
      "(1000, 16)\n"
     ]
    }
   ],
   "source": [
    "# First get the weights of the embedding layer\n",
    "e = model.layers[0]\n",
    "weights = e.get_weights()[0]\n",
    "print(weights.shape) # shape: (vocab_size, embedding_dim)"
   ]
  },
  {
   "cell_type": "code",
   "execution_count": 34,
   "metadata": {},
   "outputs": [],
   "source": [
    "# import io\n",
    "\n",
    "# # Write out the embedding vectors and metadata\n",
    "# out_v = io.open('vecs_sub.tsv', 'w', encoding='utf-8')\n",
    "# out_m = io.open('meta_sub.tsv', 'w', encoding='utf-8')\n",
    "\n",
    "# for word_num in range(0, vocab_size - 1):\n",
    "#     word = tokenizer.decode([word_num])\n",
    "#     embeddings = weights[word_num]\n",
    "#     out_m.write(word + \"\\n\")\n",
    "#     out_v.write('\\t'.join([str(x) for x in embeddings]) + \"\\n\")\n",
    "# out_v.close()\n",
    "# out_m.close()"
   ]
  },
  {
   "cell_type": "code",
   "execution_count": null,
   "metadata": {},
   "outputs": [],
   "source": []
  }
 ],
 "metadata": {
  "kernelspec": {
   "display_name": "Python [conda env:py3-tf2]",
   "language": "python",
   "name": "conda-env-py3-tf2-py"
  },
  "language_info": {
   "codemirror_mode": {
    "name": "ipython",
    "version": 3
   },
   "file_extension": ".py",
   "mimetype": "text/x-python",
   "name": "python",
   "nbconvert_exporter": "python",
   "pygments_lexer": "ipython3",
   "version": "3.8.5"
  }
 },
 "nbformat": 4,
 "nbformat_minor": 4
}
