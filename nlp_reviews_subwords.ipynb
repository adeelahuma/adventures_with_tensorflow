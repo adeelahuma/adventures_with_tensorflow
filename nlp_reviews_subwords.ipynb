{
 "cells": [
  {
   "cell_type": "code",
   "execution_count": 1,
   "metadata": {},
   "outputs": [],
   "source": [
    "import pandas as pd\n",
    "import numpy as np\n",
    "import tensorflow as tf \n",
    "\n",
    "from tensorflow.keras.preprocessing.sequence import pad_sequences\n",
    "\n",
    "import tensorflow_datasets as tfds\n",
    "\n",
    "import matplotlib.pyplot as plt"
   ]
  },
  {
   "cell_type": "code",
   "execution_count": 2,
   "metadata": {},
   "outputs": [
    {
     "data": {
      "text/html": [
       "<div>\n",
       "<style scoped>\n",
       "    .dataframe tbody tr th:only-of-type {\n",
       "        vertical-align: middle;\n",
       "    }\n",
       "\n",
       "    .dataframe tbody tr th {\n",
       "        vertical-align: top;\n",
       "    }\n",
       "\n",
       "    .dataframe thead th {\n",
       "        text-align: right;\n",
       "    }\n",
       "</style>\n",
       "<table border=\"1\" class=\"dataframe\">\n",
       "  <thead>\n",
       "    <tr style=\"text-align: right;\">\n",
       "      <th></th>\n",
       "      <th>text</th>\n",
       "      <th>sentiment</th>\n",
       "    </tr>\n",
       "  </thead>\n",
       "  <tbody>\n",
       "    <tr>\n",
       "      <th>7</th>\n",
       "      <td>If you are Razr owner...you must have this!</td>\n",
       "      <td>1</td>\n",
       "    </tr>\n",
       "    <tr>\n",
       "      <th>1348</th>\n",
       "      <td>Sadly Gordon Ramsey's Steak is a place we shal...</td>\n",
       "      <td>0</td>\n",
       "    </tr>\n",
       "    <tr>\n",
       "      <th>450</th>\n",
       "      <td>i'm glad i found this product on amazon it is ...</td>\n",
       "      <td>1</td>\n",
       "    </tr>\n",
       "  </tbody>\n",
       "</table>\n",
       "</div>"
      ],
      "text/plain": [
       "                                                   text  sentiment\n",
       "7           If you are Razr owner...you must have this!          1\n",
       "1348  Sadly Gordon Ramsey's Steak is a place we shal...          0\n",
       "450   i'm glad i found this product on amazon it is ...          1"
      ]
     },
     "execution_count": 2,
     "metadata": {},
     "output_type": "execute_result"
    }
   ],
   "source": [
    "data = pd.read_csv('data/combined_data.csv', index_col=0)\n",
    "data.sample(3)"
   ]
  },
  {
   "cell_type": "code",
   "execution_count": 3,
   "metadata": {},
   "outputs": [],
   "source": [
    "sentences = data['text'].tolist()\n",
    "labels = data['sentiment'].tolist()"
   ]
  },
  {
   "cell_type": "code",
   "execution_count": 4,
   "metadata": {},
   "outputs": [],
   "source": [
    "vocab_size = 1000"
   ]
  },
  {
   "cell_type": "code",
   "execution_count": 5,
   "metadata": {},
   "outputs": [],
   "source": [
    "tokenizer = tfds.features.text.SubwordTextEncoder.build_from_corpus(sentences, vocab_size, max_subword_length = 5)"
   ]
  },
  {
   "cell_type": "code",
   "execution_count": 6,
   "metadata": {},
   "outputs": [
    {
     "data": {
      "text/plain": [
       "999"
      ]
     },
     "execution_count": 6,
     "metadata": {},
     "output_type": "execute_result"
    }
   ],
   "source": [
    "tokenizer.vocab_size"
   ]
  },
  {
   "cell_type": "code",
   "execution_count": 7,
   "metadata": {},
   "outputs": [
    {
     "name": "stdout",
     "output_type": "stream",
     "text": [
      "I have to jiggle the plug to get it to line up right to get decent volume.\n"
     ]
    }
   ],
   "source": [
    "print(sentences[5])"
   ]
  },
  {
   "cell_type": "code",
   "execution_count": 8,
   "metadata": {},
   "outputs": [
    {
     "name": "stdout",
     "output_type": "stream",
     "text": [
      "[4, 31, 6, 849, 162, 450, 12, 1, 600, 438, 775, 6, 175, 14, 6, 55, 213, 159, 474, 775, 6, 175, 614, 380, 295, 148, 72, 789]\n"
     ]
    }
   ],
   "source": [
    "encoded = tokenizer.encode(sentences[5])\n",
    "print(encoded)"
   ]
  },
  {
   "cell_type": "code",
   "execution_count": 9,
   "metadata": {},
   "outputs": [
    {
     "name": "stdout",
     "output_type": "stream",
     "text": [
      "I  4\n",
      "have  31\n",
      "to  6\n",
      "j 849\n",
      "ig 162\n",
      "gl 450\n",
      "e  12\n",
      "the  1\n",
      "pl 600\n",
      "ug 438\n",
      "  775\n",
      "to  6\n",
      "get  175\n",
      "it  14\n",
      "to  6\n",
      "li 55\n",
      "ne  213\n",
      "up  159\n",
      "right 474\n",
      "  775\n",
      "to  6\n",
      "get  175\n",
      "dec 614\n",
      "ent  380\n",
      "vo 295\n",
      "lu 148\n",
      "me 72\n",
      ". 789\n"
     ]
    }
   ],
   "source": [
    "for en in encoded:\n",
    "    print(tokenizer.decode([en]), en)"
   ]
  },
  {
   "cell_type": "markdown",
   "metadata": {},
   "source": [
    "## Replace sentence data with encoded subwords"
   ]
  },
  {
   "cell_type": "code",
   "execution_count": 10,
   "metadata": {},
   "outputs": [],
   "source": [
    "for i ,sentence in enumerate(sentences):\n",
    "    sentences[i] = tokenizer.encode(sentence)"
   ]
  },
  {
   "cell_type": "code",
   "execution_count": 11,
   "metadata": {},
   "outputs": [
    {
     "data": {
      "text/plain": [
       "[625, 677, 626, 274, 380, 633, 148, 844, 789]"
      ]
     },
     "execution_count": 11,
     "metadata": {},
     "output_type": "execute_result"
    }
   ],
   "source": [
    "sentences[1]"
   ]
  },
  {
   "cell_type": "markdown",
   "metadata": {},
   "source": [
    "## Pre-Processing"
   ]
  },
  {
   "cell_type": "code",
   "execution_count": 12,
   "metadata": {},
   "outputs": [],
   "source": [
    "max_length =50\n"
   ]
  },
  {
   "cell_type": "code",
   "execution_count": 13,
   "metadata": {},
   "outputs": [
    {
     "data": {
      "text/plain": [
       "array([625, 677, 626, 274, 380, 633, 148, 844, 789,   0,   0,   0,   0,\n",
       "         0,   0,   0,   0,   0,   0,   0,   0,   0,   0,   0,   0,   0,\n",
       "         0,   0,   0,   0,   0,   0,   0,   0,   0,   0,   0,   0,   0,\n",
       "         0,   0,   0,   0,   0,   0,   0,   0,   0,   0,   0], dtype=int32)"
      ]
     },
     "execution_count": 13,
     "metadata": {},
     "output_type": "execute_result"
    }
   ],
   "source": [
    "# pad sequnces\n",
    "pad_sequences = pad_sequences(sentences, maxlen=max_length, padding='post', truncating='post')\n",
    "\n",
    "pad_sequences[1]"
   ]
  },
  {
   "cell_type": "markdown",
   "metadata": {},
   "source": [
    "## Split into test and train data"
   ]
  },
  {
   "cell_type": "code",
   "execution_count": 14,
   "metadata": {},
   "outputs": [],
   "source": [
    "split_index = int(len(pad_sequences)*0.8)"
   ]
  },
  {
   "cell_type": "code",
   "execution_count": 15,
   "metadata": {},
   "outputs": [],
   "source": [
    "train_seq = pad_sequences[0: split_index]\n",
    "test_seq = pad_sequences[split_index: ]"
   ]
  },
  {
   "cell_type": "code",
   "execution_count": 16,
   "metadata": {},
   "outputs": [],
   "source": [
    "train_label = labels[0: split_index]\n",
    "test_label = labels[split_index: ]"
   ]
  },
  {
   "cell_type": "code",
   "execution_count": 17,
   "metadata": {},
   "outputs": [],
   "source": [
    "train_label = np.array(train_label)\n",
    "test_label = np.array(test_label)"
   ]
  },
  {
   "cell_type": "markdown",
   "metadata": {},
   "source": [
    "## Create Model Using Embedding"
   ]
  },
  {
   "cell_type": "code",
   "execution_count": 18,
   "metadata": {},
   "outputs": [],
   "source": [
    "embedding_dim = 16"
   ]
  },
  {
   "cell_type": "code",
   "execution_count": 19,
   "metadata": {},
   "outputs": [],
   "source": [
    "l0 = tf.keras.layers.Embedding(vocab_size, embedding_dim, input_length = max_length)\n",
    "l1 = tf.keras.layers.GlobalAveragePooling1D()\n",
    "l2 = tf.keras.layers.Dense(units=6, activation ='relu')\n",
    "l3 = tf.keras.layers.Dense(units =2, activation='softmax')"
   ]
  },
  {
   "cell_type": "code",
   "execution_count": 20,
   "metadata": {},
   "outputs": [
    {
     "name": "stdout",
     "output_type": "stream",
     "text": [
      "Model: \"sequential\"\n",
      "_________________________________________________________________\n",
      "Layer (type)                 Output Shape              Param #   \n",
      "=================================================================\n",
      "embedding (Embedding)        (None, 50, 16)            16000     \n",
      "_________________________________________________________________\n",
      "global_average_pooling1d (Gl (None, 16)                0         \n",
      "_________________________________________________________________\n",
      "dense (Dense)                (None, 6)                 102       \n",
      "_________________________________________________________________\n",
      "dense_1 (Dense)              (None, 2)                 14        \n",
      "=================================================================\n",
      "Total params: 16,116\n",
      "Trainable params: 16,116\n",
      "Non-trainable params: 0\n",
      "_________________________________________________________________\n"
     ]
    }
   ],
   "source": [
    "model = tf.keras.Sequential([l0, l1, l2, l3])\n",
    "model.summary()"
   ]
  },
  {
   "cell_type": "code",
   "execution_count": 21,
   "metadata": {},
   "outputs": [],
   "source": [
    "model.compile(loss = tf.keras.losses.SparseCategoricalCrossentropy(), \n",
    "             metrics=['accuracy'], \n",
    "             optimizer='adam')"
   ]
  },
  {
   "cell_type": "markdown",
   "metadata": {},
   "source": [
    "## Training"
   ]
  },
  {
   "cell_type": "code",
   "execution_count": 22,
   "metadata": {},
   "outputs": [
    {
     "data": {
      "text/plain": [
       "((1593, 50), (1593,))"
      ]
     },
     "execution_count": 22,
     "metadata": {},
     "output_type": "execute_result"
    }
   ],
   "source": [
    "train_seq.shape, train_label.shape"
   ]
  },
  {
   "cell_type": "code",
   "execution_count": 23,
   "metadata": {},
   "outputs": [
    {
     "name": "stdout",
     "output_type": "stream",
     "text": [
      "Epoch 1/30\n",
      "50/50 [==============================] - 0s 4ms/step - loss: 0.6922 - accuracy: 0.5217 - val_loss: 0.6987 - val_accuracy: 0.4110\n",
      "Epoch 2/30\n",
      "50/50 [==============================] - 0s 1ms/step - loss: 0.6882 - accuracy: 0.5223 - val_loss: 0.6971 - val_accuracy: 0.4110\n",
      "Epoch 3/30\n",
      "50/50 [==============================] - 0s 1ms/step - loss: 0.6834 - accuracy: 0.5392 - val_loss: 0.6975 - val_accuracy: 0.4361\n",
      "Epoch 4/30\n",
      "50/50 [==============================] - 0s 1ms/step - loss: 0.6751 - accuracy: 0.5631 - val_loss: 0.6879 - val_accuracy: 0.5063\n",
      "Epoch 5/30\n",
      "50/50 [==============================] - 0s 1ms/step - loss: 0.6604 - accuracy: 0.6397 - val_loss: 0.6744 - val_accuracy: 0.5363\n",
      "Epoch 6/30\n",
      "50/50 [==============================] - 0s 1ms/step - loss: 0.6368 - accuracy: 0.7288 - val_loss: 0.6589 - val_accuracy: 0.5840\n",
      "Epoch 7/30\n",
      "50/50 [==============================] - 0s 1ms/step - loss: 0.6044 - accuracy: 0.7615 - val_loss: 0.6261 - val_accuracy: 0.6967\n",
      "Epoch 8/30\n",
      "50/50 [==============================] - 0s 1ms/step - loss: 0.5644 - accuracy: 0.8136 - val_loss: 0.6143 - val_accuracy: 0.6692\n",
      "Epoch 9/30\n",
      "50/50 [==============================] - 0s 1ms/step - loss: 0.5222 - accuracy: 0.8249 - val_loss: 0.5785 - val_accuracy: 0.7118\n",
      "Epoch 10/30\n",
      "50/50 [==============================] - 0s 1ms/step - loss: 0.4805 - accuracy: 0.8443 - val_loss: 0.5457 - val_accuracy: 0.7644\n",
      "Epoch 11/30\n",
      "50/50 [==============================] - 0s 1ms/step - loss: 0.4440 - accuracy: 0.8512 - val_loss: 0.5304 - val_accuracy: 0.7544\n",
      "Epoch 12/30\n",
      "50/50 [==============================] - 0s 1ms/step - loss: 0.4100 - accuracy: 0.8638 - val_loss: 0.5174 - val_accuracy: 0.7519\n",
      "Epoch 13/30\n",
      "50/50 [==============================] - 0s 1ms/step - loss: 0.3809 - accuracy: 0.8763 - val_loss: 0.5186 - val_accuracy: 0.7419\n",
      "Epoch 14/30\n",
      "50/50 [==============================] - 0s 991us/step - loss: 0.3568 - accuracy: 0.8770 - val_loss: 0.5213 - val_accuracy: 0.7368\n",
      "Epoch 15/30\n",
      "50/50 [==============================] - 0s 963us/step - loss: 0.3373 - accuracy: 0.8826 - val_loss: 0.4976 - val_accuracy: 0.7594\n",
      "Epoch 16/30\n",
      "50/50 [==============================] - 0s 962us/step - loss: 0.3159 - accuracy: 0.8883 - val_loss: 0.5055 - val_accuracy: 0.7544\n",
      "Epoch 17/30\n",
      "50/50 [==============================] - 0s 907us/step - loss: 0.2981 - accuracy: 0.8927 - val_loss: 0.5072 - val_accuracy: 0.7544\n",
      "Epoch 18/30\n",
      "50/50 [==============================] - 0s 971us/step - loss: 0.2831 - accuracy: 0.8964 - val_loss: 0.5113 - val_accuracy: 0.7544\n",
      "Epoch 19/30\n",
      "50/50 [==============================] - 0s 930us/step - loss: 0.2689 - accuracy: 0.9071 - val_loss: 0.5123 - val_accuracy: 0.7519\n",
      "Epoch 20/30\n",
      "50/50 [==============================] - 0s 947us/step - loss: 0.2577 - accuracy: 0.9096 - val_loss: 0.5143 - val_accuracy: 0.7519\n",
      "Epoch 21/30\n",
      "50/50 [==============================] - 0s 963us/step - loss: 0.2473 - accuracy: 0.9159 - val_loss: 0.5343 - val_accuracy: 0.7469\n",
      "Epoch 22/30\n",
      "50/50 [==============================] - 0s 1ms/step - loss: 0.2351 - accuracy: 0.9203 - val_loss: 0.5317 - val_accuracy: 0.7544\n",
      "Epoch 23/30\n",
      "50/50 [==============================] - 0s 1ms/step - loss: 0.2258 - accuracy: 0.9222 - val_loss: 0.5304 - val_accuracy: 0.7494\n",
      "Epoch 24/30\n",
      "50/50 [==============================] - 0s 1ms/step - loss: 0.2167 - accuracy: 0.9259 - val_loss: 0.5356 - val_accuracy: 0.7519\n",
      "Epoch 25/30\n",
      "50/50 [==============================] - 0s 2ms/step - loss: 0.2089 - accuracy: 0.9303 - val_loss: 0.5506 - val_accuracy: 0.7469\n",
      "Epoch 26/30\n",
      "50/50 [==============================] - 0s 1ms/step - loss: 0.2024 - accuracy: 0.9328 - val_loss: 0.5417 - val_accuracy: 0.7594\n",
      "Epoch 27/30\n",
      "50/50 [==============================] - 0s 1ms/step - loss: 0.1944 - accuracy: 0.9316 - val_loss: 0.5592 - val_accuracy: 0.7419\n",
      "Epoch 28/30\n",
      "50/50 [==============================] - 0s 1ms/step - loss: 0.1873 - accuracy: 0.9397 - val_loss: 0.5612 - val_accuracy: 0.7544\n",
      "Epoch 29/30\n",
      "50/50 [==============================] - 0s 1ms/step - loss: 0.1807 - accuracy: 0.9435 - val_loss: 0.5778 - val_accuracy: 0.7469\n",
      "Epoch 30/30\n",
      "50/50 [==============================] - 0s 1ms/step - loss: 0.1735 - accuracy: 0.9454 - val_loss: 0.5880 - val_accuracy: 0.7494\n"
     ]
    }
   ],
   "source": [
    "EPOCHS = 30\n",
    "history = model.fit(train_seq, \n",
    "         train_label, \n",
    "         epochs=EPOCHS, \n",
    "         validation_data=(test_seq, test_label)           \n",
    "         )"
   ]
  },
  {
   "cell_type": "markdown",
   "metadata": {},
   "source": [
    "## Plot Accuracy /Loss"
   ]
  },
  {
   "cell_type": "code",
   "execution_count": 24,
   "metadata": {},
   "outputs": [],
   "source": [
    "loss = history.history['loss']\n",
    "val_loss = history.history['val_loss']\n",
    "\n",
    "acc = history.history['val_loss']\n",
    "val_accuracy = history.history['val_accuracy']\n",
    "\n",
    "x_rng = range(0, EPOCHS)"
   ]
  },
  {
   "cell_type": "code",
   "execution_count": 25,
   "metadata": {},
   "outputs": [
    {
     "data": {
      "image/png": "[encoded data removed]",
      "text/plain": [
       "<Figure size 432x288 with 1 Axes>"
      ]
     },
     "metadata": {
      "needs_background": "light"
     },
     "output_type": "display_data"
    }
   ],
   "source": [
    "plt.plot(x_rng, loss, label ='Training Loss')\n",
    "plt.plot(x_rng, val_loss, label ='Validation Loss')\n",
    "\n",
    "plt.legend()\n",
    "plt.show()"
   ]
  },
  {
   "cell_type": "code",
   "execution_count": 26,
   "metadata": {},
   "outputs": [
    {
     "data": {
      "image/png": "[encoded data removed]",
      "text/plain": [
       "<Figure size 432x288 with 1 Axes>"
      ]
     },
     "metadata": {
      "needs_background": "light"
     },
     "output_type": "display_data"
    }
   ],
   "source": [
    "plt.plot(x_rng, acc, label ='Training Accuracy')\n",
    "plt.plot(x_rng, val_accuracy, label ='Validation Accuracy')\n",
    "\n",
    "plt.legend()\n",
    "plt.show()"
   ]
  },
  {
   "cell_type": "markdown",
   "metadata": {},
   "source": [
    "## Visualize the Network"
   ]
  },
  {
   "cell_type": "code",
   "execution_count": 27,
   "metadata": {},
   "outputs": [
    {
     "name": "stdout",
     "output_type": "stream",
     "text": [
      "(1000, 16)\n"
     ]
    }
   ],
   "source": [
    "# First get the weights of the embedding layer\n",
    "e = model.layers[0]\n",
    "weights = e.get_weights()[0]\n",
    "print(weights.shape) # shape: (vocab_size, embedding_dim)"
   ]
  },
  {
   "cell_type": "code",
   "execution_count": 28,
   "metadata": {},
   "outputs": [],
   "source": [
    "import io\n",
    "\n",
    "# Write out the embedding vectors and metadata\n",
    "out_v = io.open('vecs_sub.tsv', 'w', encoding='utf-8')\n",
    "out_m = io.open('meta_sub.tsv', 'w', encoding='utf-8')\n",
    "\n",
    "for word_num in range(0, vocab_size - 1):\n",
    "    word = tokenizer.decode([word_num])\n",
    "    embeddings = weights[word_num]\n",
    "    out_m.write(word + \"\\n\")\n",
    "    out_v.write('\\t'.join([str(x) for x in embeddings]) + \"\\n\")\n",
    "out_v.close()\n",
    "out_m.close()"
   ]
  },
  {
   "cell_type": "code",
   "execution_count": null,
   "metadata": {},
   "outputs": [],
   "source": []
  }
 ],
 "metadata": {
  "kernelspec": {
   "display_name": "Python [conda env:py3-tf2]",
   "language": "python",
   "name": "conda-env-py3-tf2-py"
  },
  "language_info": {
   "codemirror_mode": {
    "name": "ipython",
    "version": 3
   },
   "file_extension": ".py",
   "mimetype": "text/x-python",
   "name": "python",
   "nbconvert_exporter": "python",
   "pygments_lexer": "ipython3",
   "version": "3.8.5"
  }
 },
 "nbformat": 4,
 "nbformat_minor": 4
}
