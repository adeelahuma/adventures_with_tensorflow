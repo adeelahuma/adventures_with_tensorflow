{
 "cells": [
  {
   "cell_type": "markdown",
   "metadata": {},
   "source": [
    "## Linear Algebra Fundamentals"
   ]
  },
  {
   "cell_type": "markdown",
   "metadata": {},
   "source": [
    "- Matrix : \n",
    "    - A matrix is a collection of numbers ordered in rows and columns.\n",
    "    - 2-dimentional objects as they have rows and columns\n",
    "    - each value is called the elemnet of the matrix\n",
    "    - rows and columns are two dimesnions of the matrix. e.g A is a row x col matrix \n",
    "    - Two Matrices can be added, subtracted and multiplied\n",
    "    - A matrix can only contain numbers, symbols or expressions(a-2)\n",
    "    - matrices can be any size ; m x n \n",
    "    - $a_{ij}$ is the element at row i and column j \n",
    "    - total number of elements is m*n \n",
    "- Scalars\n",
    "    - Matrix with one row and column \n",
    "    - all numbers from algebra are scalars in linear algebra\n",
    "    - e.g [15], [pie]\n",
    "    - scalars have no dimension\n",
    "- Vectors\n",
    "    - vectors has 1 dimension; column or row; m x 1 or 1 x m \n",
    "    - simlest linear algebric object due to many applications of vectors\n",
    "    - it is common to view matrices as a collection of vectors \n",
    "    - two types of vectors: row vectors and column vectors \n",
    "    - length of vector : number of elemnets in a vector \n",
    "    \n",
    "    \n",
    "    \n",
    "\n"
   ]
  },
  {
   "cell_type": "markdown",
   "metadata": {},
   "source": [
    "Linear Algebra and Geometry \n",
    "\n",
    "- Mathematics work based on analogies  \n",
    "- Point vs Scalar\n",
    "    - a point is a simplest object in terms of geometry\n",
    "    - It has no dimension or size\n",
    "    - a scalar is like point \n",
    "- Line vs Vector \n",
    "    - vector has one dimension\n",
    "    - its like a line; however it has a direction and can be oriented in many different ways \n",
    "- Plane vs Matrices\n",
    "    - to plot a line on 2D plane, we cross it with another line.\n",
    "    - 2D space is defined by two lines\n",
    "    - Two lines mean two vectors and in linear algebra matrix is a collection of vectors.\n",
    "    - Any 2-dimentional plane can be represented by a matrix \n",
    "- If we want to represent a vector on the 2D plane, it will always start from origin of the graph \n",
    "- vectors [1 0] and [0 1] and taking these two we can create a matrix [1 0; 0 1]\n",
    "- the matrix [1 0; 0 1] would define the 2D plane (small portion)\n",
    "- Every two vector would define a 2D plane. e.g the computer screen \n",
    "- 3D vector plotter : https://academo.org/demos/3d-vector-plotter/\n"
   ]
  },
  {
   "cell_type": "markdown",
   "metadata": {},
   "source": [
    "Tensors\n",
    "- Tensorflow works with Tensors\n",
    "- Tensor is a general concept \n",
    "- scalars, vectors and matrices are all tensors of rank 0, 1 and 2 respectively \n",
    "- Tensor of rank 3 has dimensions k x m x n; it can be thought of as a collection of matrices\n",
    "- Tensors can be stored in nd-array in python \n"
   ]
  },
  {
   "cell_type": "markdown",
   "metadata": {},
   "source": [
    "Matrix Addition/Subtraction \n",
    "- two matrices must have the same dimesnions\n",
    "- add/subtract corresponding entries \n",
    "<br>\n",
    "Vectors must have same length and add/subtract corresponding entries "
   ]
  },
  {
   "cell_type": "markdown",
   "metadata": {},
   "source": [
    "Transposing Vectors/Matrices\n",
    "\n",
    "- transponse converts rows to columns and columns to rows\n",
    "- values are not changing or transforming; only their position is \n",
    "- transposning twice yeilds the initial vector \n",
    "- a m x n matrix transpose is a n x m matrix \n",
    "- any scalar transposed is equal itself\n"
   ]
  },
  {
   "cell_type": "markdown",
   "metadata": {},
   "source": [
    "Vector Multiplication \n",
    "- must have same length \n",
    "- two types of products: dot/inner/scalar product , tensor/outer product \n",
    "- dot product : sum of the product of corresposning elements \n",
    "  \n"
   ]
  },
  {
   "cell_type": "markdown",
   "metadata": {},
   "source": [
    "Matrix Multiplictaion \n",
    "- the cols of first matrix(m x n) and rows of second must be same(n x k) \n",
    "- the output is m x k matrix \n",
    "- Note for two vectors , we transponse one vector to match the dimension"
   ]
  },
  {
   "cell_type": "markdown",
   "metadata": {},
   "source": [
    "**Applications of Linear Algebra in Data Science**\n",
    "\n",
    "- Vectorized code; aka array programming \n",
    "- Image Recongnition\n",
    "- Dimensionality Reduction \n",
    "\n",
    "<br>\n",
    "Array Programming: whenever we are using linear algebra to compute many values simultaneously; numpy is optimized for performing this kind of operations\n",
    "\n",
    "<br>\n",
    "<br>\n",
    "Image Recongnition: \n",
    "- MNIST: classify hand written digits \n",
    "- CIFAR 10: classify animals and vehicles\n",
    "- CIFAR 100: classify 100 different classes of images\n",
    "\n",
    "- we can not just take photo and give it to the computer, we need to turn the photo into numbers in order to communicate the image to the computer \n",
    "- Each photo has a dimension; 200 x 200 pixels  \n",
    "- Each pixel is a colored square \n",
    "- Zoom -in until we see pixels; zoom out to reach the photo \n",
    "- grayscale contains 256 shades of grey; 0 is totally white and 255 is totally black \n",
    "- we can express photo as a matrix; each element of that matrix is a number from 0 to 255 \n",
    "- RGB; any color perceived by the human eye can be decomposed into some combination of red, green and blue\n",
    "- in order to represent a colored photo, we need to add another dimension of color and now we get a 3 x 200 x 200 tensor; this tensor has three 400 x 400 matrices , one for each color \n",
    "\n",
    "Dimensionality Reduction \n",
    "\n",
    "- Eigen Values/ Eigen Vectors \n",
    "- we reduce the problem from 3 to 2 varaibles or 100 to 40 variables\n",
    "- e.g survey questions ; they may seem different but they measure one thing e.g level of extroversion. Thats where dimensionality reduction and linear algebra comes in.\n",
    "- We have too many variables that are not so different, so want to reduce the complexity of the problem by reducing the number of variables\n",
    "\n"
   ]
  },
  {
   "cell_type": "code",
   "execution_count": null,
   "metadata": {},
   "outputs": [],
   "source": []
  },
  {
   "cell_type": "code",
   "execution_count": null,
   "metadata": {},
   "outputs": [],
   "source": []
  }
 ],
 "metadata": {
  "kernelspec": {
   "display_name": "Python 3",
   "language": "python",
   "name": "python3"
  },
  "language_info": {
   "codemirror_mode": {
    "name": "ipython",
    "version": 3
   },
   "file_extension": ".py",
   "mimetype": "text/x-python",
   "name": "python",
   "nbconvert_exporter": "python",
   "pygments_lexer": "ipython3",
   "version": "3.7.6"
  }
 },
 "nbformat": 4,
 "nbformat_minor": 4
}
