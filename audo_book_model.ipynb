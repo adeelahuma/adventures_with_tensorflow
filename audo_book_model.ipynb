{
 "cells": [
  {
   "cell_type": "code",
   "execution_count": 1,
   "metadata": {},
   "outputs": [],
   "source": [
    "import numpy as np\n",
    "import pandas as pd\n",
    "\n",
    "import tensorflow as tf \n",
    "\n",
    "import matplotlib.pyplot as plt"
   ]
  },
  {
   "cell_type": "code",
   "execution_count": 2,
   "metadata": {},
   "outputs": [],
   "source": [
    "train_npz = np.load('data/audio_book_train.npz')\n",
    "train_data = train_npz['inputs']\n",
    "train_targets = train_npz['targets']\n",
    "\n",
    "\n",
    "test_npz = np.load('data/audio_book_test.npz')\n",
    "test_data = test_npz['inputs']\n",
    "test_targets = test_npz['targets']\n",
    "\n",
    "val_npz = np.load('data/audio_book_validation.npz')\n",
    "val_data = test_npz['inputs']\n",
    "val_targets = test_npz['targets']\n",
    "\n",
    "\n"
   ]
  },
  {
   "cell_type": "code",
   "execution_count": 3,
   "metadata": {},
   "outputs": [
    {
     "data": {
      "text/plain": [
       "(3579, 10)"
      ]
     },
     "execution_count": 3,
     "metadata": {},
     "output_type": "execute_result"
    }
   ],
   "source": [
    "train_data.shape"
   ]
  },
  {
   "cell_type": "code",
   "execution_count": 4,
   "metadata": {},
   "outputs": [],
   "source": [
    "model = tf.keras.Sequential([\n",
    "    tf.keras.layers.Dense(units=10), \n",
    "    tf.keras.layers.Dense(units=50, activation='relu'), \n",
    "    tf.keras.layers.Dense(units=50, activation='relu'), \n",
    "    tf.keras.layers.Dense(units=2, activation='softmax')\n",
    "])\n",
    "\n",
    "model.compile(optimizer='adam', \n",
    "             metrics=['accuracy'], loss= tf.keras.losses.SparseCategoricalCrossentropy())\n"
   ]
  },
  {
   "cell_type": "code",
   "execution_count": 5,
   "metadata": {},
   "outputs": [],
   "source": [
    "early_stopping =tf.keras.callbacks.EarlyStopping(patience=5)"
   ]
  },
  {
   "cell_type": "code",
   "execution_count": 6,
   "metadata": {},
   "outputs": [
    {
     "name": "stdout",
     "output_type": "stream",
     "text": [
      "Epoch 1/50\n",
      "36/36 - 0s - loss: 0.5787 - accuracy: 0.7200 - val_loss: 0.4831 - val_accuracy: 0.8121\n",
      "Epoch 2/50\n",
      "36/36 - 0s - loss: 0.3992 - accuracy: 0.8648 - val_loss: 0.3611 - val_accuracy: 0.8658\n",
      "Epoch 3/50\n",
      "36/36 - 0s - loss: 0.3196 - accuracy: 0.8818 - val_loss: 0.3274 - val_accuracy: 0.8747\n",
      "Epoch 4/50\n",
      "36/36 - 0s - loss: 0.2948 - accuracy: 0.8894 - val_loss: 0.3030 - val_accuracy: 0.8837\n",
      "Epoch 5/50\n",
      "36/36 - 0s - loss: 0.2808 - accuracy: 0.8944 - val_loss: 0.2879 - val_accuracy: 0.8859\n",
      "Epoch 6/50\n",
      "36/36 - 0s - loss: 0.2713 - accuracy: 0.8977 - val_loss: 0.2830 - val_accuracy: 0.8926\n",
      "Epoch 7/50\n",
      "36/36 - 0s - loss: 0.2623 - accuracy: 0.9000 - val_loss: 0.2730 - val_accuracy: 0.8926\n",
      "Epoch 8/50\n",
      "36/36 - 0s - loss: 0.2593 - accuracy: 0.9003 - val_loss: 0.2721 - val_accuracy: 0.8949\n",
      "Epoch 9/50\n",
      "36/36 - 0s - loss: 0.2544 - accuracy: 0.9030 - val_loss: 0.2695 - val_accuracy: 0.8859\n",
      "Epoch 10/50\n",
      "36/36 - 0s - loss: 0.2527 - accuracy: 0.9056 - val_loss: 0.2558 - val_accuracy: 0.8993\n",
      "Epoch 11/50\n",
      "36/36 - 0s - loss: 0.2476 - accuracy: 0.9044 - val_loss: 0.2567 - val_accuracy: 0.8971\n",
      "Epoch 12/50\n",
      "36/36 - 0s - loss: 0.2440 - accuracy: 0.9075 - val_loss: 0.2482 - val_accuracy: 0.8993\n",
      "Epoch 13/50\n",
      "36/36 - 0s - loss: 0.2425 - accuracy: 0.9081 - val_loss: 0.2498 - val_accuracy: 0.8971\n",
      "Epoch 14/50\n",
      "36/36 - 0s - loss: 0.2406 - accuracy: 0.9075 - val_loss: 0.2456 - val_accuracy: 0.9060\n",
      "Epoch 15/50\n",
      "36/36 - 0s - loss: 0.2400 - accuracy: 0.9095 - val_loss: 0.2455 - val_accuracy: 0.9060\n",
      "Epoch 16/50\n",
      "36/36 - 0s - loss: 0.2396 - accuracy: 0.9092 - val_loss: 0.2416 - val_accuracy: 0.9060\n",
      "Epoch 17/50\n",
      "36/36 - 0s - loss: 0.2412 - accuracy: 0.9092 - val_loss: 0.2446 - val_accuracy: 0.8993\n",
      "Epoch 18/50\n",
      "36/36 - 0s - loss: 0.2399 - accuracy: 0.9098 - val_loss: 0.2373 - val_accuracy: 0.9083\n",
      "Epoch 19/50\n",
      "36/36 - 0s - loss: 0.2374 - accuracy: 0.9100 - val_loss: 0.2417 - val_accuracy: 0.9038\n",
      "Epoch 20/50\n",
      "36/36 - 0s - loss: 0.2351 - accuracy: 0.9103 - val_loss: 0.2368 - val_accuracy: 0.9038\n",
      "Epoch 21/50\n",
      "36/36 - 0s - loss: 0.2335 - accuracy: 0.9109 - val_loss: 0.2378 - val_accuracy: 0.9038\n",
      "Epoch 22/50\n",
      "36/36 - 0s - loss: 0.2326 - accuracy: 0.9120 - val_loss: 0.2366 - val_accuracy: 0.9105\n",
      "Epoch 23/50\n",
      "36/36 - 0s - loss: 0.2311 - accuracy: 0.9131 - val_loss: 0.2409 - val_accuracy: 0.9060\n",
      "Epoch 24/50\n",
      "36/36 - 0s - loss: 0.2326 - accuracy: 0.9128 - val_loss: 0.2280 - val_accuracy: 0.9105\n",
      "Epoch 25/50\n",
      "36/36 - 0s - loss: 0.2314 - accuracy: 0.9125 - val_loss: 0.2251 - val_accuracy: 0.9150\n",
      "Epoch 26/50\n",
      "36/36 - 0s - loss: 0.2319 - accuracy: 0.9128 - val_loss: 0.2322 - val_accuracy: 0.9150\n",
      "Epoch 27/50\n",
      "36/36 - 0s - loss: 0.2314 - accuracy: 0.9137 - val_loss: 0.2349 - val_accuracy: 0.9083\n",
      "Epoch 28/50\n",
      "36/36 - 0s - loss: 0.2289 - accuracy: 0.9139 - val_loss: 0.2289 - val_accuracy: 0.9150\n",
      "Epoch 29/50\n",
      "36/36 - 0s - loss: 0.2301 - accuracy: 0.9120 - val_loss: 0.2295 - val_accuracy: 0.9128\n",
      "Epoch 30/50\n",
      "36/36 - 0s - loss: 0.2301 - accuracy: 0.9117 - val_loss: 0.2248 - val_accuracy: 0.9150\n",
      "Epoch 31/50\n",
      "36/36 - 0s - loss: 0.2263 - accuracy: 0.9137 - val_loss: 0.2260 - val_accuracy: 0.9172\n",
      "Epoch 32/50\n",
      "36/36 - 0s - loss: 0.2272 - accuracy: 0.9145 - val_loss: 0.2253 - val_accuracy: 0.9150\n",
      "Epoch 33/50\n",
      "36/36 - 0s - loss: 0.2321 - accuracy: 0.9117 - val_loss: 0.2234 - val_accuracy: 0.9195\n",
      "Epoch 34/50\n",
      "36/36 - 0s - loss: 0.2273 - accuracy: 0.9139 - val_loss: 0.2245 - val_accuracy: 0.9172\n",
      "Epoch 35/50\n",
      "36/36 - 0s - loss: 0.2247 - accuracy: 0.9148 - val_loss: 0.2240 - val_accuracy: 0.9060\n",
      "Epoch 36/50\n",
      "36/36 - 0s - loss: 0.2272 - accuracy: 0.9123 - val_loss: 0.2358 - val_accuracy: 0.9128\n",
      "Epoch 37/50\n",
      "36/36 - 0s - loss: 0.2258 - accuracy: 0.9131 - val_loss: 0.2274 - val_accuracy: 0.9150\n",
      "Epoch 38/50\n",
      "36/36 - 0s - loss: 0.2279 - accuracy: 0.9131 - val_loss: 0.2208 - val_accuracy: 0.9172\n",
      "Epoch 39/50\n",
      "36/36 - 0s - loss: 0.2247 - accuracy: 0.9145 - val_loss: 0.2275 - val_accuracy: 0.9150\n",
      "Epoch 40/50\n",
      "36/36 - 0s - loss: 0.2242 - accuracy: 0.9142 - val_loss: 0.2207 - val_accuracy: 0.9172\n",
      "Epoch 41/50\n",
      "36/36 - 0s - loss: 0.2254 - accuracy: 0.9134 - val_loss: 0.2314 - val_accuracy: 0.9128\n",
      "Epoch 42/50\n",
      "36/36 - 0s - loss: 0.2267 - accuracy: 0.9137 - val_loss: 0.2199 - val_accuracy: 0.9172\n",
      "Epoch 43/50\n",
      "36/36 - 0s - loss: 0.2243 - accuracy: 0.9139 - val_loss: 0.2166 - val_accuracy: 0.9172\n",
      "Epoch 44/50\n",
      "36/36 - 0s - loss: 0.2217 - accuracy: 0.9142 - val_loss: 0.2252 - val_accuracy: 0.9195\n",
      "Epoch 45/50\n",
      "36/36 - 0s - loss: 0.2243 - accuracy: 0.9134 - val_loss: 0.2184 - val_accuracy: 0.9172\n",
      "Epoch 46/50\n",
      "36/36 - 0s - loss: 0.2252 - accuracy: 0.9142 - val_loss: 0.2290 - val_accuracy: 0.9150\n",
      "Epoch 47/50\n",
      "36/36 - 0s - loss: 0.2229 - accuracy: 0.9134 - val_loss: 0.2318 - val_accuracy: 0.9150\n",
      "Epoch 48/50\n",
      "36/36 - 0s - loss: 0.2285 - accuracy: 0.9123 - val_loss: 0.2260 - val_accuracy: 0.9195\n"
     ]
    },
    {
     "data": {
      "text/plain": [
       "<tensorflow.python.keras.callbacks.History at 0x7fda095c02b0>"
      ]
     },
     "execution_count": 6,
     "metadata": {},
     "output_type": "execute_result"
    }
   ],
   "source": [
    "model.fit(train_data, train_targets, \n",
    "         epochs=50,\n",
    "         callbacks=[early_stopping],\n",
    "         validation_data=(val_data,val_targets),\n",
    "         batch_size =100, \n",
    "         verbose=2)"
   ]
  },
  {
   "cell_type": "markdown",
   "metadata": {},
   "source": [
    "## Test the Model"
   ]
  },
  {
   "cell_type": "code",
   "execution_count": 7,
   "metadata": {},
   "outputs": [
    {
     "name": "stdout",
     "output_type": "stream",
     "text": [
      "14/14 [==============================] - 0s 573us/step - loss: 0.2260 - accuracy: 0.9195\n"
     ]
    },
    {
     "data": {
      "text/plain": [
       "(0.2260398119688034, 0.9194630980491638)"
      ]
     },
     "execution_count": 7,
     "metadata": {},
     "output_type": "execute_result"
    }
   ],
   "source": [
    "test_loss, test_accuracy = model.evaluate(test_data,test_targets)\n",
    "test_loss, test_accuracy"
   ]
  },
  {
   "cell_type": "code",
   "execution_count": 8,
   "metadata": {},
   "outputs": [],
   "source": [
    "# val_acc = model.history.history['val_accuracy']\n",
    "# acc = model.history.history['accuracy']\n",
    "\n",
    "test_pred_targets = model.predict(test_data)"
   ]
  },
  {
   "cell_type": "code",
   "execution_count": 9,
   "metadata": {},
   "outputs": [],
   "source": [
    "# test_pred_targets\n",
    "test_pred = np.argmax(test_pred_targets, axis =1)"
   ]
  },
  {
   "cell_type": "code",
   "execution_count": 10,
   "metadata": {},
   "outputs": [],
   "source": [
    "from sklearn.metrics import confusion_matrix"
   ]
  },
  {
   "cell_type": "code",
   "execution_count": 11,
   "metadata": {},
   "outputs": [
    {
     "data": {
      "text/plain": [
       "array([[197,  20],\n",
       "       [ 16, 214]])"
      ]
     },
     "execution_count": 11,
     "metadata": {},
     "output_type": "execute_result"
    }
   ],
   "source": [
    "confusion_matrix(test_targets, test_pred)"
   ]
  },
  {
   "cell_type": "code",
   "execution_count": null,
   "metadata": {},
   "outputs": [],
   "source": []
  }
 ],
 "metadata": {
  "kernelspec": {
   "display_name": "Python [conda env:py3-tf2]",
   "language": "python",
   "name": "conda-env-py3-tf2-py"
  },
  "language_info": {
   "codemirror_mode": {
    "name": "ipython",
    "version": 3
   },
   "file_extension": ".py",
   "mimetype": "text/x-python",
   "name": "python",
   "nbconvert_exporter": "python",
   "pygments_lexer": "ipython3",
   "version": "3.8.5"
  }
 },
 "nbformat": 4,
 "nbformat_minor": 4
}
