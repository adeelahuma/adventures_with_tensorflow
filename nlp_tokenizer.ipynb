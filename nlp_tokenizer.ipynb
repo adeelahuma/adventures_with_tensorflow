{
 "cells": [
  {
   "cell_type": "code",
   "execution_count": 1,
   "metadata": {},
   "outputs": [],
   "source": [
    "import tensorflow as tf \n",
    "from tensorflow.keras.preprocessing.text import Tokenizer\n",
    "from tensorflow.keras.preprocessing.sequence import pad_sequences"
   ]
  },
  {
   "cell_type": "code",
   "execution_count": 2,
   "metadata": {},
   "outputs": [],
   "source": [
    "sentences = ['Its a sunny day today', \n",
    "            'My favourite food is biryani', \n",
    "            'I like chocolate ice cream', \n",
    "            'I like dark chocolate', \n",
    "            'My car is jet black Tesla', \n",
    "            'Your car is royal blue Tesla']"
   ]
  },
  {
   "cell_type": "code",
   "execution_count": 3,
   "metadata": {},
   "outputs": [],
   "source": [
    "tokenizer = Tokenizer(num_words=100, oov_token='<OOV>')\n",
    "tokenizer.fit_on_texts(sentences)"
   ]
  },
  {
   "cell_type": "code",
   "execution_count": 4,
   "metadata": {},
   "outputs": [
    {
     "data": {
      "text/plain": [
       "{'<OOV>': 1,\n",
       " 'is': 2,\n",
       " 'my': 3,\n",
       " 'i': 4,\n",
       " 'like': 5,\n",
       " 'chocolate': 6,\n",
       " 'car': 7,\n",
       " 'tesla': 8,\n",
       " 'its': 9,\n",
       " 'a': 10,\n",
       " 'sunny': 11,\n",
       " 'day': 12,\n",
       " 'today': 13,\n",
       " 'favourite': 14,\n",
       " 'food': 15,\n",
       " 'biryani': 16,\n",
       " 'ice': 17,\n",
       " 'cream': 18,\n",
       " 'dark': 19,\n",
       " 'jet': 20,\n",
       " 'black': 21,\n",
       " 'your': 22,\n",
       " 'royal': 23,\n",
       " 'blue': 24}"
      ]
     },
     "execution_count": 4,
     "metadata": {},
     "output_type": "execute_result"
    }
   ],
   "source": [
    "tokenizer.word_index"
   ]
  },
  {
   "cell_type": "code",
   "execution_count": 5,
   "metadata": {},
   "outputs": [
    {
     "data": {
      "text/plain": [
       "8"
      ]
     },
     "execution_count": 5,
     "metadata": {},
     "output_type": "execute_result"
    }
   ],
   "source": [
    "tokenizer.word_index['tesla']"
   ]
  },
  {
   "cell_type": "code",
   "execution_count": 6,
   "metadata": {},
   "outputs": [],
   "source": [
    "## Creating Sequences"
   ]
  },
  {
   "cell_type": "code",
   "execution_count": 7,
   "metadata": {},
   "outputs": [
    {
     "data": {
      "text/plain": [
       "[[9, 10, 11, 12, 13],\n",
       " [3, 14, 15, 2, 16],\n",
       " [4, 5, 6, 17, 18],\n",
       " [4, 5, 19, 6],\n",
       " [3, 7, 2, 20, 21, 8],\n",
       " [22, 7, 2, 23, 24, 8]]"
      ]
     },
     "execution_count": 7,
     "metadata": {},
     "output_type": "execute_result"
    }
   ],
   "source": [
    "sequences = tokenizer.texts_to_sequences(sentences)\n",
    "sequences"
   ]
  },
  {
   "cell_type": "code",
   "execution_count": 8,
   "metadata": {},
   "outputs": [],
   "source": [
    "## OOV"
   ]
  },
  {
   "cell_type": "code",
   "execution_count": 9,
   "metadata": {},
   "outputs": [],
   "source": [
    "sentences_2 = ['What is your name?', 'I adore cats', 'I love programming']"
   ]
  },
  {
   "cell_type": "code",
   "execution_count": 10,
   "metadata": {},
   "outputs": [
    {
     "data": {
      "text/plain": [
       "[[1, 2, 22, 1], [4, 1, 1], [4, 1, 1]]"
      ]
     },
     "execution_count": 10,
     "metadata": {},
     "output_type": "execute_result"
    }
   ],
   "source": [
    "sequences_2 = tokenizer.texts_to_sequences(sentences_2)\n",
    "sequences_2"
   ]
  },
  {
   "cell_type": "code",
   "execution_count": 11,
   "metadata": {},
   "outputs": [
    {
     "data": {
      "text/plain": [
       "['<OOV> is your <OOV>', 'i <OOV> <OOV>', 'i <OOV> <OOV>']"
      ]
     },
     "execution_count": 11,
     "metadata": {},
     "output_type": "execute_result"
    }
   ],
   "source": [
    "tokenizer.sequences_to_texts(sequences_2)"
   ]
  },
  {
   "cell_type": "code",
   "execution_count": 12,
   "metadata": {},
   "outputs": [
    {
     "data": {
      "text/plain": [
       "['its a sunny day today',\n",
       " 'my favourite food is biryani',\n",
       " 'i like chocolate ice cream',\n",
       " 'i like dark chocolate',\n",
       " 'my car is jet black tesla',\n",
       " 'your car is royal blue tesla']"
      ]
     },
     "execution_count": 12,
     "metadata": {},
     "output_type": "execute_result"
    }
   ],
   "source": [
    "tokenizer.sequences_to_texts(sequences)"
   ]
  },
  {
   "cell_type": "code",
   "execution_count": 13,
   "metadata": {},
   "outputs": [],
   "source": [
    "## Padding "
   ]
  },
  {
   "cell_type": "code",
   "execution_count": 14,
   "metadata": {},
   "outputs": [],
   "source": [
    "padded = pad_sequences(sequences)"
   ]
  },
  {
   "cell_type": "code",
   "execution_count": 15,
   "metadata": {},
   "outputs": [
    {
     "data": {
      "text/plain": [
       "array([[ 0,  9, 10, 11, 12, 13],\n",
       "       [ 0,  3, 14, 15,  2, 16],\n",
       "       [ 0,  4,  5,  6, 17, 18],\n",
       "       [ 0,  0,  4,  5, 19,  6],\n",
       "       [ 3,  7,  2, 20, 21,  8],\n",
       "       [22,  7,  2, 23, 24,  8]], dtype=int32)"
      ]
     },
     "execution_count": 15,
     "metadata": {},
     "output_type": "execute_result"
    }
   ],
   "source": [
    "padded"
   ]
  },
  {
   "cell_type": "code",
   "execution_count": 16,
   "metadata": {},
   "outputs": [
    {
     "data": {
      "text/plain": [
       "[[9, 10, 11, 12, 13],\n",
       " [3, 14, 15, 2, 16],\n",
       " [4, 5, 6, 17, 18],\n",
       " [4, 5, 19, 6],\n",
       " [3, 7, 2, 20, 21, 8],\n",
       " [22, 7, 2, 23, 24, 8]]"
      ]
     },
     "execution_count": 16,
     "metadata": {},
     "output_type": "execute_result"
    }
   ],
   "source": [
    "sequences"
   ]
  },
  {
   "cell_type": "code",
   "execution_count": 17,
   "metadata": {},
   "outputs": [
    {
     "data": {
      "text/plain": [
       "{'<OOV>': 1,\n",
       " 'is': 2,\n",
       " 'my': 3,\n",
       " 'i': 4,\n",
       " 'like': 5,\n",
       " 'chocolate': 6,\n",
       " 'car': 7,\n",
       " 'tesla': 8,\n",
       " 'its': 9,\n",
       " 'a': 10,\n",
       " 'sunny': 11,\n",
       " 'day': 12,\n",
       " 'today': 13,\n",
       " 'favourite': 14,\n",
       " 'food': 15,\n",
       " 'biryani': 16,\n",
       " 'ice': 17,\n",
       " 'cream': 18,\n",
       " 'dark': 19,\n",
       " 'jet': 20,\n",
       " 'black': 21,\n",
       " 'your': 22,\n",
       " 'royal': 23,\n",
       " 'blue': 24}"
      ]
     },
     "execution_count": 17,
     "metadata": {},
     "output_type": "execute_result"
    }
   ],
   "source": [
    "tokenizer.word_index"
   ]
  },
  {
   "cell_type": "code",
   "execution_count": null,
   "metadata": {},
   "outputs": [],
   "source": [
    "## Specify the max length for padded sequence "
   ]
  },
  {
   "cell_type": "code",
   "execution_count": 19,
   "metadata": {},
   "outputs": [
    {
     "data": {
      "text/plain": [
       "array([[11, 12, 13],\n",
       "       [15,  2, 16],\n",
       "       [ 6, 17, 18],\n",
       "       [ 5, 19,  6],\n",
       "       [20, 21,  8],\n",
       "       [23, 24,  8]], dtype=int32)"
      ]
     },
     "execution_count": 19,
     "metadata": {},
     "output_type": "execute_result"
    }
   ],
   "source": [
    "pad_sequences(sequences, maxlen=3)"
   ]
  },
  {
   "cell_type": "code",
   "execution_count": 20,
   "metadata": {},
   "outputs": [
    {
     "data": {
      "text/plain": [
       "array([[ 0,  0,  0,  0,  0,  0,  0,  0,  0,  0,  9, 10, 11, 12, 13],\n",
       "       [ 0,  0,  0,  0,  0,  0,  0,  0,  0,  0,  3, 14, 15,  2, 16],\n",
       "       [ 0,  0,  0,  0,  0,  0,  0,  0,  0,  0,  4,  5,  6, 17, 18],\n",
       "       [ 0,  0,  0,  0,  0,  0,  0,  0,  0,  0,  0,  4,  5, 19,  6],\n",
       "       [ 0,  0,  0,  0,  0,  0,  0,  0,  0,  3,  7,  2, 20, 21,  8],\n",
       "       [ 0,  0,  0,  0,  0,  0,  0,  0,  0, 22,  7,  2, 23, 24,  8]],\n",
       "      dtype=int32)"
      ]
     },
     "execution_count": 20,
     "metadata": {},
     "output_type": "execute_result"
    }
   ],
   "source": [
    "pad_sequences(sequences, maxlen=15)"
   ]
  },
  {
   "cell_type": "code",
   "execution_count": null,
   "metadata": {},
   "outputs": [],
   "source": [
    "## Specify padding at the end"
   ]
  },
  {
   "cell_type": "code",
   "execution_count": 21,
   "metadata": {},
   "outputs": [
    {
     "data": {
      "text/plain": [
       "array([[ 9, 10, 11, 12, 13,  0,  0,  0,  0,  0,  0,  0,  0,  0,  0],\n",
       "       [ 3, 14, 15,  2, 16,  0,  0,  0,  0,  0,  0,  0,  0,  0,  0],\n",
       "       [ 4,  5,  6, 17, 18,  0,  0,  0,  0,  0,  0,  0,  0,  0,  0],\n",
       "       [ 4,  5, 19,  6,  0,  0,  0,  0,  0,  0,  0,  0,  0,  0,  0],\n",
       "       [ 3,  7,  2, 20, 21,  8,  0,  0,  0,  0,  0,  0,  0,  0,  0],\n",
       "       [22,  7,  2, 23, 24,  8,  0,  0,  0,  0,  0,  0,  0,  0,  0]],\n",
       "      dtype=int32)"
      ]
     },
     "execution_count": 21,
     "metadata": {},
     "output_type": "execute_result"
    }
   ],
   "source": [
    "pad_sequences(sequences, maxlen=15, padding='post')"
   ]
  },
  {
   "cell_type": "code",
   "execution_count": null,
   "metadata": {},
   "outputs": [],
   "source": [
    "## OOV"
   ]
  },
  {
   "cell_type": "code",
   "execution_count": 23,
   "metadata": {},
   "outputs": [
    {
     "data": {
      "text/plain": [
       "array([[ 1,  2, 22,  1,  0,  0,  0,  0,  0,  0],\n",
       "       [ 4,  1,  1,  0,  0,  0,  0,  0,  0,  0],\n",
       "       [ 4,  1,  1,  0,  0,  0,  0,  0,  0,  0]], dtype=int32)"
      ]
     },
     "execution_count": 23,
     "metadata": {},
     "output_type": "execute_result"
    }
   ],
   "source": [
    "pad_sequences(sequences_2, maxlen=10, padding='post')"
   ]
  },
  {
   "cell_type": "code",
   "execution_count": null,
   "metadata": {},
   "outputs": [],
   "source": []
  }
 ],
 "metadata": {
  "kernelspec": {
   "display_name": "Python [conda env:py3-tf2]",
   "language": "python",
   "name": "conda-env-py3-tf2-py"
  },
  "language_info": {
   "codemirror_mode": {
    "name": "ipython",
    "version": 3
   },
   "file_extension": ".py",
   "mimetype": "text/x-python",
   "name": "python",
   "nbconvert_exporter": "python",
   "pygments_lexer": "ipython3",
   "version": "3.8.5"
  }
 },
 "nbformat": 4,
 "nbformat_minor": 4
}
