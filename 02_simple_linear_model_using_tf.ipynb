{
 "cells": [
  {
   "cell_type": "markdown",
   "metadata": {},
   "source": [
    "# Intro to Tensorflow \n",
    "\n",
    "scalar(rank: 0)  --> vector (rank: 1)--> matrices(rank: 2) --> tensor \n",
    "\n",
    "- Two popular machine learning libraries :\n",
    "    - sklearn; can be good for kmeans clustering , random forest  \n",
    "    - tensorflow; google released in end of 2015; leading library for neural networks, cnn and rnn\n",
    "        - uses both cpu and gpu; this is crucial for the speed of algorithms and TF utilizes more computing power and this is done automatically \n",
    "        - google also introduced TPU (Tebsor Processing unit)\n",
    "        \n",
    "Tensor flow is a **deep learning library**     "
   ]
  },
  {
   "cell_type": "markdown",
   "metadata": {},
   "source": [
    "##  Tensorflow 1 vs Tensorflow 2\n",
    "- TF1 strange methods and logic of code is unlike other libraries and hard to learn and use. \n",
    "- This led to development of high level pacakges such as PyTorch and Keras\n",
    "- in 2015 Keras was integrated in core TF\n",
    "- Keras and TF are open source \n",
    "- Keras is conceived as an interface for TF rather than a different libraries.\n",
    "- TF2 came in 2019\n",
    "    - it borrowed keras syntax\n",
    "    - no duplicate or deprecated functions\n",
    "    - eager execution (?)\n"
   ]
  },
  {
   "cell_type": "markdown",
   "metadata": {},
   "source": [
    "## TF file formats\n",
    "- TF does not work well with excel and csv files\n",
    "- Its tensor based , so **we want format that can store the information in tensors** \n",
    "- .npz files \n",
    "    - numpy's file type. It allows to stores n-dimensional arrays\n",
    "    - tensors can be represented as n-dimensional arrays. in npz files data is already organized in required format \n",
    "    - in deep learning: data --> preprocess --. save as .npz"
   ]
  },
  {
   "cell_type": "code",
   "execution_count": 1,
   "metadata": {},
   "outputs": [],
   "source": [
    "import numpy as np \n",
    "import tensorflow as tf \n",
    "import matplotlib.pyplot as plt "
   ]
  },
  {
   "cell_type": "markdown",
   "metadata": {},
   "source": [
    "## Data Generation\n",
    "    \n",
    "    "
   ]
  },
  {
   "cell_type": "code",
   "execution_count": 2,
   "metadata": {},
   "outputs": [
    {
     "name": "stdout",
     "output_type": "stream",
     "text": [
      "(100000, 2) (100000, 1)\n"
     ]
    }
   ],
   "source": [
    "n = 100000 #\n",
    "\n",
    "x = np.random.uniform(low=-10,high=10, size=(n, 1))\n",
    "z = np.random.uniform(-10,10, (n, 1))\n",
    "\n",
    "inputs = np.column_stack((x,z))\n",
    "\n",
    "\n",
    "noise = np.random.uniform(-1,1, (n,1))\n",
    "\n",
    "y  = 2*x - 3*z + 5 + noise\n",
    "inputs.shape\n",
    "\n",
    "print(inputs.shape , y.shape)\n",
    "\n",
    "# saving in TF format \n",
    "np.savez('tf_intro', inputs= inputs, targets = y)\n"
   ]
  },
  {
   "cell_type": "markdown",
   "metadata": {},
   "source": [
    "## Solving with TF \n",
    "- With TF we must build our model \n",
    "- tf.keras --> module\n",
    "- tf.keras.Sequential  --> function that indicates that we are laying down the model \n",
    "- tf.keras.layers.Dense --> takes the input provided to the model and calculates the dot product of the inputs and the weights and adds the bias. Also applies activation function \n",
    "- SGD --> Stochastic Gradient Descent; generalization of gradient descent algorithm \n",
    "- Epoch --> iteration over the full dataset \n",
    "- verbose = 0 stands for silent or no output about the training is displayed\n",
    "- try verbose = 1 and verbose = 2 \n",
    "- kernel_initializer --> broader term for weight "
   ]
  },
  {
   "cell_type": "code",
   "execution_count": 3,
   "metadata": {},
   "outputs": [],
   "source": [
    "training_data = np.load('tf_intro.npz')"
   ]
  },
  {
   "cell_type": "code",
   "execution_count": 4,
   "metadata": {},
   "outputs": [
    {
     "name": "stdout",
     "output_type": "stream",
     "text": [
      "Epoch 1/100\n",
      "3125/3125 - 1s - loss: 0.6149\n",
      "Epoch 2/100\n",
      "3125/3125 - 1s - loss: 0.3805\n",
      "Epoch 3/100\n",
      "3125/3125 - 1s - loss: 0.3820\n",
      "Epoch 4/100\n",
      "3125/3125 - 1s - loss: 0.3810\n",
      "Epoch 5/100\n",
      "3125/3125 - 1s - loss: 0.3816\n",
      "Epoch 6/100\n",
      "3125/3125 - 1s - loss: 0.3829\n",
      "Epoch 7/100\n",
      "3125/3125 - 1s - loss: 0.3804\n",
      "Epoch 8/100\n",
      "3125/3125 - 1s - loss: 0.3790\n",
      "Epoch 9/100\n",
      "3125/3125 - 1s - loss: 0.3818\n",
      "Epoch 10/100\n",
      "3125/3125 - 1s - loss: 0.3787\n",
      "Epoch 11/100\n",
      "3125/3125 - 1s - loss: 0.3804\n",
      "Epoch 12/100\n",
      "3125/3125 - 1s - loss: 0.3792\n",
      "Epoch 13/100\n",
      "3125/3125 - 1s - loss: 0.3799\n",
      "Epoch 14/100\n",
      "3125/3125 - 1s - loss: 0.3817\n",
      "Epoch 15/100\n",
      "3125/3125 - 1s - loss: 0.3809\n",
      "Epoch 16/100\n",
      "3125/3125 - 1s - loss: 0.3798\n",
      "Epoch 17/100\n",
      "3125/3125 - 1s - loss: 0.3785\n",
      "Epoch 18/100\n",
      "3125/3125 - 1s - loss: 0.3785\n",
      "Epoch 19/100\n",
      "3125/3125 - 1s - loss: 0.3809\n",
      "Epoch 20/100\n",
      "3125/3125 - 1s - loss: 0.3811\n",
      "Epoch 21/100\n",
      "3125/3125 - 1s - loss: 0.3770\n",
      "Epoch 22/100\n",
      "3125/3125 - 1s - loss: 0.3800\n",
      "Epoch 23/100\n",
      "3125/3125 - 1s - loss: 0.3797\n",
      "Epoch 24/100\n",
      "3125/3125 - 1s - loss: 0.3832\n",
      "Epoch 25/100\n",
      "3125/3125 - 1s - loss: 0.3851\n",
      "Epoch 26/100\n",
      "3125/3125 - 1s - loss: 0.3801\n",
      "Epoch 27/100\n",
      "3125/3125 - 1s - loss: 0.3783\n",
      "Epoch 28/100\n",
      "3125/3125 - 1s - loss: 0.3802\n",
      "Epoch 29/100\n",
      "3125/3125 - 1s - loss: 0.3807\n",
      "Epoch 30/100\n",
      "3125/3125 - 1s - loss: 0.3805\n",
      "Epoch 31/100\n",
      "3125/3125 - 1s - loss: 0.3780\n",
      "Epoch 32/100\n",
      "3125/3125 - 1s - loss: 0.3815\n",
      "Epoch 33/100\n",
      "3125/3125 - 1s - loss: 0.3788\n",
      "Epoch 34/100\n",
      "3125/3125 - 1s - loss: 0.3786\n",
      "Epoch 35/100\n",
      "3125/3125 - 1s - loss: 0.3786\n",
      "Epoch 36/100\n",
      "3125/3125 - 1s - loss: 0.3803\n",
      "Epoch 37/100\n",
      "3125/3125 - 1s - loss: 0.3779\n",
      "Epoch 38/100\n",
      "3125/3125 - 1s - loss: 0.3794\n",
      "Epoch 39/100\n",
      "3125/3125 - 1s - loss: 0.3806\n",
      "Epoch 40/100\n",
      "3125/3125 - 1s - loss: 0.3796\n",
      "Epoch 41/100\n",
      "3125/3125 - 1s - loss: 0.3799\n",
      "Epoch 42/100\n",
      "3125/3125 - 1s - loss: 0.3817\n",
      "Epoch 43/100\n",
      "3125/3125 - 1s - loss: 0.3795\n",
      "Epoch 44/100\n",
      "3125/3125 - 1s - loss: 0.3847\n",
      "Epoch 45/100\n",
      "3125/3125 - 1s - loss: 0.3824\n",
      "Epoch 46/100\n",
      "3125/3125 - 1s - loss: 0.3791\n",
      "Epoch 47/100\n",
      "3125/3125 - 1s - loss: 0.3785\n",
      "Epoch 48/100\n",
      "3125/3125 - 1s - loss: 0.3802\n",
      "Epoch 49/100\n",
      "3125/3125 - 1s - loss: 0.3825\n",
      "Epoch 50/100\n",
      "3125/3125 - 1s - loss: 0.3825\n",
      "Epoch 51/100\n",
      "3125/3125 - 1s - loss: 0.3788\n",
      "Epoch 52/100\n",
      "3125/3125 - 1s - loss: 0.3804\n",
      "Epoch 53/100\n",
      "3125/3125 - 1s - loss: 0.3789\n",
      "Epoch 54/100\n",
      "3125/3125 - 1s - loss: 0.3802\n",
      "Epoch 55/100\n",
      "3125/3125 - 1s - loss: 0.3787\n",
      "Epoch 56/100\n",
      "3125/3125 - 1s - loss: 0.3814\n",
      "Epoch 57/100\n",
      "3125/3125 - 1s - loss: 0.3801\n",
      "Epoch 58/100\n",
      "3125/3125 - 1s - loss: 0.3830\n",
      "Epoch 59/100\n",
      "3125/3125 - 1s - loss: 0.3822\n",
      "Epoch 60/100\n",
      "3125/3125 - 1s - loss: 0.3821\n",
      "Epoch 61/100\n",
      "3125/3125 - 1s - loss: 0.3815\n",
      "Epoch 62/100\n",
      "3125/3125 - 1s - loss: 0.3807\n",
      "Epoch 63/100\n",
      "3125/3125 - 1s - loss: 0.3807\n",
      "Epoch 64/100\n",
      "3125/3125 - 1s - loss: 0.3810\n",
      "Epoch 65/100\n",
      "3125/3125 - 1s - loss: 0.3798\n",
      "Epoch 66/100\n",
      "3125/3125 - 1s - loss: 0.3834\n",
      "Epoch 67/100\n",
      "3125/3125 - 1s - loss: 0.3788\n",
      "Epoch 68/100\n",
      "3125/3125 - 1s - loss: 0.3810\n",
      "Epoch 69/100\n",
      "3125/3125 - 1s - loss: 0.3802\n",
      "Epoch 70/100\n",
      "3125/3125 - 2s - loss: 0.3762\n",
      "Epoch 71/100\n",
      "3125/3125 - 2s - loss: 0.3799\n",
      "Epoch 72/100\n",
      "3125/3125 - 1s - loss: 0.3850\n",
      "Epoch 73/100\n",
      "3125/3125 - 1s - loss: 0.3779\n",
      "Epoch 74/100\n",
      "3125/3125 - 1s - loss: 0.3803\n",
      "Epoch 75/100\n",
      "3125/3125 - 1s - loss: 0.3820\n",
      "Epoch 76/100\n",
      "3125/3125 - 1s - loss: 0.3818\n",
      "Epoch 77/100\n",
      "3125/3125 - 1s - loss: 0.3817\n",
      "Epoch 78/100\n",
      "3125/3125 - 1s - loss: 0.3837\n",
      "Epoch 79/100\n",
      "3125/3125 - 1s - loss: 0.3799\n",
      "Epoch 80/100\n",
      "3125/3125 - 1s - loss: 0.3807\n",
      "Epoch 81/100\n",
      "3125/3125 - 1s - loss: 0.3801\n",
      "Epoch 82/100\n",
      "3125/3125 - 1s - loss: 0.3816\n",
      "Epoch 83/100\n",
      "3125/3125 - 1s - loss: 0.3826\n",
      "Epoch 84/100\n",
      "3125/3125 - 1s - loss: 0.3782\n",
      "Epoch 85/100\n",
      "3125/3125 - 1s - loss: 0.3805\n",
      "Epoch 86/100\n",
      "3125/3125 - 1s - loss: 0.3780\n",
      "Epoch 87/100\n",
      "3125/3125 - 1s - loss: 0.3819\n",
      "Epoch 88/100\n",
      "3125/3125 - 1s - loss: 0.3786\n",
      "Epoch 89/100\n",
      "3125/3125 - 1s - loss: 0.3805\n",
      "Epoch 90/100\n",
      "3125/3125 - 1s - loss: 0.3800\n",
      "Epoch 91/100\n",
      "3125/3125 - 1s - loss: 0.3803\n",
      "Epoch 92/100\n",
      "3125/3125 - 1s - loss: 0.3765\n",
      "Epoch 93/100\n",
      "3125/3125 - 1s - loss: 0.3813\n",
      "Epoch 94/100\n",
      "3125/3125 - 1s - loss: 0.3813\n",
      "Epoch 95/100\n",
      "3125/3125 - 1s - loss: 0.3820\n",
      "Epoch 96/100\n",
      "3125/3125 - 1s - loss: 0.3812\n",
      "Epoch 97/100\n",
      "3125/3125 - 1s - loss: 0.3860\n",
      "Epoch 98/100\n",
      "3125/3125 - 1s - loss: 0.3797\n",
      "Epoch 99/100\n",
      "3125/3125 - 1s - loss: 0.3774\n",
      "Epoch 100/100\n",
      "3125/3125 - 1s - loss: 0.3809\n"
     ]
    },
    {
     "data": {
      "text/plain": [
       "<tensorflow.python.keras.callbacks.History at 0x7f8b99784190>"
      ]
     },
     "execution_count": 4,
     "metadata": {},
     "output_type": "execute_result"
    }
   ],
   "source": [
    "input_size = 2\n",
    "output_size = 1\n",
    "\n",
    "model  = tf.keras.Sequential([\n",
    "                                tf.keras.layers.Dense(output_size, \n",
    "                                kernel_initializer = tf.random_uniform_initializer(minval=-0.1, maxval=0.1),\n",
    "                                bias_initializer = tf.random_uniform_initializer(minval=-0.1, maxval=0.1)) \n",
    "                                \n",
    "                            ])\n",
    "\n",
    "custom_optimizer = tf.keras.optimizers.SGD(learning_rate=0.02)\n",
    "\n",
    "model.compile(optimizer = custom_optimizer, loss = 'mean_squared_error')\n",
    "\n",
    "\n",
    "model.fit(training_data['inputs'], training_data['targets'], epochs = 100, verbose = 2)\n"
   ]
  },
  {
   "cell_type": "markdown",
   "metadata": {},
   "source": [
    "### Extract weights and biases\n"
   ]
  },
  {
   "cell_type": "code",
   "execution_count": 5,
   "metadata": {},
   "outputs": [
    {
     "data": {
      "text/plain": [
       "[array([[ 1.9896656],\n",
       "        [-3.0432231]], dtype=float32),\n",
       " array([4.9887834], dtype=float32)]"
      ]
     },
     "execution_count": 5,
     "metadata": {},
     "output_type": "execute_result"
    }
   ],
   "source": [
    "model.layers[0].get_weights()"
   ]
  },
  {
   "cell_type": "code",
   "execution_count": 6,
   "metadata": {},
   "outputs": [
    {
     "data": {
      "text/plain": [
       "array([[ 1.9896656],\n",
       "       [-3.0432231]], dtype=float32)"
      ]
     },
     "execution_count": 6,
     "metadata": {},
     "output_type": "execute_result"
    }
   ],
   "source": [
    "weights = model.layers[0].get_weights()[0]\n",
    "weights"
   ]
  },
  {
   "cell_type": "code",
   "execution_count": 7,
   "metadata": {},
   "outputs": [
    {
     "data": {
      "text/plain": [
       "array([4.9887834], dtype=float32)"
      ]
     },
     "execution_count": 7,
     "metadata": {},
     "output_type": "execute_result"
    }
   ],
   "source": [
    "bias = model.layers[0].get_weights()[1]\n",
    "bias"
   ]
  },
  {
   "cell_type": "markdown",
   "metadata": {},
   "source": [
    "## Extract the outputs (make predictions) "
   ]
  },
  {
   "cell_type": "code",
   "execution_count": 8,
   "metadata": {},
   "outputs": [
    {
     "data": {
      "text/plain": [
       "array([[ -8.9],\n",
       "       [ 13.3],\n",
       "       [-12.3],\n",
       "       ...,\n",
       "       [ 14.7],\n",
       "       [ 22.7],\n",
       "       [ 12.4]], dtype=float32)"
      ]
     },
     "execution_count": 8,
     "metadata": {},
     "output_type": "execute_result"
    }
   ],
   "source": [
    "model.predict_on_batch(training_data['inputs']).round(1)"
   ]
  },
  {
   "cell_type": "code",
   "execution_count": 9,
   "metadata": {},
   "outputs": [
    {
     "data": {
      "text/plain": [
       "array([[ -7.9],\n",
       "       [ 13.4],\n",
       "       [-12.3],\n",
       "       ...,\n",
       "       [ 15.7],\n",
       "       [ 23.1],\n",
       "       [ 11.5]])"
      ]
     },
     "execution_count": 9,
     "metadata": {},
     "output_type": "execute_result"
    }
   ],
   "source": [
    "training_data['targets'].round(1)"
   ]
  },
  {
   "cell_type": "markdown",
   "metadata": {},
   "source": [
    "### Plotting the data"
   ]
  },
  {
   "cell_type": "code",
   "execution_count": 10,
   "metadata": {},
   "outputs": [
    {
     "data": {
      "image/png": "[encoded data removed]",
      "text/plain": [
       "<Figure size 432x288 with 1 Axes>"
      ]
     },
     "metadata": {
      "needs_background": "light"
     },
     "output_type": "display_data"
    }
   ],
   "source": [
    "plt.plot(training_data['targets'], model.predict_on_batch(training_data['inputs']))\n",
    "plt.xlabel('y')\n",
    "plt.ylabel('y_hat')\n",
    "plt.show()"
   ]
  },
  {
   "cell_type": "code",
   "execution_count": 11,
   "metadata": {},
   "outputs": [],
   "source": [
    "np.squeeze?"
   ]
  },
  {
   "cell_type": "raw",
   "metadata": {},
   "source": [
    "solve the following exercises\n",
    "\n",
    "    1. Change the number of observations to 100,000 and see what happens. \n",
    "    >> each epoch took 1s second; loss oscillated between 0.3787 and 0.3804\n",
    "\n",
    "    2. Play around with the learning rate. Values like 0.0001, 0.001, 0.1, 1 are all interesting to observe.\n",
    "\n",
    "    3. Change the loss function. An alternative loss for regressions is the Huber loss.\n",
    "\n",
    "The Huber loss is more appropriate than the L2-norm when we have outliers, as it is less sensitive to them (in our example we don't have outliers, but you will surely stumble upon a dataset with outliers in the future). The L2-norm loss puts all differences *to the square*, so outliers have a lot of influence on the outcome. The proper syntax of the Huber loss is 'huber_loss'"
   ]
  },
  {
   "cell_type": "code",
   "execution_count": null,
   "metadata": {},
   "outputs": [],
   "source": []
  },
  {
   "cell_type": "code",
   "execution_count": null,
   "metadata": {},
   "outputs": [],
   "source": []
  },
  {
   "cell_type": "code",
   "execution_count": null,
   "metadata": {},
   "outputs": [],
   "source": []
  },
  {
   "cell_type": "code",
   "execution_count": null,
   "metadata": {},
   "outputs": [],
   "source": []
  }
 ],
 "metadata": {
  "kernelspec": {
   "display_name": "Python [conda env:py3-tf2.0]",
   "language": "python",
   "name": "conda-env-py3-tf2.0-py"
  },
  "language_info": {
   "codemirror_mode": {
    "name": "ipython",
    "version": 3
   },
   "file_extension": ".py",
   "mimetype": "text/x-python",
   "name": "python",
   "nbconvert_exporter": "python",
   "pygments_lexer": "ipython3",
   "version": "3.7.7"
  }
 },
 "nbformat": 4,
 "nbformat_minor": 4
}
