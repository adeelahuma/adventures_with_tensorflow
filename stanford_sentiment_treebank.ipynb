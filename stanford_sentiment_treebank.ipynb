{
 "cells": [
  {
   "cell_type": "code",
   "execution_count": 1,
   "metadata": {},
   "outputs": [],
   "source": [
    "import tensorflow as tf \n",
    "import numpy as np\n",
    "import pandas as pd\n",
    "\n",
    "import matplotlib.pyplot as plt \n",
    "\n",
    "import tensorflow_datasets as tfds"
   ]
  },
  {
   "cell_type": "code",
   "execution_count": 2,
   "metadata": {},
   "outputs": [],
   "source": [
    "np.random.seed(0)"
   ]
  },
  {
   "cell_type": "code",
   "execution_count": 3,
   "metadata": {},
   "outputs": [],
   "source": [
    "dataset, info = tfds.load('glue/sst2', with_info=True)"
   ]
  },
  {
   "cell_type": "code",
   "execution_count": 4,
   "metadata": {},
   "outputs": [
    {
     "data": {
      "text/plain": [
       "0"
      ]
     },
     "execution_count": 4,
     "metadata": {},
     "output_type": "execute_result"
    }
   ],
   "source": [
    "info.dataset_size"
   ]
  },
  {
   "cell_type": "code",
   "execution_count": 5,
   "metadata": {},
   "outputs": [
    {
     "data": {
      "text/plain": [
       "FeaturesDict({\n",
       "    'idx': tf.int32,\n",
       "    'label': ClassLabel(shape=(), dtype=tf.int64, num_classes=2),\n",
       "    'sentence': Text(shape=(), dtype=tf.string),\n",
       "})"
      ]
     },
     "execution_count": 5,
     "metadata": {},
     "output_type": "execute_result"
    }
   ],
   "source": [
    "info.features"
   ]
  },
  {
   "cell_type": "code",
   "execution_count": 6,
   "metadata": {},
   "outputs": [
    {
     "data": {
      "text/plain": [
       "<PrefetchDataset shapes: {idx: (), label: (), sentence: ()}, types: {idx: tf.int32, label: tf.int64, sentence: tf.string}>"
      ]
     },
     "execution_count": 6,
     "metadata": {},
     "output_type": "execute_result"
    }
   ],
   "source": [
    "##get the train and validation dataset\n",
    "\n",
    "train_ds , test_ds = dataset['train'], dataset['validation']\n",
    "train_ds"
   ]
  },
  {
   "cell_type": "code",
   "execution_count": 7,
   "metadata": {},
   "outputs": [
    {
     "name": "stdout",
     "output_type": "stream",
     "text": [
      "Review:  tf.Tensor(b'for the uninitiated plays better on video with the sound ', shape=(), dtype=string)\n",
      "Label:  0\n",
      "Review:  tf.Tensor(b'like a giant commercial for universal studios , where much of the action takes place ', shape=(), dtype=string)\n",
      "Label:  0\n"
     ]
    }
   ],
   "source": [
    "for example in train_ds.take(2):\n",
    "    review, label = example['sentence'], example['label']\n",
    "    print(\"Review: \", review)\n",
    "    print(\"Label: \", label.numpy())"
   ]
  },
  {
   "cell_type": "code",
   "execution_count": 8,
   "metadata": {},
   "outputs": [
    {
     "name": "stdout",
     "output_type": "stream",
     "text": [
      "b'for the uninitiated plays better on video with the sound '  ==>  0\n"
     ]
    }
   ],
   "source": [
    "## take a subset of train data because there are 67K records \n",
    "train_reviews = []\n",
    "train_labels = []\n",
    "\n",
    "for review in train_ds.take(5000):\n",
    "    sentence, label = review['sentence'], review['label']\n",
    "    train_reviews.append(str(sentence.numpy()))\n",
    "    train_labels.append(label.numpy())\n",
    "    \n",
    "print(train_reviews[0], ' ==> ', train_labels[0])    "
   ]
  },
  {
   "cell_type": "code",
   "execution_count": 9,
   "metadata": {},
   "outputs": [
    {
     "data": {
      "text/plain": [
       "872"
      ]
     },
     "execution_count": 9,
     "metadata": {},
     "output_type": "execute_result"
    }
   ],
   "source": [
    "# take all test data as there are only 872 records\n",
    "\n",
    "len(test_ds)"
   ]
  },
  {
   "cell_type": "code",
   "execution_count": 10,
   "metadata": {},
   "outputs": [
    {
     "name": "stdout",
     "output_type": "stream",
     "text": [
      "b'a valueless kiddie paean to pro basketball underwritten by the nba . '  ==>  0\n"
     ]
    }
   ],
   "source": [
    "test_reviews = []\n",
    "test_labels = []\n",
    "\n",
    "for review in test_ds.take(-1):\n",
    "    sentence, label = review['sentence'], review['label']\n",
    "    test_reviews.append(str(sentence.numpy()))\n",
    "    test_labels.append(label.numpy())\n",
    "    \n",
    "print(test_reviews[0], ' ==> ', test_labels[0])    \n",
    "    "
   ]
  },
  {
   "cell_type": "markdown",
   "metadata": {},
   "source": [
    "## Test Preprocessing "
   ]
  },
  {
   "cell_type": "code",
   "execution_count": 11,
   "metadata": {},
   "outputs": [],
   "source": [
    "vocab_size = 2000\n",
    "embedding_dim = 16\n",
    "max_length = 50\n"
   ]
  },
  {
   "cell_type": "code",
   "execution_count": 12,
   "metadata": {},
   "outputs": [],
   "source": [
    "from tensorflow.keras.preprocessing.text import Tokenizer\n",
    "from tensorflow.keras.preprocessing.sequence import pad_sequences"
   ]
  },
  {
   "cell_type": "code",
   "execution_count": 13,
   "metadata": {},
   "outputs": [],
   "source": [
    "tokenizer = Tokenizer(num_words=vocab_size, oov_token='<OOV>')"
   ]
  },
  {
   "cell_type": "code",
   "execution_count": 14,
   "metadata": {},
   "outputs": [],
   "source": [
    "tokenizer.fit_on_texts(train_reviews)"
   ]
  },
  {
   "cell_type": "code",
   "execution_count": 15,
   "metadata": {},
   "outputs": [
    {
     "data": {
      "text/plain": [
       "8717"
      ]
     },
     "execution_count": 15,
     "metadata": {},
     "output_type": "execute_result"
    }
   ],
   "source": [
    "word_idx = tokenizer.word_index\n",
    "len(word_idx)"
   ]
  },
  {
   "cell_type": "code",
   "execution_count": 16,
   "metadata": {},
   "outputs": [],
   "source": [
    "## pad sequences\n",
    "train_seq = tokenizer.texts_to_sequences(train_reviews)\n",
    "train_padded_seq = pad_sequences(train_seq, maxlen=max_length, padding='post', truncating='post')\n",
    "\n",
    "test_seq = tokenizer.texts_to_sequences(test_reviews)\n",
    "test_padded_seq = pad_sequences(test_seq, maxlen=max_length, padding='post', truncating='post')\n",
    "\n",
    "train_label = np.array(train_labels)\n",
    "test_labels = np.array(test_labels)\n"
   ]
  },
  {
   "cell_type": "markdown",
   "metadata": {},
   "source": [
    "### Generic Method"
   ]
  },
  {
   "cell_type": "code",
   "execution_count": 17,
   "metadata": {},
   "outputs": [],
   "source": [
    "EPOCHS = 30\n",
    "    \n",
    "def fit_model_show_results(model):\n",
    "    history = fit_model(model)\n",
    "    \n",
    "    plot_results(history, 'loss')\n",
    "    plot_results(history, 'accuracy')\n",
    "    \n",
    "\n",
    "def plot_results(history, metric):\n",
    "    \n",
    "    train = history.history[metric]\n",
    "    val = history.history['val_' + metric]\n",
    "\n",
    "    x_rng = range(0, EPOCHS)\n",
    "    \n",
    "    plt.plot(x_rng, train, label ='Training ' + metric)\n",
    "    plt.plot(x_rng, val, label ='Validation '+ metric)\n",
    "\n",
    "    plt.legend()\n",
    "    plt.show()\n",
    "    \n",
    "    \n",
    "def fit_model(model):\n",
    "    \n",
    "    model.compile(loss = tf.keras.losses.SparseCategoricalCrossentropy(), \n",
    "             metrics=['accuracy'], \n",
    "             optimizer='adam')\n",
    "    \n",
    "\n",
    "    history = model.fit(train_padded_seq, \n",
    "         train_label, \n",
    "         epochs=EPOCHS, \n",
    "         validation_data=(test_padded_seq, test_labels)           \n",
    "         )\n",
    "    \n",
    "    return history\n",
    "  \n",
    "def predict_reviews(model, fake_reviews):\n",
    "    \n",
    "    seq = tokenizer.texts_to_sequences(fake_reviews)\n",
    "\n",
    "    fake_pd_seq = pad_sequences(seq, maxlen = max_length, padding='post', truncating='post')\n",
    "    \n",
    "    classes = model.predict(fake_pd_seq)\n",
    "\n",
    "    for c in np.arange(0, len(fake_pd_seq)):\n",
    "        cl = ('-ve' if np.argmax(classes[c]) == 0 else '+ve')\n",
    "\n",
    "        print(fake_reviews[c] , ' ==> ', cl , ' ==> ', classes[c])    "
   ]
  },
  {
   "cell_type": "markdown",
   "metadata": {},
   "source": [
    "## Embeddings  Model"
   ]
  },
  {
   "cell_type": "code",
   "execution_count": 18,
   "metadata": {},
   "outputs": [
    {
     "name": "stdout",
     "output_type": "stream",
     "text": [
      "Model: \"sequential\"\n",
      "_________________________________________________________________\n",
      "Layer (type)                 Output Shape              Param #   \n",
      "=================================================================\n",
      "embedding (Embedding)        (None, 50, 16)            32000     \n",
      "_________________________________________________________________\n",
      "flatten (Flatten)            (None, 800)               0         \n",
      "_________________________________________________________________\n",
      "dense (Dense)                (None, 6)                 4806      \n",
      "_________________________________________________________________\n",
      "dense_1 (Dense)              (None, 2)                 14        \n",
      "=================================================================\n",
      "Total params: 36,820\n",
      "Trainable params: 36,820\n",
      "Non-trainable params: 0\n",
      "_________________________________________________________________\n"
     ]
    }
   ],
   "source": [
    "model = tf.keras.Sequential([\n",
    "    tf.keras.layers.Embedding(vocab_size, embedding_dim, input_length=max_length), \n",
    "    tf.keras.layers.Flatten(),\n",
    "    tf.keras.layers.Dense(units=6, activation='relu'), \n",
    "    tf.keras.layers.Dense(units=2, activation='softmax')\n",
    "])\n",
    "\n",
    "model.summary()"
   ]
  },
  {
   "cell_type": "code",
   "execution_count": 19,
   "metadata": {},
   "outputs": [
    {
     "name": "stdout",
     "output_type": "stream",
     "text": [
      "Epoch 1/30\n",
      "157/157 [==============================] - 0s 1ms/step - loss: 0.6832 - accuracy: 0.5608 - val_loss: 0.6885 - val_accuracy: 0.5092\n",
      "Epoch 2/30\n",
      "157/157 [==============================] - 0s 716us/step - loss: 0.6461 - accuracy: 0.6066 - val_loss: 0.6436 - val_accuracy: 0.6273\n",
      "Epoch 3/30\n",
      "157/157 [==============================] - 0s 721us/step - loss: 0.5371 - accuracy: 0.7534 - val_loss: 0.6038 - val_accuracy: 0.6720\n",
      "Epoch 4/30\n",
      "157/157 [==============================] - 0s 738us/step - loss: 0.4310 - accuracy: 0.8386 - val_loss: 0.5935 - val_accuracy: 0.7018\n",
      "Epoch 5/30\n",
      "157/157 [==============================] - 0s 737us/step - loss: 0.2930 - accuracy: 0.8792 - val_loss: 0.6293 - val_accuracy: 0.7064\n",
      "Epoch 6/30\n",
      "157/157 [==============================] - 0s 703us/step - loss: 0.2171 - accuracy: 0.9026 - val_loss: 0.6907 - val_accuracy: 0.6995\n",
      "Epoch 7/30\n",
      "157/157 [==============================] - 0s 697us/step - loss: 0.1824 - accuracy: 0.9146 - val_loss: 0.7726 - val_accuracy: 0.6846\n",
      "Epoch 8/30\n",
      "157/157 [==============================] - 0s 698us/step - loss: 0.1594 - accuracy: 0.9238 - val_loss: 0.8731 - val_accuracy: 0.6778\n",
      "Epoch 9/30\n",
      "157/157 [==============================] - 0s 728us/step - loss: 0.1420 - accuracy: 0.9268 - val_loss: 0.8815 - val_accuracy: 0.6766\n",
      "Epoch 10/30\n",
      "157/157 [==============================] - 0s 791us/step - loss: 0.1336 - accuracy: 0.9290 - val_loss: 0.9322 - val_accuracy: 0.6812\n",
      "Epoch 11/30\n",
      "157/157 [==============================] - 0s 700us/step - loss: 0.1239 - accuracy: 0.9392 - val_loss: 0.9415 - val_accuracy: 0.6835\n",
      "Epoch 12/30\n",
      "157/157 [==============================] - 0s 715us/step - loss: 0.1205 - accuracy: 0.9328 - val_loss: 1.0032 - val_accuracy: 0.6755\n",
      "Epoch 13/30\n",
      "157/157 [==============================] - 0s 738us/step - loss: 0.1174 - accuracy: 0.9358 - val_loss: 1.0161 - val_accuracy: 0.6869\n",
      "Epoch 14/30\n",
      "157/157 [==============================] - 0s 748us/step - loss: 0.1110 - accuracy: 0.9360 - val_loss: 1.0725 - val_accuracy: 0.6823\n",
      "Epoch 15/30\n",
      "157/157 [==============================] - 0s 720us/step - loss: 0.1077 - accuracy: 0.9394 - val_loss: 1.1386 - val_accuracy: 0.6743\n",
      "Epoch 16/30\n",
      "157/157 [==============================] - 0s 696us/step - loss: 0.1054 - accuracy: 0.9382 - val_loss: 1.1839 - val_accuracy: 0.6755\n",
      "Epoch 17/30\n",
      "157/157 [==============================] - 0s 699us/step - loss: 0.1033 - accuracy: 0.9390 - val_loss: 1.1998 - val_accuracy: 0.6800\n",
      "Epoch 18/30\n",
      "157/157 [==============================] - 0s 734us/step - loss: 0.1002 - accuracy: 0.9418 - val_loss: 1.2749 - val_accuracy: 0.6686\n",
      "Epoch 19/30\n",
      "157/157 [==============================] - 0s 741us/step - loss: 0.1018 - accuracy: 0.9402 - val_loss: 1.2933 - val_accuracy: 0.6651\n",
      "Epoch 20/30\n",
      "157/157 [==============================] - 0s 731us/step - loss: 0.0968 - accuracy: 0.9412 - val_loss: 1.3264 - val_accuracy: 0.6732\n",
      "Epoch 21/30\n",
      "157/157 [==============================] - 0s 749us/step - loss: 0.0964 - accuracy: 0.9392 - val_loss: 1.3134 - val_accuracy: 0.6812\n",
      "Epoch 22/30\n",
      "157/157 [==============================] - 0s 870us/step - loss: 0.0977 - accuracy: 0.9438 - val_loss: 1.3463 - val_accuracy: 0.6789\n",
      "Epoch 23/30\n",
      "157/157 [==============================] - 0s 1ms/step - loss: 0.0961 - accuracy: 0.9408 - val_loss: 1.3650 - val_accuracy: 0.6743\n",
      "Epoch 24/30\n",
      "157/157 [==============================] - 0s 843us/step - loss: 0.0960 - accuracy: 0.9448 - val_loss: 1.4456 - val_accuracy: 0.6686\n",
      "Epoch 25/30\n",
      "157/157 [==============================] - 0s 766us/step - loss: 0.0960 - accuracy: 0.9422 - val_loss: 1.4042 - val_accuracy: 0.6755\n",
      "Epoch 26/30\n",
      "157/157 [==============================] - 0s 807us/step - loss: 0.0943 - accuracy: 0.9450 - val_loss: 1.5325 - val_accuracy: 0.6628\n",
      "Epoch 27/30\n",
      "157/157 [==============================] - 0s 707us/step - loss: 0.0931 - accuracy: 0.9412 - val_loss: 1.4532 - val_accuracy: 0.6674\n",
      "Epoch 28/30\n",
      "157/157 [==============================] - 0s 696us/step - loss: 0.0919 - accuracy: 0.9414 - val_loss: 1.5244 - val_accuracy: 0.6697\n",
      "Epoch 29/30\n",
      "157/157 [==============================] - 0s 767us/step - loss: 0.0924 - accuracy: 0.9442 - val_loss: 1.5221 - val_accuracy: 0.6686\n",
      "Epoch 30/30\n",
      "157/157 [==============================] - 0s 1ms/step - loss: 0.0909 - accuracy: 0.9444 - val_loss: 1.5725 - val_accuracy: 0.6617\n"
     ]
    },
    {
     "data": {
      "image/png": "[encoded data removed]",
      "text/plain": [
       "<Figure size 432x288 with 1 Axes>"
      ]
     },
     "metadata": {
      "needs_background": "light"
     },
     "output_type": "display_data"
    },
    {
     "data": {
      "image/png": "[encoded data removed]",
      "text/plain": [
       "<Figure size 432x288 with 1 Axes>"
      ]
     },
     "metadata": {
      "needs_background": "light"
     },
     "output_type": "display_data"
    }
   ],
   "source": [
    "fit_model_show_results(model)"
   ]
  },
  {
   "cell_type": "code",
   "execution_count": null,
   "metadata": {},
   "outputs": [],
   "source": []
  },
  {
   "cell_type": "markdown",
   "metadata": {},
   "source": [
    "## CNN"
   ]
  },
  {
   "cell_type": "code",
   "execution_count": 20,
   "metadata": {},
   "outputs": [
    {
     "name": "stdout",
     "output_type": "stream",
     "text": [
      "Model: \"sequential_1\"\n",
      "_________________________________________________________________\n",
      "Layer (type)                 Output Shape              Param #   \n",
      "=================================================================\n",
      "embedding_1 (Embedding)      (None, 50, 16)            32000     \n",
      "_________________________________________________________________\n",
      "conv1d (Conv1D)              (None, 46, 16)            1296      \n",
      "_________________________________________________________________\n",
      "flatten_1 (Flatten)          (None, 736)               0         \n",
      "_________________________________________________________________\n",
      "dense_2 (Dense)              (None, 2)                 1474      \n",
      "=================================================================\n",
      "Total params: 34,770\n",
      "Trainable params: 34,770\n",
      "Non-trainable params: 0\n",
      "_________________________________________________________________\n"
     ]
    }
   ],
   "source": [
    "model_cnn = tf.keras.Sequential([\n",
    "    tf.keras.layers.Embedding(vocab_size, embedding_dim, input_length = max_length), \n",
    "    tf.keras.layers.Conv1D(16, 5, activation='relu'), \n",
    "    tf.keras.layers.Flatten(),\n",
    "    tf.keras.layers.Dense(units=2, activation='softmax')\n",
    "])\n",
    "\n",
    "model_cnn.summary()"
   ]
  },
  {
   "cell_type": "code",
   "execution_count": 21,
   "metadata": {},
   "outputs": [
    {
     "name": "stdout",
     "output_type": "stream",
     "text": [
      "Epoch 1/30\n",
      "157/157 [==============================] - 0s 2ms/step - loss: 0.6837 - accuracy: 0.5694 - val_loss: 0.6871 - val_accuracy: 0.5539\n",
      "Epoch 2/30\n",
      "157/157 [==============================] - 0s 1ms/step - loss: 0.5898 - accuracy: 0.6958 - val_loss: 0.5669 - val_accuracy: 0.7190\n",
      "Epoch 3/30\n",
      "157/157 [==============================] - 0s 1ms/step - loss: 0.4063 - accuracy: 0.8110 - val_loss: 0.6316 - val_accuracy: 0.6823\n",
      "Epoch 4/30\n",
      "157/157 [==============================] - 0s 1ms/step - loss: 0.3270 - accuracy: 0.8424 - val_loss: 0.6574 - val_accuracy: 0.6835\n",
      "Epoch 5/30\n",
      "157/157 [==============================] - 0s 1ms/step - loss: 0.2747 - accuracy: 0.8672 - val_loss: 0.6947 - val_accuracy: 0.7156\n",
      "Epoch 6/30\n",
      "157/157 [==============================] - 0s 1ms/step - loss: 0.2367 - accuracy: 0.8832 - val_loss: 0.7654 - val_accuracy: 0.6892\n",
      "Epoch 7/30\n",
      "157/157 [==============================] - 0s 1ms/step - loss: 0.2059 - accuracy: 0.9022 - val_loss: 0.8566 - val_accuracy: 0.7076\n",
      "Epoch 8/30\n",
      "157/157 [==============================] - 0s 1ms/step - loss: 0.1864 - accuracy: 0.9094 - val_loss: 0.9165 - val_accuracy: 0.6972\n",
      "Epoch 9/30\n",
      "157/157 [==============================] - 0s 1ms/step - loss: 0.1697 - accuracy: 0.9140 - val_loss: 0.9792 - val_accuracy: 0.6984\n",
      "Epoch 10/30\n",
      "157/157 [==============================] - 0s 1ms/step - loss: 0.1557 - accuracy: 0.9206 - val_loss: 1.0625 - val_accuracy: 0.7018\n",
      "Epoch 11/30\n",
      "157/157 [==============================] - 0s 1ms/step - loss: 0.1452 - accuracy: 0.9244 - val_loss: 1.1442 - val_accuracy: 0.7076\n",
      "Epoch 12/30\n",
      "157/157 [==============================] - 0s 1ms/step - loss: 0.1374 - accuracy: 0.9270 - val_loss: 1.1745 - val_accuracy: 0.6995\n",
      "Epoch 13/30\n",
      "157/157 [==============================] - 0s 1ms/step - loss: 0.1288 - accuracy: 0.9318 - val_loss: 1.2596 - val_accuracy: 0.7018\n",
      "Epoch 14/30\n",
      "157/157 [==============================] - 0s 1ms/step - loss: 0.1255 - accuracy: 0.9278 - val_loss: 1.3156 - val_accuracy: 0.6984\n",
      "Epoch 15/30\n",
      "157/157 [==============================] - 0s 1ms/step - loss: 0.1193 - accuracy: 0.9344 - val_loss: 1.3418 - val_accuracy: 0.7064\n",
      "Epoch 16/30\n",
      "157/157 [==============================] - 0s 1ms/step - loss: 0.1127 - accuracy: 0.9390 - val_loss: 1.3864 - val_accuracy: 0.7076\n",
      "Epoch 17/30\n",
      "157/157 [==============================] - 0s 1ms/step - loss: 0.1084 - accuracy: 0.9376 - val_loss: 1.4688 - val_accuracy: 0.7053\n",
      "Epoch 18/30\n",
      "157/157 [==============================] - 0s 1ms/step - loss: 0.1069 - accuracy: 0.9384 - val_loss: 1.5363 - val_accuracy: 0.6927\n",
      "Epoch 19/30\n",
      "157/157 [==============================] - 0s 1ms/step - loss: 0.1068 - accuracy: 0.9372 - val_loss: 1.5622 - val_accuracy: 0.6961\n",
      "Epoch 20/30\n",
      "157/157 [==============================] - 0s 1ms/step - loss: 0.1051 - accuracy: 0.9376 - val_loss: 1.6200 - val_accuracy: 0.6972\n",
      "Epoch 21/30\n",
      "157/157 [==============================] - 0s 1ms/step - loss: 0.1022 - accuracy: 0.9410 - val_loss: 1.6419 - val_accuracy: 0.7007\n",
      "Epoch 22/30\n",
      "157/157 [==============================] - 0s 1ms/step - loss: 0.0992 - accuracy: 0.9408 - val_loss: 1.7108 - val_accuracy: 0.6984\n",
      "Epoch 23/30\n",
      "157/157 [==============================] - 0s 1ms/step - loss: 0.1000 - accuracy: 0.9428 - val_loss: 1.7235 - val_accuracy: 0.7018\n",
      "Epoch 24/30\n",
      "157/157 [==============================] - 0s 1ms/step - loss: 0.0967 - accuracy: 0.9400 - val_loss: 1.8103 - val_accuracy: 0.6984\n",
      "Epoch 25/30\n",
      "157/157 [==============================] - 0s 1ms/step - loss: 0.0963 - accuracy: 0.9436 - val_loss: 1.8430 - val_accuracy: 0.6904\n",
      "Epoch 26/30\n",
      "157/157 [==============================] - 0s 1ms/step - loss: 0.0957 - accuracy: 0.9372 - val_loss: 1.8771 - val_accuracy: 0.6961\n",
      "Epoch 27/30\n",
      "157/157 [==============================] - 0s 1ms/step - loss: 0.0957 - accuracy: 0.9382 - val_loss: 1.9075 - val_accuracy: 0.6961\n",
      "Epoch 28/30\n",
      "157/157 [==============================] - 0s 1ms/step - loss: 0.0931 - accuracy: 0.9428 - val_loss: 1.9430 - val_accuracy: 0.6950\n",
      "Epoch 29/30\n",
      "157/157 [==============================] - 0s 1ms/step - loss: 0.0938 - accuracy: 0.9382 - val_loss: 1.9772 - val_accuracy: 0.6904\n",
      "Epoch 30/30\n",
      "157/157 [==============================] - 0s 1ms/step - loss: 0.0912 - accuracy: 0.9446 - val_loss: 2.0139 - val_accuracy: 0.6892\n"
     ]
    },
    {
     "data": {
      "image/png": "[encoded data removed]",
      "text/plain": [
       "<Figure size 432x288 with 1 Axes>"
      ]
     },
     "metadata": {
      "needs_background": "light"
     },
     "output_type": "display_data"
    },
    {
     "data": {
      "image/png": "[encoded data removed]",
      "text/plain": [
       "<Figure size 432x288 with 1 Axes>"
      ]
     },
     "metadata": {
      "needs_background": "light"
     },
     "output_type": "display_data"
    }
   ],
   "source": [
    "fit_model_show_results(model_cnn)"
   ]
  },
  {
   "cell_type": "markdown",
   "metadata": {},
   "source": [
    "## GRU"
   ]
  },
  {
   "cell_type": "code",
   "execution_count": 22,
   "metadata": {},
   "outputs": [
    {
     "name": "stdout",
     "output_type": "stream",
     "text": [
      "Model: \"sequential_2\"\n",
      "_________________________________________________________________\n",
      "Layer (type)                 Output Shape              Param #   \n",
      "=================================================================\n",
      "embedding_2 (Embedding)      (None, 50, 16)            32000     \n",
      "_________________________________________________________________\n",
      "bidirectional (Bidirectional (None, 64)                9600      \n",
      "_________________________________________________________________\n",
      "dense_3 (Dense)              (None, 2)                 130       \n",
      "=================================================================\n",
      "Total params: 41,730\n",
      "Trainable params: 41,730\n",
      "Non-trainable params: 0\n",
      "_________________________________________________________________\n"
     ]
    }
   ],
   "source": [
    "model_gru = tf.keras.Sequential([\n",
    "    tf.keras.layers.Embedding(vocab_size, embedding_dim, input_length = max_length), \n",
    "    tf.keras.layers.Bidirectional(tf.keras.layers.GRU(32)),\n",
    "    tf.keras.layers.Dense(units=2, activation='softmax')\n",
    "    \n",
    "])\n",
    "\n",
    "model_gru.summary()"
   ]
  },
  {
   "cell_type": "code",
   "execution_count": 23,
   "metadata": {},
   "outputs": [
    {
     "name": "stdout",
     "output_type": "stream",
     "text": [
      "Epoch 1/30\n",
      "157/157 [==============================] - 3s 22ms/step - loss: 0.6645 - accuracy: 0.5886 - val_loss: 0.6062 - val_accuracy: 0.6846\n",
      "Epoch 2/30\n",
      "157/157 [==============================] - 3s 19ms/step - loss: 0.4794 - accuracy: 0.7622 - val_loss: 0.5843 - val_accuracy: 0.7317\n",
      "Epoch 3/30\n",
      "157/157 [==============================] - 3s 20ms/step - loss: 0.3802 - accuracy: 0.8190 - val_loss: 0.6127 - val_accuracy: 0.7053\n",
      "Epoch 4/30\n",
      "157/157 [==============================] - 3s 19ms/step - loss: 0.3316 - accuracy: 0.8418 - val_loss: 0.6911 - val_accuracy: 0.7385\n",
      "Epoch 5/30\n",
      "157/157 [==============================] - 3s 21ms/step - loss: 0.3042 - accuracy: 0.8560 - val_loss: 0.7093 - val_accuracy: 0.6950\n",
      "Epoch 6/30\n",
      "157/157 [==============================] - 3s 20ms/step - loss: 0.2857 - accuracy: 0.8580 - val_loss: 0.7336 - val_accuracy: 0.7305\n",
      "Epoch 7/30\n",
      "157/157 [==============================] - 3s 20ms/step - loss: 0.2694 - accuracy: 0.8704 - val_loss: 0.9758 - val_accuracy: 0.7030\n",
      "Epoch 8/30\n",
      "157/157 [==============================] - 3s 21ms/step - loss: 0.2552 - accuracy: 0.8734 - val_loss: 0.9132 - val_accuracy: 0.7167\n",
      "Epoch 9/30\n",
      "157/157 [==============================] - 3s 21ms/step - loss: 0.2446 - accuracy: 0.8840 - val_loss: 0.9688 - val_accuracy: 0.7167\n",
      "Epoch 10/30\n",
      "157/157 [==============================] - 3s 20ms/step - loss: 0.2344 - accuracy: 0.8806 - val_loss: 1.0484 - val_accuracy: 0.7202\n",
      "Epoch 11/30\n",
      "157/157 [==============================] - 3s 20ms/step - loss: 0.2259 - accuracy: 0.8874 - val_loss: 1.0563 - val_accuracy: 0.7156\n",
      "Epoch 12/30\n",
      "157/157 [==============================] - 3s 20ms/step - loss: 0.2172 - accuracy: 0.8898 - val_loss: 1.1232 - val_accuracy: 0.7053\n",
      "Epoch 13/30\n",
      "157/157 [==============================] - 3s 20ms/step - loss: 0.2132 - accuracy: 0.8958 - val_loss: 1.1185 - val_accuracy: 0.7156\n",
      "Epoch 14/30\n",
      "157/157 [==============================] - 3s 20ms/step - loss: 0.2059 - accuracy: 0.8928 - val_loss: 1.2408 - val_accuracy: 0.7144\n",
      "Epoch 15/30\n",
      "157/157 [==============================] - 3s 20ms/step - loss: 0.1986 - accuracy: 0.8994 - val_loss: 1.2208 - val_accuracy: 0.6984\n",
      "Epoch 16/30\n",
      "157/157 [==============================] - 3s 20ms/step - loss: 0.2034 - accuracy: 0.8970 - val_loss: 1.3062 - val_accuracy: 0.7053\n",
      "Epoch 17/30\n",
      "157/157 [==============================] - 3s 20ms/step - loss: 0.1958 - accuracy: 0.9024 - val_loss: 1.4929 - val_accuracy: 0.7041\n",
      "Epoch 18/30\n",
      "157/157 [==============================] - 3s 20ms/step - loss: 0.1943 - accuracy: 0.8960 - val_loss: 1.4053 - val_accuracy: 0.6961\n",
      "Epoch 19/30\n",
      "157/157 [==============================] - 3s 20ms/step - loss: 0.1868 - accuracy: 0.9060 - val_loss: 1.4182 - val_accuracy: 0.7030\n",
      "Epoch 20/30\n",
      "157/157 [==============================] - 3s 19ms/step - loss: 0.1809 - accuracy: 0.9038 - val_loss: 1.5316 - val_accuracy: 0.6984\n",
      "Epoch 21/30\n",
      "157/157 [==============================] - 3s 19ms/step - loss: 0.1749 - accuracy: 0.9078 - val_loss: 1.6096 - val_accuracy: 0.6995\n",
      "Epoch 22/30\n",
      "157/157 [==============================] - 3s 20ms/step - loss: 0.1825 - accuracy: 0.9044 - val_loss: 1.4872 - val_accuracy: 0.6984\n",
      "Epoch 23/30\n",
      "157/157 [==============================] - 3s 19ms/step - loss: 0.1685 - accuracy: 0.9112 - val_loss: 1.7051 - val_accuracy: 0.6950\n",
      "Epoch 24/30\n",
      "157/157 [==============================] - 3s 20ms/step - loss: 0.1621 - accuracy: 0.9114 - val_loss: 1.7762 - val_accuracy: 0.6938\n",
      "Epoch 25/30\n",
      "157/157 [==============================] - 3s 19ms/step - loss: 0.1660 - accuracy: 0.9122 - val_loss: 1.8074 - val_accuracy: 0.7007\n",
      "Epoch 26/30\n",
      "157/157 [==============================] - 3s 19ms/step - loss: 0.1596 - accuracy: 0.9108 - val_loss: 1.8166 - val_accuracy: 0.6950\n",
      "Epoch 27/30\n",
      "157/157 [==============================] - 3s 19ms/step - loss: 0.1643 - accuracy: 0.9122 - val_loss: 1.8260 - val_accuracy: 0.7007\n",
      "Epoch 28/30\n",
      "157/157 [==============================] - 3s 19ms/step - loss: 0.1516 - accuracy: 0.9178 - val_loss: 1.7961 - val_accuracy: 0.6881\n",
      "Epoch 29/30\n",
      "157/157 [==============================] - 3s 20ms/step - loss: 0.1431 - accuracy: 0.9204 - val_loss: 2.0416 - val_accuracy: 0.6938\n",
      "Epoch 30/30\n",
      "157/157 [==============================] - 4s 23ms/step - loss: 0.1375 - accuracy: 0.9222 - val_loss: 2.0945 - val_accuracy: 0.6915\n"
     ]
    },
    {
     "data": {
      "image/png": "[encoded data removed]",
      "text/plain": [
       "<Figure size 432x288 with 1 Axes>"
      ]
     },
     "metadata": {
      "needs_background": "light"
     },
     "output_type": "display_data"
    },
    {
     "data": {
      "image/png": "[encoded data removed]",
      "text/plain": [
       "<Figure size 432x288 with 1 Axes>"
      ]
     },
     "metadata": {
      "needs_background": "light"
     },
     "output_type": "display_data"
    }
   ],
   "source": [
    "fit_model_show_results(model_gru)"
   ]
  },
  {
   "cell_type": "markdown",
   "metadata": {},
   "source": [
    "## LSTM"
   ]
  },
  {
   "cell_type": "code",
   "execution_count": 24,
   "metadata": {},
   "outputs": [
    {
     "name": "stdout",
     "output_type": "stream",
     "text": [
      "Model: \"sequential_3\"\n",
      "_________________________________________________________________\n",
      "Layer (type)                 Output Shape              Param #   \n",
      "=================================================================\n",
      "embedding_3 (Embedding)      (None, 50, 16)            32000     \n",
      "_________________________________________________________________\n",
      "bidirectional_1 (Bidirection (None, 32)                4224      \n",
      "_________________________________________________________________\n",
      "dense_4 (Dense)              (None, 2)                 66        \n",
      "=================================================================\n",
      "Total params: 36,290\n",
      "Trainable params: 36,290\n",
      "Non-trainable params: 0\n",
      "_________________________________________________________________\n"
     ]
    }
   ],
   "source": [
    "model_lstm = tf.keras.Sequential([\n",
    "    tf.keras.layers.Embedding(vocab_size, embedding_dim, input_length = max_length), \n",
    "    tf.keras.layers.Bidirectional(tf.keras.layers.LSTM(embedding_dim)),\n",
    "    tf.keras.layers.Dense(units=2, activation='softmax')\n",
    "    \n",
    "])\n",
    "\n",
    "model_lstm.summary()"
   ]
  },
  {
   "cell_type": "code",
   "execution_count": 25,
   "metadata": {},
   "outputs": [
    {
     "name": "stdout",
     "output_type": "stream",
     "text": [
      "Epoch 1/30\n",
      "157/157 [==============================] - 3s 20ms/step - loss: 0.6773 - accuracy: 0.5730 - val_loss: 0.6634 - val_accuracy: 0.6021\n",
      "Epoch 2/30\n",
      "157/157 [==============================] - 2s 16ms/step - loss: 0.5518 - accuracy: 0.7278 - val_loss: 0.5690 - val_accuracy: 0.7144\n",
      "Epoch 3/30\n",
      "157/157 [==============================] - 2s 15ms/step - loss: 0.4077 - accuracy: 0.8082 - val_loss: 0.5988 - val_accuracy: 0.7259\n",
      "Epoch 4/30\n",
      "157/157 [==============================] - 3s 16ms/step - loss: 0.3430 - accuracy: 0.8408 - val_loss: 0.6258 - val_accuracy: 0.7190\n",
      "Epoch 5/30\n",
      "157/157 [==============================] - 3s 17ms/step - loss: 0.3081 - accuracy: 0.8558 - val_loss: 0.6837 - val_accuracy: 0.7317\n",
      "Epoch 6/30\n",
      "157/157 [==============================] - 3s 17ms/step - loss: 0.2870 - accuracy: 0.8658 - val_loss: 0.7305 - val_accuracy: 0.7305\n",
      "Epoch 7/30\n",
      "157/157 [==============================] - 3s 17ms/step - loss: 0.2667 - accuracy: 0.8736 - val_loss: 0.7899 - val_accuracy: 0.7271\n",
      "Epoch 8/30\n",
      "157/157 [==============================] - 3s 17ms/step - loss: 0.2508 - accuracy: 0.8790 - val_loss: 0.9651 - val_accuracy: 0.7133\n",
      "Epoch 9/30\n",
      "157/157 [==============================] - 3s 17ms/step - loss: 0.2495 - accuracy: 0.8810 - val_loss: 0.9005 - val_accuracy: 0.7305\n",
      "Epoch 10/30\n",
      "157/157 [==============================] - 3s 17ms/step - loss: 0.2346 - accuracy: 0.8854 - val_loss: 0.9150 - val_accuracy: 0.7236\n",
      "Epoch 11/30\n",
      "157/157 [==============================] - 2s 16ms/step - loss: 0.2251 - accuracy: 0.8902 - val_loss: 0.9496 - val_accuracy: 0.7213\n",
      "Epoch 12/30\n",
      "157/157 [==============================] - 3s 17ms/step - loss: 0.2142 - accuracy: 0.8946 - val_loss: 1.1334 - val_accuracy: 0.7443\n",
      "Epoch 13/30\n",
      "157/157 [==============================] - 3s 18ms/step - loss: 0.2110 - accuracy: 0.8954 - val_loss: 1.0932 - val_accuracy: 0.7317\n",
      "Epoch 14/30\n",
      "157/157 [==============================] - 3s 18ms/step - loss: 0.1974 - accuracy: 0.9004 - val_loss: 1.1408 - val_accuracy: 0.7167\n",
      "Epoch 15/30\n",
      "157/157 [==============================] - 3s 18ms/step - loss: 0.1988 - accuracy: 0.9000 - val_loss: 1.1382 - val_accuracy: 0.7362\n",
      "Epoch 16/30\n",
      "157/157 [==============================] - 3s 17ms/step - loss: 0.1820 - accuracy: 0.9074 - val_loss: 1.3621 - val_accuracy: 0.7282\n",
      "Epoch 17/30\n",
      "157/157 [==============================] - 3s 18ms/step - loss: 0.1982 - accuracy: 0.9016 - val_loss: 1.2271 - val_accuracy: 0.7167\n",
      "Epoch 18/30\n",
      "157/157 [==============================] - 3s 18ms/step - loss: 0.1773 - accuracy: 0.9100 - val_loss: 1.2753 - val_accuracy: 0.7190\n",
      "Epoch 19/30\n",
      "157/157 [==============================] - 3s 18ms/step - loss: 0.1665 - accuracy: 0.9174 - val_loss: 1.3610 - val_accuracy: 0.7179\n",
      "Epoch 20/30\n",
      "157/157 [==============================] - 3s 20ms/step - loss: 0.1606 - accuracy: 0.9166 - val_loss: 1.3878 - val_accuracy: 0.7190\n",
      "Epoch 21/30\n",
      "157/157 [==============================] - 3s 21ms/step - loss: 0.1675 - accuracy: 0.9148 - val_loss: 1.4311 - val_accuracy: 0.7213\n",
      "Epoch 22/30\n",
      "157/157 [==============================] - 3s 20ms/step - loss: 0.1587 - accuracy: 0.9140 - val_loss: 1.6329 - val_accuracy: 0.7156\n",
      "Epoch 23/30\n",
      "157/157 [==============================] - 3s 19ms/step - loss: 0.1519 - accuracy: 0.9210 - val_loss: 1.6065 - val_accuracy: 0.7167\n",
      "Epoch 24/30\n",
      "157/157 [==============================] - 3s 19ms/step - loss: 0.1465 - accuracy: 0.9206 - val_loss: 1.6324 - val_accuracy: 0.7213\n",
      "Epoch 25/30\n",
      "157/157 [==============================] - 3s 18ms/step - loss: 0.1435 - accuracy: 0.9230 - val_loss: 1.6362 - val_accuracy: 0.7202\n",
      "Epoch 26/30\n",
      "157/157 [==============================] - 3s 18ms/step - loss: 0.1435 - accuracy: 0.9170 - val_loss: 1.7905 - val_accuracy: 0.7179\n",
      "Epoch 27/30\n",
      "157/157 [==============================] - 3s 18ms/step - loss: 0.1377 - accuracy: 0.9246 - val_loss: 1.7800 - val_accuracy: 0.7213\n",
      "Epoch 28/30\n",
      "157/157 [==============================] - 3s 18ms/step - loss: 0.1397 - accuracy: 0.9246 - val_loss: 1.8789 - val_accuracy: 0.7259\n",
      "Epoch 29/30\n",
      "157/157 [==============================] - 3s 19ms/step - loss: 0.1440 - accuracy: 0.9166 - val_loss: 1.7727 - val_accuracy: 0.7156\n",
      "Epoch 30/30\n",
      "157/157 [==============================] - 3s 18ms/step - loss: 0.1412 - accuracy: 0.9216 - val_loss: 1.5709 - val_accuracy: 0.6927\n"
     ]
    },
    {
     "data": {
      "image/png": "[encoded data removed]",
      "text/plain": [
       "<Figure size 432x288 with 1 Axes>"
      ]
     },
     "metadata": {
      "needs_background": "light"
     },
     "output_type": "display_data"
    },
    {
     "data": {
      "image/png": "[encoded data removed]",
      "text/plain": [
       "<Figure size 432x288 with 1 Axes>"
      ]
     },
     "metadata": {
      "needs_background": "light"
     },
     "output_type": "display_data"
    }
   ],
   "source": [
    "fit_model_show_results(model_lstm)"
   ]
  },
  {
   "cell_type": "markdown",
   "metadata": {},
   "source": [
    "## Multiple LSTM"
   ]
  },
  {
   "cell_type": "code",
   "execution_count": 26,
   "metadata": {},
   "outputs": [
    {
     "name": "stdout",
     "output_type": "stream",
     "text": [
      "Model: \"sequential_4\"\n",
      "_________________________________________________________________\n",
      "Layer (type)                 Output Shape              Param #   \n",
      "=================================================================\n",
      "embedding_4 (Embedding)      (None, 50, 16)            32000     \n",
      "_________________________________________________________________\n",
      "bidirectional_2 (Bidirection (None, 50, 32)            4224      \n",
      "_________________________________________________________________\n",
      "bidirectional_3 (Bidirection (None, 32)                6272      \n",
      "_________________________________________________________________\n",
      "dense_5 (Dense)              (None, 2)                 66        \n",
      "=================================================================\n",
      "Total params: 42,562\n",
      "Trainable params: 42,562\n",
      "Non-trainable params: 0\n",
      "_________________________________________________________________\n"
     ]
    }
   ],
   "source": [
    "model_mlstm = tf.keras.Sequential([\n",
    "    tf.keras.layers.Embedding(vocab_size, embedding_dim, input_length = max_length), \n",
    "    tf.keras.layers.Bidirectional(tf.keras.layers.LSTM(embedding_dim, return_sequences=True)),\n",
    "    tf.keras.layers.Bidirectional(tf.keras.layers.LSTM(embedding_dim)),\n",
    "    tf.keras.layers.Dense(units=2, activation='softmax')\n",
    "    \n",
    "])\n",
    "\n",
    "model_mlstm.summary()"
   ]
  },
  {
   "cell_type": "code",
   "execution_count": 27,
   "metadata": {},
   "outputs": [
    {
     "name": "stdout",
     "output_type": "stream",
     "text": [
      "Epoch 1/30\n",
      "157/157 [==============================] - 6s 36ms/step - loss: 0.6697 - accuracy: 0.5800 - val_loss: 0.6212 - val_accuracy: 0.6411\n",
      "Epoch 2/30\n",
      "157/157 [==============================] - 5s 31ms/step - loss: 0.4849 - accuracy: 0.7578 - val_loss: 0.5570 - val_accuracy: 0.7213\n",
      "Epoch 3/30\n",
      "157/157 [==============================] - 5s 32ms/step - loss: 0.3705 - accuracy: 0.8244 - val_loss: 0.6561 - val_accuracy: 0.7305\n",
      "Epoch 4/30\n",
      "157/157 [==============================] - 5s 33ms/step - loss: 0.3302 - accuracy: 0.8422 - val_loss: 0.6312 - val_accuracy: 0.7328\n",
      "Epoch 5/30\n",
      "157/157 [==============================] - 6s 35ms/step - loss: 0.2945 - accuracy: 0.8624 - val_loss: 0.7619 - val_accuracy: 0.7179\n",
      "Epoch 6/30\n",
      "157/157 [==============================] - 5s 34ms/step - loss: 0.2753 - accuracy: 0.8692 - val_loss: 0.8275 - val_accuracy: 0.7144\n",
      "Epoch 7/30\n",
      "157/157 [==============================] - 5s 32ms/step - loss: 0.2613 - accuracy: 0.8770 - val_loss: 0.8148 - val_accuracy: 0.7213\n",
      "Epoch 8/30\n",
      "157/157 [==============================] - 5s 32ms/step - loss: 0.2373 - accuracy: 0.8884 - val_loss: 0.9214 - val_accuracy: 0.7099\n",
      "Epoch 9/30\n",
      "157/157 [==============================] - 5s 33ms/step - loss: 0.2201 - accuracy: 0.8968 - val_loss: 0.9645 - val_accuracy: 0.7167\n",
      "Epoch 10/30\n",
      "157/157 [==============================] - 5s 35ms/step - loss: 0.2088 - accuracy: 0.9038 - val_loss: 0.9867 - val_accuracy: 0.7133\n",
      "Epoch 11/30\n",
      "157/157 [==============================] - 5s 33ms/step - loss: 0.2019 - accuracy: 0.9010 - val_loss: 1.0539 - val_accuracy: 0.7202\n",
      "Epoch 12/30\n",
      "157/157 [==============================] - 5s 33ms/step - loss: 0.1929 - accuracy: 0.9062 - val_loss: 1.0969 - val_accuracy: 0.7133\n",
      "Epoch 13/30\n",
      "157/157 [==============================] - 5s 34ms/step - loss: 0.1797 - accuracy: 0.9102 - val_loss: 1.1565 - val_accuracy: 0.7099\n",
      "Epoch 14/30\n",
      "157/157 [==============================] - 5s 33ms/step - loss: 0.1713 - accuracy: 0.9108 - val_loss: 1.1476 - val_accuracy: 0.7064\n",
      "Epoch 15/30\n",
      "157/157 [==============================] - 5s 32ms/step - loss: 0.1626 - accuracy: 0.9182 - val_loss: 1.3344 - val_accuracy: 0.7018\n",
      "Epoch 16/30\n",
      "157/157 [==============================] - 5s 33ms/step - loss: 0.1607 - accuracy: 0.9154 - val_loss: 1.2636 - val_accuracy: 0.7099\n",
      "Epoch 17/30\n",
      "157/157 [==============================] - 5s 34ms/step - loss: 0.1613 - accuracy: 0.9104 - val_loss: 1.2738 - val_accuracy: 0.7179\n",
      "Epoch 18/30\n",
      "157/157 [==============================] - 5s 33ms/step - loss: 0.1649 - accuracy: 0.9128 - val_loss: 1.2608 - val_accuracy: 0.7190\n",
      "Epoch 19/30\n",
      "157/157 [==============================] - 5s 31ms/step - loss: 0.1528 - accuracy: 0.9192 - val_loss: 1.3068 - val_accuracy: 0.7156\n",
      "Epoch 20/30\n",
      "157/157 [==============================] - 5s 33ms/step - loss: 0.1483 - accuracy: 0.9198 - val_loss: 1.4894 - val_accuracy: 0.6950\n",
      "Epoch 21/30\n",
      "157/157 [==============================] - 5s 35ms/step - loss: 0.1383 - accuracy: 0.9248 - val_loss: 1.4771 - val_accuracy: 0.7076\n",
      "Epoch 22/30\n",
      "157/157 [==============================] - 5s 34ms/step - loss: 0.1297 - accuracy: 0.9280 - val_loss: 1.5091 - val_accuracy: 0.7122\n",
      "Epoch 23/30\n",
      "157/157 [==============================] - 6s 37ms/step - loss: 0.1371 - accuracy: 0.9232 - val_loss: 1.4996 - val_accuracy: 0.7144\n",
      "Epoch 24/30\n",
      "157/157 [==============================] - 6s 37ms/step - loss: 0.1376 - accuracy: 0.9242 - val_loss: 1.5356 - val_accuracy: 0.7041\n",
      "Epoch 25/30\n",
      "157/157 [==============================] - 5s 35ms/step - loss: 0.1645 - accuracy: 0.9132 - val_loss: 1.3045 - val_accuracy: 0.6938\n",
      "Epoch 26/30\n",
      "157/157 [==============================] - 5s 33ms/step - loss: 0.1445 - accuracy: 0.9230 - val_loss: 1.3815 - val_accuracy: 0.7053\n",
      "Epoch 27/30\n",
      "157/157 [==============================] - 5s 35ms/step - loss: 0.1354 - accuracy: 0.9256 - val_loss: 1.4228 - val_accuracy: 0.6984\n",
      "Epoch 28/30\n",
      "157/157 [==============================] - 6s 36ms/step - loss: 0.1413 - accuracy: 0.9230 - val_loss: 1.3266 - val_accuracy: 0.7018\n",
      "Epoch 29/30\n",
      "157/157 [==============================] - 5s 32ms/step - loss: 0.1295 - accuracy: 0.9270 - val_loss: 1.5134 - val_accuracy: 0.7087\n",
      "Epoch 30/30\n",
      "157/157 [==============================] - 5s 32ms/step - loss: 0.1229 - accuracy: 0.9334 - val_loss: 1.5432 - val_accuracy: 0.7030\n"
     ]
    },
    {
     "data": {
      "image/png": "[encoded data removed]",
      "text/plain": [
       "<Figure size 432x288 with 1 Axes>"
      ]
     },
     "metadata": {
      "needs_background": "light"
     },
     "output_type": "display_data"
    },
    {
     "data": {
      "image/png": "[encoded data removed]",
      "text/plain": [
       "<Figure size 432x288 with 1 Axes>"
      ]
     },
     "metadata": {
      "needs_background": "light"
     },
     "output_type": "display_data"
    }
   ],
   "source": [
    "fit_model_show_results(model_mlstm)"
   ]
  },
  {
   "cell_type": "markdown",
   "metadata": {},
   "source": [
    "## predict reviews"
   ]
  },
  {
   "cell_type": "code",
   "execution_count": 28,
   "metadata": {},
   "outputs": [],
   "source": [
    "review1 = \"\"\"I loved this movie\"\"\"\n",
    "\n",
    "review2 = \"\"\"that was the worst movie I've ever seen\"\"\"\n",
    "\n",
    "review3 = \"\"\"too much violence even for a Bond film\"\"\"\n",
    "\n",
    "review4 = \"\"\"a captivating recounting of a cherished myth\"\"\"\n",
    "\n",
    "review5 = \"\"\"I saw this movie yesterday and I was feeling low to start with,\n",
    " but it was such a wonderful movie that it lifted my spirits and brightened \n",
    " my day, you can\\'t go wrong with a movie with Whoopi Goldberg in it.\"\"\"\n",
    "\n",
    "review6 = \"\"\"I don\\'t understand why it received an oscar recommendation\n",
    " for best movie, it was long and boring\"\"\"\n",
    "\n",
    "review7 = \"\"\"the scenery was magnificent, the CGI of the dogs was so realistic I\n",
    " thought they were played by real dogs even though they talked!\"\"\"\n",
    "\n",
    "review8 = \"\"\"The ending was so sad and yet so uplifting at the same time. \n",
    " I'm looking for an excuse to see it again\"\"\"\n",
    "\n",
    "review9 = \"\"\"I had expected so much more from a movie made by the director \n",
    " who made my most favorite movie ever, I was very disappointed in the tedious \n",
    " story\"\"\"\n",
    "\n",
    "review10 = \"I wish I could watch this movie every day for the rest of my life\"\n",
    "\n",
    "more_reviews = [review1, review2, review3, review4, review5, review6, review7, \n",
    "               review8, review9, review10]"
   ]
  },
  {
   "cell_type": "code",
   "execution_count": 29,
   "metadata": {},
   "outputs": [
    {
     "name": "stdout",
     "output_type": "stream",
     "text": [
      "===== Embeddings Model =====\n",
      "\n",
      "I loved this movie  ==>  +ve  ==>  [2.3672532e-04 9.9976331e-01]\n",
      "that was the worst movie I've ever seen  ==>  -ve  ==>  [0.9230552  0.07694481]\n",
      "too much violence even for a Bond film  ==>  -ve  ==>  [0.997413   0.00258701]\n",
      "a captivating recounting of a cherished myth  ==>  +ve  ==>  [0.00489878 0.9951013 ]\n",
      "I saw this movie yesterday and I was feeling low to start with,\n",
      " but it was such a wonderful movie that it lifted my spirits and brightened \n",
      " my day, you can't go wrong with a movie with Whoopi Goldberg in it.  ==>  -ve  ==>  [0.98402876 0.0159713 ]\n",
      "I don't understand why it received an oscar recommendation\n",
      " for best movie, it was long and boring  ==>  +ve  ==>  [0.00881003 0.99118996]\n",
      "the scenery was magnificent, the CGI of the dogs was so realistic I\n",
      " thought they were played by real dogs even though they talked!  ==>  +ve  ==>  [0.15259273 0.8474072 ]\n",
      "The ending was so sad and yet so uplifting at the same time. \n",
      " I'm looking for an excuse to see it again  ==>  -ve  ==>  [9.990087e-01 9.913491e-04]\n",
      "I had expected so much more from a movie made by the director \n",
      " who made my most favorite movie ever, I was very disappointed in the tedious \n",
      " story  ==>  -ve  ==>  [0.9799129  0.02008709]\n",
      "I wish I could watch this movie every day for the rest of my life  ==>  +ve  ==>  [0.37001744 0.6299826 ]\n"
     ]
    }
   ],
   "source": [
    "print(\"===== Embeddings Model =====\\n\")\n",
    "\n",
    "predict_reviews(model, more_reviews)"
   ]
  },
  {
   "cell_type": "code",
   "execution_count": 30,
   "metadata": {},
   "outputs": [
    {
     "name": "stdout",
     "output_type": "stream",
     "text": [
      "===== CNN Model =====\n",
      "\n",
      "I loved this movie  ==>  +ve  ==>  [0.00542446 0.9945755 ]\n",
      "that was the worst movie I've ever seen  ==>  -ve  ==>  [0.99745744 0.00254263]\n",
      "too much violence even for a Bond film  ==>  -ve  ==>  [9.9999452e-01 5.4375464e-06]\n",
      "a captivating recounting of a cherished myth  ==>  +ve  ==>  [1.6981133e-04 9.9983013e-01]\n",
      "I saw this movie yesterday and I was feeling low to start with,\n",
      " but it was such a wonderful movie that it lifted my spirits and brightened \n",
      " my day, you can't go wrong with a movie with Whoopi Goldberg in it.  ==>  +ve  ==>  [3.2162993e-06 9.9999678e-01]\n",
      "I don't understand why it received an oscar recommendation\n",
      " for best movie, it was long and boring  ==>  +ve  ==>  [8.641289e-04 9.991359e-01]\n",
      "the scenery was magnificent, the CGI of the dogs was so realistic I\n",
      " thought they were played by real dogs even though they talked!  ==>  -ve  ==>  [9.9999797e-01 2.0783486e-06]\n",
      "The ending was so sad and yet so uplifting at the same time. \n",
      " I'm looking for an excuse to see it again  ==>  -ve  ==>  [9.9996257e-01 3.7419642e-05]\n",
      "I had expected so much more from a movie made by the director \n",
      " who made my most favorite movie ever, I was very disappointed in the tedious \n",
      " story  ==>  -ve  ==>  [0.9163096  0.08369045]\n",
      "I wish I could watch this movie every day for the rest of my life  ==>  -ve  ==>  [0.89439267 0.10560731]\n"
     ]
    }
   ],
   "source": [
    "print(\"===== CNN Model =====\\n\")\n",
    "\n",
    "predict_reviews(model_cnn, more_reviews)"
   ]
  },
  {
   "cell_type": "code",
   "execution_count": 31,
   "metadata": {},
   "outputs": [
    {
     "name": "stdout",
     "output_type": "stream",
     "text": [
      "===== GRU Model =====\n",
      "\n",
      "I loved this movie  ==>  +ve  ==>  [4.0397324e-04 9.9959606e-01]\n",
      "that was the worst movie I've ever seen  ==>  -ve  ==>  [9.9996603e-01 3.3962253e-05]\n",
      "too much violence even for a Bond film  ==>  -ve  ==>  [9.9993515e-01 6.4889042e-05]\n",
      "a captivating recounting of a cherished myth  ==>  +ve  ==>  [6.3763924e-05 9.9993622e-01]\n",
      "I saw this movie yesterday and I was feeling low to start with,\n",
      " but it was such a wonderful movie that it lifted my spirits and brightened \n",
      " my day, you can't go wrong with a movie with Whoopi Goldberg in it.  ==>  +ve  ==>  [1.6144691e-05 9.9998391e-01]\n",
      "I don't understand why it received an oscar recommendation\n",
      " for best movie, it was long and boring  ==>  -ve  ==>  [0.90324676 0.0967533 ]\n",
      "the scenery was magnificent, the CGI of the dogs was so realistic I\n",
      " thought they were played by real dogs even though they talked!  ==>  -ve  ==>  [9.9994624e-01 5.3753913e-05]\n",
      "The ending was so sad and yet so uplifting at the same time. \n",
      " I'm looking for an excuse to see it again  ==>  +ve  ==>  [0.3699442 0.6300558]\n",
      "I had expected so much more from a movie made by the director \n",
      " who made my most favorite movie ever, I was very disappointed in the tedious \n",
      " story  ==>  +ve  ==>  [0.12148491 0.87851506]\n",
      "I wish I could watch this movie every day for the rest of my life  ==>  -ve  ==>  [0.99081576 0.00918427]\n"
     ]
    }
   ],
   "source": [
    "print(\"===== GRU Model =====\\n\")\n",
    "\n",
    "predict_reviews(model_gru, more_reviews)"
   ]
  },
  {
   "cell_type": "code",
   "execution_count": 32,
   "metadata": {},
   "outputs": [
    {
     "name": "stdout",
     "output_type": "stream",
     "text": [
      "===== LSTM Model =====\n",
      "\n",
      "I loved this movie  ==>  +ve  ==>  [2.8425355e-05 9.9997163e-01]\n",
      "that was the worst movie I've ever seen  ==>  -ve  ==>  [0.9930964  0.00690353]\n",
      "too much violence even for a Bond film  ==>  -ve  ==>  [0.98553616 0.01446381]\n",
      "a captivating recounting of a cherished myth  ==>  +ve  ==>  [4.4642872e-04 9.9955350e-01]\n",
      "I saw this movie yesterday and I was feeling low to start with,\n",
      " but it was such a wonderful movie that it lifted my spirits and brightened \n",
      " my day, you can't go wrong with a movie with Whoopi Goldberg in it.  ==>  +ve  ==>  [0.02568324 0.9743167 ]\n",
      "I don't understand why it received an oscar recommendation\n",
      " for best movie, it was long and boring  ==>  +ve  ==>  [0.00459471 0.9954053 ]\n",
      "the scenery was magnificent, the CGI of the dogs was so realistic I\n",
      " thought they were played by real dogs even though they talked!  ==>  -ve  ==>  [0.997216   0.00278399]\n",
      "The ending was so sad and yet so uplifting at the same time. \n",
      " I'm looking for an excuse to see it again  ==>  -ve  ==>  [0.98239166 0.01760839]\n",
      "I had expected so much more from a movie made by the director \n",
      " who made my most favorite movie ever, I was very disappointed in the tedious \n",
      " story  ==>  -ve  ==>  [0.947052 0.052948]\n",
      "I wish I could watch this movie every day for the rest of my life  ==>  -ve  ==>  [0.68880594 0.311194  ]\n"
     ]
    }
   ],
   "source": [
    "print(\"===== LSTM Model =====\\n\")\n",
    "\n",
    "predict_reviews(model_lstm, more_reviews)"
   ]
  },
  {
   "cell_type": "code",
   "execution_count": 33,
   "metadata": {},
   "outputs": [
    {
     "name": "stdout",
     "output_type": "stream",
     "text": [
      "===== Multiple LSTM Model =====\n",
      "\n",
      "WARNING:tensorflow:5 out of the last 5 calls to <function Model.make_predict_function.<locals>.predict_function at 0x7f82064cd4c0> triggered tf.function retracing. Tracing is expensive and the excessive number of tracings could be due to (1) creating @tf.function repeatedly in a loop, (2) passing tensors with different shapes, (3) passing Python objects instead of tensors. For (1), please define your @tf.function outside of the loop. For (2), @tf.function has experimental_relax_shapes=True option that relaxes argument shapes that can avoid unnecessary retracing. For (3), please refer to https://www.tensorflow.org/tutorials/customization/performance#python_or_tensor_args and https://www.tensorflow.org/api_docs/python/tf/function for  more details.\n"
     ]
    },
    {
     "name": "stderr",
     "output_type": "stream",
     "text": [
      "WARNING:tensorflow:5 out of the last 5 calls to <function Model.make_predict_function.<locals>.predict_function at 0x7f82064cd4c0> triggered tf.function retracing. Tracing is expensive and the excessive number of tracings could be due to (1) creating @tf.function repeatedly in a loop, (2) passing tensors with different shapes, (3) passing Python objects instead of tensors. For (1), please define your @tf.function outside of the loop. For (2), @tf.function has experimental_relax_shapes=True option that relaxes argument shapes that can avoid unnecessary retracing. For (3), please refer to https://www.tensorflow.org/tutorials/customization/performance#python_or_tensor_args and https://www.tensorflow.org/api_docs/python/tf/function for  more details.\n"
     ]
    },
    {
     "name": "stdout",
     "output_type": "stream",
     "text": [
      "I loved this movie  ==>  +ve  ==>  [4.8914814e-04 9.9951088e-01]\n",
      "that was the worst movie I've ever seen  ==>  -ve  ==>  [0.99569595 0.00430402]\n",
      "too much violence even for a Bond film  ==>  -ve  ==>  [0.99792224 0.00207783]\n",
      "a captivating recounting of a cherished myth  ==>  +ve  ==>  [4.8834464e-04 9.9951160e-01]\n",
      "I saw this movie yesterday and I was feeling low to start with,\n",
      " but it was such a wonderful movie that it lifted my spirits and brightened \n",
      " my day, you can't go wrong with a movie with Whoopi Goldberg in it.  ==>  +ve  ==>  [4.8505040e-04 9.9951494e-01]\n",
      "I don't understand why it received an oscar recommendation\n",
      " for best movie, it was long and boring  ==>  -ve  ==>  [0.897934   0.10206599]\n",
      "the scenery was magnificent, the CGI of the dogs was so realistic I\n",
      " thought they were played by real dogs even though they talked!  ==>  -ve  ==>  [0.9956632  0.00433674]\n",
      "The ending was so sad and yet so uplifting at the same time. \n",
      " I'm looking for an excuse to see it again  ==>  -ve  ==>  [0.9951774  0.00482263]\n",
      "I had expected so much more from a movie made by the director \n",
      " who made my most favorite movie ever, I was very disappointed in the tedious \n",
      " story  ==>  -ve  ==>  [0.9975586  0.00244142]\n",
      "I wish I could watch this movie every day for the rest of my life  ==>  +ve  ==>  [0.04735133 0.9526487 ]\n"
     ]
    }
   ],
   "source": [
    "print(\"===== Multiple LSTM Model =====\\n\")\n",
    "\n",
    "predict_reviews(model_mlstm, more_reviews)"
   ]
  },
  {
   "cell_type": "code",
   "execution_count": null,
   "metadata": {},
   "outputs": [],
   "source": []
  }
 ],
 "metadata": {
  "kernelspec": {
   "display_name": "Python [conda env:py3-tf2]",
   "language": "python",
   "name": "conda-env-py3-tf2-py"
  },
  "language_info": {
   "codemirror_mode": {
    "name": "ipython",
    "version": 3
   },
   "file_extension": ".py",
   "mimetype": "text/x-python",
   "name": "python",
   "nbconvert_exporter": "python",
   "pygments_lexer": "ipython3",
   "version": "3.8.5"
  }
 },
 "nbformat": 4,
 "nbformat_minor": 4
}
