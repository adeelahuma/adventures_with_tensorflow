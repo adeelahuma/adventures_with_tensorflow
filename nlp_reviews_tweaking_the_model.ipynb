{
 "cells": [
  {
   "cell_type": "code",
   "execution_count": 1,
   "metadata": {},
   "outputs": [],
   "source": [
    "import tensorflow as tf \n",
    "from tensorflow.keras.preprocessing.text import Tokenizer\n",
    "from tensorflow.keras.preprocessing.sequence import pad_sequences\n",
    "\n",
    "import pandas as pd\n",
    "import numpy as np\n",
    "import matplotlib.pyplot as plt "
   ]
  },
  {
   "cell_type": "code",
   "execution_count": 2,
   "metadata": {},
   "outputs": [],
   "source": [
    "np.random.seed(0)"
   ]
  },
  {
   "cell_type": "code",
   "execution_count": 3,
   "metadata": {},
   "outputs": [],
   "source": [
    "# _URL = \"\"\n",
    "\n",
    "# data = tf.keras.utils.get_file(_URL)"
   ]
  },
  {
   "cell_type": "code",
   "execution_count": 4,
   "metadata": {},
   "outputs": [
    {
     "data": {
      "text/html": [
       "<div>\n",
       "<style scoped>\n",
       "    .dataframe tbody tr th:only-of-type {\n",
       "        vertical-align: middle;\n",
       "    }\n",
       "\n",
       "    .dataframe tbody tr th {\n",
       "        vertical-align: top;\n",
       "    }\n",
       "\n",
       "    .dataframe thead th {\n",
       "        text-align: right;\n",
       "    }\n",
       "</style>\n",
       "<table border=\"1\" class=\"dataframe\">\n",
       "  <thead>\n",
       "    <tr style=\"text-align: right;\">\n",
       "      <th></th>\n",
       "      <th>text</th>\n",
       "      <th>sentiment</th>\n",
       "    </tr>\n",
       "  </thead>\n",
       "  <tbody>\n",
       "    <tr>\n",
       "      <th>0</th>\n",
       "      <td>So there is no way for me to plug it in here i...</td>\n",
       "      <td>0</td>\n",
       "    </tr>\n",
       "    <tr>\n",
       "      <th>1</th>\n",
       "      <td>Good case Excellent value.</td>\n",
       "      <td>1</td>\n",
       "    </tr>\n",
       "    <tr>\n",
       "      <th>2</th>\n",
       "      <td>Great for the jawbone.</td>\n",
       "      <td>1</td>\n",
       "    </tr>\n",
       "    <tr>\n",
       "      <th>3</th>\n",
       "      <td>Tied to charger for conversations lasting more...</td>\n",
       "      <td>0</td>\n",
       "    </tr>\n",
       "    <tr>\n",
       "      <th>4</th>\n",
       "      <td>The mic is great.</td>\n",
       "      <td>1</td>\n",
       "    </tr>\n",
       "  </tbody>\n",
       "</table>\n",
       "</div>"
      ],
      "text/plain": [
       "                                                text  sentiment\n",
       "0  So there is no way for me to plug it in here i...          0\n",
       "1                         Good case Excellent value.          1\n",
       "2                             Great for the jawbone.          1\n",
       "3  Tied to charger for conversations lasting more...          0\n",
       "4                                  The mic is great.          1"
      ]
     },
     "execution_count": 4,
     "metadata": {},
     "output_type": "execute_result"
    }
   ],
   "source": [
    "data = pd.read_csv('data/combined_data.csv', index_col=0)\n",
    "data.head()"
   ]
  },
  {
   "cell_type": "code",
   "execution_count": 5,
   "metadata": {},
   "outputs": [],
   "source": [
    "reviews = data['text'].tolist()"
   ]
  },
  {
   "cell_type": "code",
   "execution_count": 6,
   "metadata": {},
   "outputs": [],
   "source": [
    "review_labels = data['sentiment'].tolist()\n"
   ]
  },
  {
   "cell_type": "code",
   "execution_count": 7,
   "metadata": {},
   "outputs": [
    {
     "name": "stdout",
     "output_type": "stream",
     "text": [
      "743\n"
     ]
    },
    {
     "data": {
      "text/plain": [
       "'As for the \"mains also uninspired.\\t0\\nThis is the place where I first had pho and it was amazing!!\\t1\\nThis wonderful experience made this place a must-stop whenever we are in town again.\\t1\\nIf the food isn\\'t bad enough for you, then enjoy dealing with the world\\'s worst/annoying drunk people.\\t0\\nVery very fun chef.\\t1\\nOrdered a double cheeseburger & got a single patty that was falling apart (picture uploaded) Yeah, still sucks.\\t0\\nGreat place to have a couple drinks and watch any and all sporting events as the walls are covered with TV\\'s.\\t1\\nIf it were possible to give them zero stars, they\\'d have it.\\t0\\nThe descriptions said \"yum yum sauce\" and another said \"eel sauce yet another said \"spicy mayo\"...well NONE of the rolls had sauces on them.'"
      ]
     },
     "execution_count": 7,
     "metadata": {},
     "output_type": "execute_result"
    }
   ],
   "source": [
    "index_of_longest_review = np.argmax([len(rev) for rev in reviews])\n",
    "print(len(reviews[index_of_longest_review]))\n",
    "reviews[index_of_longest_review]"
   ]
  },
  {
   "cell_type": "code",
   "execution_count": 8,
   "metadata": {},
   "outputs": [],
   "source": [
    "##split in test and train"
   ]
  },
  {
   "cell_type": "code",
   "execution_count": 9,
   "metadata": {},
   "outputs": [
    {
     "data": {
      "text/plain": [
       "(1594, 398)"
      ]
     },
     "execution_count": 9,
     "metadata": {},
     "output_type": "execute_result"
    }
   ],
   "source": [
    "split_index = int(np.ceil(len(reviews)*0.8))\n",
    "\n",
    "train_reviews = reviews[0:split_index]\n",
    "test_reviews = reviews[split_index: ]\n",
    "\n",
    "len(train_reviews), len(test_reviews)"
   ]
  },
  {
   "cell_type": "code",
   "execution_count": 10,
   "metadata": {},
   "outputs": [
    {
     "data": {
      "text/plain": [
       "(1594, 398)"
      ]
     },
     "execution_count": 10,
     "metadata": {},
     "output_type": "execute_result"
    }
   ],
   "source": [
    "train_labels = review_labels[0 : split_index]\n",
    "test_labels = review_labels[split_index : ]\n",
    "\n",
    "len(train_labels), len(test_labels)"
   ]
  },
  {
   "cell_type": "code",
   "execution_count": 11,
   "metadata": {},
   "outputs": [],
   "source": [
    "#make numpy arrays\n",
    "train_labels = np.array(train_labels)\n",
    "test_labels  = np.array(test_labels)"
   ]
  },
  {
   "cell_type": "code",
   "execution_count": null,
   "metadata": {},
   "outputs": [],
   "source": []
  },
  {
   "cell_type": "markdown",
   "metadata": {},
   "source": [
    "## Tokenize the reviews"
   ]
  },
  {
   "cell_type": "code",
   "execution_count": 12,
   "metadata": {},
   "outputs": [],
   "source": [
    "vocab_size = 500\n",
    "embedding_dim = 16\n",
    "max_length = 250"
   ]
  },
  {
   "cell_type": "code",
   "execution_count": 13,
   "metadata": {},
   "outputs": [],
   "source": [
    "tokenizer = Tokenizer(oov_token='<OOV>', num_words=vocab_size)"
   ]
  },
  {
   "cell_type": "code",
   "execution_count": 14,
   "metadata": {},
   "outputs": [],
   "source": [
    "tokenizer.fit_on_texts(train_reviews)"
   ]
  },
  {
   "cell_type": "code",
   "execution_count": 15,
   "metadata": {},
   "outputs": [
    {
     "name": "stdout",
     "output_type": "stream",
     "text": [
      "word_index:  2834\n"
     ]
    }
   ],
   "source": [
    "word_index = tokenizer.word_index\n",
    "print ('word_index: ' , len(word_index))"
   ]
  },
  {
   "cell_type": "markdown",
   "metadata": {},
   "source": [
    "## Generate Sequence of Reviews"
   ]
  },
  {
   "cell_type": "code",
   "execution_count": 16,
   "metadata": {},
   "outputs": [],
   "source": [
    "train_sequences = tokenizer.texts_to_sequences(train_reviews)"
   ]
  },
  {
   "cell_type": "code",
   "execution_count": 17,
   "metadata": {},
   "outputs": [],
   "source": [
    "# train_sequences[0]"
   ]
  },
  {
   "cell_type": "code",
   "execution_count": 18,
   "metadata": {},
   "outputs": [
    {
     "data": {
      "text/plain": [
       "array([ 26,  68,   7,  63, 173,  13,  67,   8, 219,   5,  16,  82,  16,\n",
       "         2, 198, 364,   4,  75, 109,   6,   1,   0,   0,   0,   0,   0,\n",
       "         0,   0,   0,   0,   0,   0,   0,   0,   0,   0,   0,   0,   0,\n",
       "         0,   0,   0,   0,   0,   0,   0,   0,   0,   0,   0,   0,   0,\n",
       "         0,   0,   0,   0,   0,   0,   0,   0,   0,   0,   0,   0,   0,\n",
       "         0,   0,   0,   0,   0,   0,   0,   0,   0,   0,   0,   0,   0,\n",
       "         0,   0,   0,   0,   0,   0,   0,   0,   0,   0,   0,   0,   0,\n",
       "         0,   0,   0,   0,   0,   0,   0,   0,   0,   0,   0,   0,   0,\n",
       "         0,   0,   0,   0,   0,   0,   0,   0,   0,   0,   0,   0,   0,\n",
       "         0,   0,   0,   0,   0,   0,   0,   0,   0,   0,   0,   0,   0,\n",
       "         0,   0,   0,   0,   0,   0,   0,   0,   0,   0,   0,   0,   0,\n",
       "         0,   0,   0,   0,   0,   0,   0,   0,   0,   0,   0,   0,   0,\n",
       "         0,   0,   0,   0,   0,   0,   0,   0,   0,   0,   0,   0,   0,\n",
       "         0,   0,   0,   0,   0,   0,   0,   0,   0,   0,   0,   0,   0,\n",
       "         0,   0,   0,   0,   0,   0,   0,   0,   0,   0,   0,   0,   0,\n",
       "         0,   0,   0,   0,   0,   0,   0,   0,   0,   0,   0,   0,   0,\n",
       "         0,   0,   0,   0,   0,   0,   0,   0,   0,   0,   0,   0,   0,\n",
       "         0,   0,   0,   0,   0,   0,   0,   0,   0,   0,   0,   0,   0,\n",
       "         0,   0,   0,   0,   0,   0,   0,   0,   0,   0,   0,   0,   0,\n",
       "         0,   0,   0], dtype=int32)"
      ]
     },
     "execution_count": 18,
     "metadata": {},
     "output_type": "execute_result"
    }
   ],
   "source": [
    "train_padded_sequences = pad_sequences(train_sequences, padding='post', maxlen=max_length, truncating='post')\n",
    "train_padded_sequences[0]"
   ]
  },
  {
   "cell_type": "code",
   "execution_count": 19,
   "metadata": {},
   "outputs": [
    {
     "data": {
      "text/plain": [
       "250"
      ]
     },
     "execution_count": 19,
     "metadata": {},
     "output_type": "execute_result"
    }
   ],
   "source": [
    "len(train_padded_sequences[0])"
   ]
  },
  {
   "cell_type": "code",
   "execution_count": 20,
   "metadata": {},
   "outputs": [
    {
     "data": {
      "text/plain": [
       "'So there is no way for me to plug it in here in the US unless I go by a converter.'"
      ]
     },
     "execution_count": 20,
     "metadata": {},
     "output_type": "execute_result"
    }
   ],
   "source": [
    "train_reviews[0]"
   ]
  },
  {
   "cell_type": "code",
   "execution_count": 21,
   "metadata": {},
   "outputs": [
    {
     "data": {
      "text/plain": [
       "[26,\n",
       " 68,\n",
       " 7,\n",
       " 63,\n",
       " 173,\n",
       " 13,\n",
       " 67,\n",
       " 8,\n",
       " 219,\n",
       " 5,\n",
       " 16,\n",
       " 82,\n",
       " 16,\n",
       " 2,\n",
       " 198,\n",
       " 364,\n",
       " 4,\n",
       " 75,\n",
       " 109,\n",
       " 6,\n",
       " 1]"
      ]
     },
     "execution_count": 21,
     "metadata": {},
     "output_type": "execute_result"
    }
   ],
   "source": [
    "train_sequences[0]"
   ]
  },
  {
   "cell_type": "code",
   "execution_count": 22,
   "metadata": {},
   "outputs": [],
   "source": [
    "# test data\n",
    "\n",
    "test_sequences = tokenizer.texts_to_sequences(test_reviews)\n",
    "test_padded_sequences = pad_sequences(test_sequences, maxlen = max_length, padding='post', truncating='post')"
   ]
  },
  {
   "cell_type": "markdown",
   "metadata": {},
   "source": [
    "## Create Model"
   ]
  },
  {
   "cell_type": "code",
   "execution_count": 23,
   "metadata": {},
   "outputs": [],
   "source": [
    "l0 = tf.keras.layers.Embedding(vocab_size, embedding_dim, input_length = max_length)\n",
    "# l1 = tf.keras.layers.Flatten()\n",
    "\n",
    "l1 = tf.keras.layers.GlobalAveragePooling1D()\n",
    "\n",
    "l2 = tf.keras.layers.Dense(units=6, activation='relu')\n",
    "\n",
    "l3 = tf.keras.layers.Dense(units=2, activation='softmax')"
   ]
  },
  {
   "cell_type": "code",
   "execution_count": 24,
   "metadata": {},
   "outputs": [],
   "source": [
    "model = tf.keras.Sequential([l0, l1, l2, l3])\n",
    "\n",
    "model.compile(loss=tf.keras.losses.SparseCategoricalCrossentropy(), metrics=['accuracy'], optimizer='adam')"
   ]
  },
  {
   "cell_type": "code",
   "execution_count": 25,
   "metadata": {},
   "outputs": [
    {
     "name": "stdout",
     "output_type": "stream",
     "text": [
      "Model: \"sequential\"\n",
      "_________________________________________________________________\n",
      "Layer (type)                 Output Shape              Param #   \n",
      "=================================================================\n",
      "embedding (Embedding)        (None, 250, 16)           8000      \n",
      "_________________________________________________________________\n",
      "global_average_pooling1d (Gl (None, 16)                0         \n",
      "_________________________________________________________________\n",
      "dense (Dense)                (None, 6)                 102       \n",
      "_________________________________________________________________\n",
      "dense_1 (Dense)              (None, 2)                 14        \n",
      "=================================================================\n",
      "Total params: 8,116\n",
      "Trainable params: 8,116\n",
      "Non-trainable params: 0\n",
      "_________________________________________________________________\n"
     ]
    }
   ],
   "source": [
    "model.summary()"
   ]
  },
  {
   "cell_type": "markdown",
   "metadata": {},
   "source": [
    "## Train Model"
   ]
  },
  {
   "cell_type": "code",
   "execution_count": 26,
   "metadata": {},
   "outputs": [
    {
     "name": "stdout",
     "output_type": "stream",
     "text": [
      "Epoch 1/25\n",
      "50/50 [==============================] - 0s 5ms/step - loss: 0.6926 - accuracy: 0.5220 - val_loss: 0.6991 - val_accuracy: 0.4121\n",
      "Epoch 2/25\n",
      "50/50 [==============================] - 0s 1ms/step - loss: 0.6921 - accuracy: 0.5220 - val_loss: 0.7009 - val_accuracy: 0.4121\n",
      "Epoch 3/25\n",
      "50/50 [==============================] - 0s 1ms/step - loss: 0.6918 - accuracy: 0.5220 - val_loss: 0.7009 - val_accuracy: 0.4121\n",
      "Epoch 4/25\n",
      "50/50 [==============================] - 0s 1ms/step - loss: 0.6917 - accuracy: 0.5220 - val_loss: 0.7001 - val_accuracy: 0.4121\n",
      "Epoch 5/25\n",
      "50/50 [==============================] - 0s 1ms/step - loss: 0.6911 - accuracy: 0.5226 - val_loss: 0.7020 - val_accuracy: 0.4121\n",
      "Epoch 6/25\n",
      "50/50 [==============================] - 0s 1ms/step - loss: 0.6907 - accuracy: 0.5226 - val_loss: 0.6995 - val_accuracy: 0.4121\n",
      "Epoch 7/25\n",
      "50/50 [==============================] - 0s 1ms/step - loss: 0.6892 - accuracy: 0.5226 - val_loss: 0.6968 - val_accuracy: 0.4121\n",
      "Epoch 8/25\n",
      "50/50 [==============================] - 0s 1ms/step - loss: 0.6874 - accuracy: 0.5376 - val_loss: 0.6918 - val_accuracy: 0.4623\n",
      "Epoch 9/25\n",
      "50/50 [==============================] - 0s 1ms/step - loss: 0.6850 - accuracy: 0.5402 - val_loss: 0.6935 - val_accuracy: 0.4397\n",
      "Epoch 10/25\n",
      "50/50 [==============================] - 0s 1ms/step - loss: 0.6811 - accuracy: 0.5577 - val_loss: 0.6870 - val_accuracy: 0.5201\n",
      "Epoch 11/25\n",
      "50/50 [==============================] - 0s 1ms/step - loss: 0.6762 - accuracy: 0.6154 - val_loss: 0.6755 - val_accuracy: 0.7236\n",
      "Epoch 12/25\n",
      "50/50 [==============================] - 0s 1ms/step - loss: 0.6690 - accuracy: 0.6851 - val_loss: 0.6865 - val_accuracy: 0.4799\n",
      "Epoch 13/25\n",
      "50/50 [==============================] - 0s 1ms/step - loss: 0.6605 - accuracy: 0.6631 - val_loss: 0.6732 - val_accuracy: 0.5427\n",
      "Epoch 14/25\n",
      "50/50 [==============================] - 0s 1ms/step - loss: 0.6486 - accuracy: 0.6832 - val_loss: 0.6499 - val_accuracy: 0.7261\n",
      "Epoch 15/25\n",
      "50/50 [==============================] - 0s 1ms/step - loss: 0.6356 - accuracy: 0.7001 - val_loss: 0.6495 - val_accuracy: 0.6482\n",
      "Epoch 16/25\n",
      "50/50 [==============================] - 0s 1ms/step - loss: 0.6201 - accuracy: 0.7327 - val_loss: 0.6547 - val_accuracy: 0.5452\n",
      "Epoch 17/25\n",
      "50/50 [==============================] - 0s 1ms/step - loss: 0.6083 - accuracy: 0.7327 - val_loss: 0.6330 - val_accuracy: 0.6407\n",
      "Epoch 18/25\n",
      "50/50 [==============================] - 0s 1ms/step - loss: 0.5871 - accuracy: 0.7478 - val_loss: 0.6029 - val_accuracy: 0.7588\n",
      "Epoch 19/25\n",
      "50/50 [==============================] - 0s 1ms/step - loss: 0.5660 - accuracy: 0.7735 - val_loss: 0.5973 - val_accuracy: 0.7437\n",
      "Epoch 20/25\n",
      "50/50 [==============================] - 0s 1ms/step - loss: 0.5488 - accuracy: 0.7792 - val_loss: 0.5998 - val_accuracy: 0.6583\n",
      "Epoch 21/25\n",
      "50/50 [==============================] - 0s 1ms/step - loss: 0.5289 - accuracy: 0.7898 - val_loss: 0.5748 - val_accuracy: 0.7487\n",
      "Epoch 22/25\n",
      "50/50 [==============================] - 0s 1ms/step - loss: 0.5081 - accuracy: 0.8168 - val_loss: 0.5807 - val_accuracy: 0.6683\n",
      "Epoch 23/25\n",
      "50/50 [==============================] - 0s 1ms/step - loss: 0.4916 - accuracy: 0.8199 - val_loss: 0.5529 - val_accuracy: 0.7513\n",
      "Epoch 24/25\n",
      "50/50 [==============================] - 0s 1ms/step - loss: 0.4720 - accuracy: 0.8237 - val_loss: 0.5323 - val_accuracy: 0.7864\n",
      "Epoch 25/25\n",
      "50/50 [==============================] - 0s 1ms/step - loss: 0.4623 - accuracy: 0.8118 - val_loss: 0.5291 - val_accuracy: 0.7839\n"
     ]
    }
   ],
   "source": [
    "EPOCHS = 25\n",
    "history = model.fit(train_padded_sequences,\n",
    "          train_labels,\n",
    "          validation_data=(test_padded_sequences,test_labels),\n",
    "          epochs=EPOCHS)"
   ]
  },
  {
   "cell_type": "markdown",
   "metadata": {},
   "source": [
    "## Visualize the Network"
   ]
  },
  {
   "cell_type": "code",
   "execution_count": 27,
   "metadata": {},
   "outputs": [
    {
     "data": {
      "image/png": "[encoded data removed]",
      "text/plain": [
       "<Figure size 432x288 with 1 Axes>"
      ]
     },
     "metadata": {
      "needs_background": "light"
     },
     "output_type": "display_data"
    }
   ],
   "source": [
    "rng = range(0,EPOCHS)\n",
    "loss = history.history['loss']\n",
    "val_loss = history.history['val_loss']\n",
    "\n",
    "plt.plot(rng, loss , label='Training Loss')\n",
    "plt.plot(rng, val_loss , label='Validation Loss')\n",
    "\n",
    "plt.legend()\n",
    "plt.show()"
   ]
  },
  {
   "cell_type": "code",
   "execution_count": 28,
   "metadata": {},
   "outputs": [
    {
     "data": {
      "image/png": "[encoded data removed]",
      "text/plain": [
       "<Figure size 432x288 with 1 Axes>"
      ]
     },
     "metadata": {
      "needs_background": "light"
     },
     "output_type": "display_data"
    }
   ],
   "source": [
    "accuracy = history.history['accuracy']\n",
    "val_accuracy = history.history['val_accuracy']\n",
    "\n",
    "plt.plot(rng, accuracy , label='Training accuracy')\n",
    "plt.plot(rng, val_accuracy , label='Validation accuracy')\n",
    "\n",
    "plt.legend()\n",
    "plt.show()"
   ]
  },
  {
   "cell_type": "code",
   "execution_count": null,
   "metadata": {},
   "outputs": [],
   "source": []
  },
  {
   "cell_type": "markdown",
   "metadata": {},
   "source": [
    "## Visualizing the Network"
   ]
  },
  {
   "cell_type": "code",
   "execution_count": 29,
   "metadata": {},
   "outputs": [],
   "source": [
    "# tuple_list = [(value, key) for (key, value) in word_index.items()]\n",
    "\n",
    "# reverse_word_index = dict(tuple_list)\n",
    "\n",
    "reverse_word_index  = {}\n",
    "for key, value in word_index.items():\n",
    "    reverse_word_index[value] = key\n"
   ]
  },
  {
   "cell_type": "code",
   "execution_count": 30,
   "metadata": {},
   "outputs": [
    {
     "data": {
      "text/plain": [
       "(500, 16)"
      ]
     },
     "execution_count": 30,
     "metadata": {},
     "output_type": "execute_result"
    }
   ],
   "source": [
    "embeddig_weights = l0.get_weights()[0]\n",
    "embeddig_weights.shape"
   ]
  },
  {
   "cell_type": "code",
   "execution_count": 31,
   "metadata": {},
   "outputs": [],
   "source": [
    "import io\n",
    "\n",
    "# embedding vectors and meta-data\n",
    "out_v = io.open('vecs.tsv', 'w', encoding='utf-8')  # contains weigh vector of each word\n",
    "out_m = io.open('meta.tsv', 'w', encoding='utf-8') # contain word\n"
   ]
  },
  {
   "cell_type": "code",
   "execution_count": 32,
   "metadata": {},
   "outputs": [
    {
     "data": {
      "text/plain": [
       "'-0.20052668\\t-0.16186894\\t-0.156911\\t0.21336836\\t-0.12704448\\t-0.26367295\\t-0.038937636\\t0.20128827\\t0.17940573\\t-0.265367\\t-0.19682974\\t-0.10255213\\t0.26033083\\t-0.19653033\\t0.02780927\\t0.14341252'"
      ]
     },
     "execution_count": 32,
     "metadata": {},
     "output_type": "execute_result"
    }
   ],
   "source": [
    "#tab delimited \n",
    "'\\t'.join([str(x) for x in embeddig_weights[1]])"
   ]
  },
  {
   "cell_type": "code",
   "execution_count": 33,
   "metadata": {},
   "outputs": [],
   "source": [
    "for word_num in range(1, vocab_size):\n",
    "    word = reverse_word_index[word_num]\n",
    "    embedding = embeddig_weights[word_num]\n",
    "    \n",
    "    out_m.write(word+\"\\n\")\n",
    "    out_v.write('\\t'.join([str(x) for x in embeddig_weights[1]]) + \"\\n\")\n",
    "\n",
    "out_v.close()\n",
    "out_m.close()"
   ]
  },
  {
   "cell_type": "code",
   "execution_count": 34,
   "metadata": {},
   "outputs": [],
   "source": [
    "try:\n",
    "  from google.colab import files\n",
    "except ImportError:\n",
    "  pass\n",
    "else:\n",
    "  files.download('vecs.tsv')\n",
    "  files.download('meta.tsv')"
   ]
  },
  {
   "cell_type": "markdown",
   "metadata": {},
   "source": [
    "## Predicting Sentiments"
   ]
  },
  {
   "cell_type": "code",
   "execution_count": 35,
   "metadata": {},
   "outputs": [
    {
     "data": {
      "text/plain": [
       "['I love chocolate',\n",
       " 'This restaurant sucks',\n",
       " 'OMG, what a shake!',\n",
       " 'Totally recommend this place for grilled sandwitches',\n",
       " 'I would lose my license instead of standing in long lines',\n",
       " 'please never come to this fish market, it smells too bad']"
      ]
     },
     "execution_count": 35,
     "metadata": {},
     "output_type": "execute_result"
    }
   ],
   "source": [
    "fake_reviews =['I love chocolate', \n",
    "              'This restaurant sucks',\n",
    "              'OMG, what a shake!', \n",
    "              'Totally recommend this place for grilled sandwitches', \n",
    "              'I would lose my license instead of standing in long lines', \n",
    "               'please never come to this fish market, it smells too bad']\n",
    "\n",
    "fake_reviews"
   ]
  },
  {
   "cell_type": "code",
   "execution_count": 36,
   "metadata": {},
   "outputs": [],
   "source": [
    "fake_seq = tokenizer.texts_to_sequences(fake_reviews)\n",
    "fake_pad_seq = pad_sequences(fake_seq, maxlen=max_length, padding='post', truncating='post')"
   ]
  },
  {
   "cell_type": "code",
   "execution_count": 37,
   "metadata": {},
   "outputs": [],
   "source": [
    "classes = model.predict(fake_pad_seq)\n",
    "            "
   ]
  },
  {
   "cell_type": "code",
   "execution_count": 41,
   "metadata": {},
   "outputs": [
    {
     "name": "stdout",
     "output_type": "stream",
     "text": [
      "I love chocolate\n",
      "+ve\n",
      "\n",
      "\n",
      "This restaurant sucks\n",
      "-ve\n",
      "\n",
      "\n",
      "OMG, what a shake!\n",
      "-ve\n",
      "\n",
      "\n",
      "Totally recommend this place for grilled sandwitches\n",
      "+ve\n",
      "\n",
      "\n",
      "I would lose my license instead of standing in long lines\n",
      "-ve\n",
      "\n",
      "\n",
      "please never come to this fish market, it smells too bad\n",
      "-ve\n",
      "\n",
      "\n"
     ]
    }
   ],
   "source": [
    "for i in range(0, len(fake_reviews)):\n",
    "    print(fake_reviews[i])\n",
    "    #print(classes[i])\n",
    "    print('-ve' if np.argmax(classes[i]) == 0 else '+ve')\n",
    "    print('\\n')"
   ]
  },
  {
   "cell_type": "code",
   "execution_count": null,
   "metadata": {},
   "outputs": [],
   "source": []
  },
  {
   "cell_type": "code",
   "execution_count": null,
   "metadata": {},
   "outputs": [],
   "source": []
  },
  {
   "cell_type": "code",
   "execution_count": null,
   "metadata": {},
   "outputs": [],
   "source": []
  },
  {
   "cell_type": "code",
   "execution_count": null,
   "metadata": {},
   "outputs": [],
   "source": []
  }
 ],
 "metadata": {
  "kernelspec": {
   "display_name": "Python [conda env:py3-tf2]",
   "language": "python",
   "name": "conda-env-py3-tf2-py"
  },
  "language_info": {
   "codemirror_mode": {
    "name": "ipython",
    "version": 3
   },
   "file_extension": ".py",
   "mimetype": "text/x-python",
   "name": "python",
   "nbconvert_exporter": "python",
   "pygments_lexer": "ipython3",
   "version": "3.8.5"
  }
 },
 "nbformat": 4,
 "nbformat_minor": 4
}
