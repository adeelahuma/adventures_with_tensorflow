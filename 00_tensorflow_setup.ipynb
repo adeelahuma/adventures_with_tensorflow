{
 "cells": [
  {
   "cell_type": "markdown",
   "metadata": {},
   "source": [
    "# Setting up Tensor flow "
   ]
  },
  {
   "cell_type": "markdown",
   "metadata": {},
   "source": [
    "create environment\n",
    "- conda create --name py3-tf2.0 python=3\n",
    "\n",
    "activate environment \n",
    "- conda activate py3-tf2.0\n",
    "\n",
    "install tensorflow \n",
    "- conda install tensorflow\n",
    "\n",
    "update to have latest version of TF \n",
    "- pip install --upgrade tensorflow\n",
    "\n",
    "to see the kernel in jypyter notebook \n",
    "- pip install ipykernel \n",
    "\n",
    "To check in jupyter notebook --> the option should appear under 'kernel'\n",
    "\n",
    "check version (tf.__version__) after importing tensorflow\n",
    "\n",
    "Additional pacakges to install\n",
    "- pip install scikit-learn\n",
    "- pip install tensorflow-datasets\n",
    "- pip install matplotlib\n",
    "\n",
    "You can go back between different kernels and use differenet versions of same pacakge\n",
    "\n",
    "To allow kernels/environments to show up , install the following  \n",
    "    - conda install nb_conda"
   ]
  },
  {
   "cell_type": "code",
   "execution_count": 1,
   "metadata": {},
   "outputs": [],
   "source": [
    "import tensorflow as tf"
   ]
  },
  {
   "cell_type": "code",
   "execution_count": 2,
   "metadata": {},
   "outputs": [
    {
     "name": "stdout",
     "output_type": "stream",
     "text": [
      "2.2.0\n"
     ]
    }
   ],
   "source": [
    "print(tf.__version__)"
   ]
  },
  {
   "cell_type": "code",
   "execution_count": null,
   "metadata": {},
   "outputs": [],
   "source": []
  }
 ],
 "metadata": {
  "kernelspec": {
   "display_name": "Python [conda env:py3-tf2.0]",
   "language": "python",
   "name": "conda-env-py3-tf2.0-py"
  },
  "language_info": {
   "codemirror_mode": {
    "name": "ipython",
    "version": 3
   },
   "file_extension": ".py",
   "mimetype": "text/x-python",
   "name": "python",
   "nbconvert_exporter": "python",
   "pygments_lexer": "ipython3",
   "version": "3.7.7"
  }
 },
 "nbformat": 4,
 "nbformat_minor": 4
}
